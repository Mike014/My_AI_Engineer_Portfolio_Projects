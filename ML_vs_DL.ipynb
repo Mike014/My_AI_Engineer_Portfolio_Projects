{
 "cells": [
  {
   "cell_type": "markdown",
   "metadata": {},
   "source": [
    "### **Text Summary: \"Deep Learning vs. Machine Learning: A Beginner’s Guide\"**\n",
    "\n",
    "The article explains the relationship between **Artificial Intelligence (AI), Machine Learning (ML) and Deep Learning (DL)**, clarifying the differences between these concepts.\n",
    "\n",
    "- **Artificial Intelligence (AI):** It is the general field that includes any system capable of performing tasks that require human intelligence.\n",
    "- **Machine Learning (ML):** It is a subcategory of AI that allows machines to learn from data without being explicitly programmed.\n",
    "- **Deep Learning (DL):** It is a subgroup of Machine Learning that uses **artificial neural networks** to learn in a more complex and autonomous way.\n",
    "\n",
    "### **Differences between Machine Learning and Deep Learning:**\n",
    "| **Machine Learning** | **Deep Learning** |\n",
    "|----------------------|------------------|\n",
    "| Requires less data | Requires large amounts of data |\n",
    "| Requires more human intervention | Autonomously learns from mistakes |\n",
    "| Faster training, but less accurate | Slower training, but more accurate |\n",
    "| Uses linear correlations | Finds complex nonlinear correlations |\n",
    "| Can run on CPUs | Requires GPUs for training |\n",
    "\n",
    "### **Real-world examples of AI and ML:**\n",
    "- **Deep Blue (1997):** The computer that beat the chess champion, but without autonomous learning capabilities.\n",
    "- **IBM Watson (2011):** Defeated Jeopardy! champions thanks to Machine Learning, learning from previous answers.\n",
    "- **AlphaGo (2015):** Defeated Go champions thanks to Deep Learning, learning to play without direct instructions.\n",
    "\n",
    "### **Importance of Big Data:**\n",
    "The advent of Deep Learning is linked to the availability of **large data sets (Big Data)**, which allow algorithms to improve over time.\n",
    "\n",
    "### **How ​​to start learning AI and ML?**\n",
    "The article suggests courses like:\n",
    "- **Machine Learning Specialization (Stanford & DeepLearning.AI)**\n",
    "- **Deep Learning Specialization (DeepLearning.AI)**\n",
    "- **AI for Everyone (DeepLearning.AI)** for those who want a general overview.\n",
    "\n",
    "In short, **Deep Learning is an evolution of Machine Learning**, using deep neural networks to improve machine learning and data processing."
   ]
  }
 ],
 "metadata": {
  "language_info": {
   "name": "python"
  }
 },
 "nbformat": 4,
 "nbformat_minor": 2
}
