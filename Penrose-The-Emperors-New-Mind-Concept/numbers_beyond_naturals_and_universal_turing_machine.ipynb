{
 "cells": [
  {
   "cell_type": "markdown",
   "id": "b4174255",
   "metadata": {},
   "source": [
    "# **Numbers beyond naturals** and **Universal Turing Machine**.\n",
    "\n",
    "---\n",
    "\n",
    "# 1) Numbers beyond naturals (negatives, fractions, decimals, irrationals)\n",
    "\n",
    "**Negatives and fractions.**\n",
    "These are easy: just add symbols for \"−\" and \"/\" in the encoding (e.g., in expanded binary). A TM can then operate on things like `−597/26` by treating them as finite sets of naturals (sign, numerator, denominator). **No new computability issues**: we remain in the \"finite\" world.\n",
    "\n",
    "**Finite decimals.**\n",
    "These are also just fractions (e.g., `3.14159265 = 314159265/100000000`). So already covered.\n",
    "\n",
    "**Infinite decimals (irrationals).**\n",
    "Here's the subtlety: a TM, by definition, **must halt** to deliver the output. It can't \"print\" an infinite number and say \"read while I continue\".\n",
    "Accepted solution: define a procedure that, **given n**, computes the **n-th digit** (or the integer part, then the first digit, then the second... each time halting). So we can \"generate\" π as a function that, for input `n`, returns the n-th digit. Numbers that admit such a procedure are called **computable**.\n",
    "Important fact: **most irrationals are non-computable** (there exists no TM that can produce their digits on demand). This will come back later when asking whether the brain/physical world is describable with purely computable structures.\n",
    "\n",
    "**Not just numbers.**\n",
    "Computability also applies to **formulas** and **symbolic manipulations** (algebra, trigonometry, calculus): just encode the symbols in 0/1 and a TM can implement formal rules.\n",
    "\n",
    "---\n",
    "\n",
    "# 2) The Universal Turing Machine (UTM)\n",
    "\n",
    "**Intuitive idea.**\n",
    "A **UTM (U)** is a special TM that can **imitate any other TM (T)**. How? We give it, as a **program**, the **description** of T (i.e., its instruction table encoded in 0/1) plus the **input** on which T should work. Then U behaves **exactly** like T on that input.\n",
    "\n",
    "**How it's done technically.**\n",
    "\n",
    "* Every TM has a table of rules; Penrose shows how to **encode it in binary** in a unique way (using \"contraction\" and special symbols for R, L, STOP, etc.).\n",
    "* This encoding is a **huge natural number**: we call it **n**. We then speak of the \"**n-th**\" TM, **Tₙ**.\n",
    "* We put on U's tape first **n** (i.e., the description of the machine to imitate) and then **m** (the input on which Tₙ should work), separated by a marker.\n",
    "* U continuously reads pieces of the description (n) and the input (m) to decide the next move, simulating Tₙ step by step.\n",
    "* Notation: **U(n, m) = Tₙ(m)**, when Tₙ is well-specified and halts.\n",
    "\n",
    "**Curious things that emerge.**\n",
    "\n",
    "* If you enumerate all TMs this way, **most numbers don't encode** a \"valid\" or useful machine: many are **\"duds\"** (missing instructions, broken encoding, or they never halt). That's fine: it's the price of a simple and general encoding.\n",
    "* Trivial TMs can have small numbers; simple but non-trivial TMs (like \"+1\" in expanded binary) end up with **very large** numbers: it's not conceptual inefficiency, it's that faithful encoding \"costs\" many bits.\n",
    "* A real UTM will be slow (it must \"jump\" back and forth on the tape between program and data), but **in principle it can simulate everything** that is algorithmic.\n",
    "\n",
    "**Connection to modern computers.**\n",
    "General-purpose computers are, **essentially**, UTMs: if you give them a **program** (software) + **data**, they can emulate any algorithm/TM. The concrete architecture may be very different, but the **computational power** is the same.\n",
    "\n",
    "---\n",
    "\n",
    "## To remember in one line\n",
    "\n",
    "* **Computable numbers**: those for which an algorithm exists that, given `n`, computes the n-th digit/approximation.\n",
    "* **UTM**: a machine that, with the description of another machine as input, **simulates** it. It's the theoretical model that explains why a single piece of hardware, by changing software, can do \"everything\"."
   ]
  }
 ],
 "metadata": {
  "language_info": {
   "name": "python"
  }
 },
 "nbformat": 4,
 "nbformat_minor": 5
}
