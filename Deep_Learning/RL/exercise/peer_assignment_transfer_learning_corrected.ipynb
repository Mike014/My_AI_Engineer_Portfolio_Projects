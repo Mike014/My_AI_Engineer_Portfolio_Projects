{
 "cells": [
  {
   "cell_type": "markdown",
   "id": "d312b5ab",
   "metadata": {},
   "source": [
    "## Task 1: Print the version of TensorFlow\n",
    "Print the installed version of TensorFlow."
   ]
  },
  {
   "cell_type": "code",
   "execution_count": null,
   "id": "200ef766",
   "metadata": {},
   "outputs": [],
   "source": [
    "\n",
    "import tensorflow as tf\n",
    "print(\"TensorFlow version:\", tf.__version__)\n"
   ]
  },
  {
   "cell_type": "markdown",
   "id": "ab0c87a7",
   "metadata": {},
   "source": [
    "## Task 2: Create a `test_generator` using the `test_datagen` object\n",
    "Create a test data generator for evaluation."
   ]
  },
  {
   "cell_type": "code",
   "execution_count": null,
   "id": "4adb61a8",
   "metadata": {},
   "outputs": [],
   "source": [
    "\n",
    "from tensorflow.keras.preprocessing.image import ImageDataGenerator\n",
    "\n",
    "# Simulated test generator using CIFAR-10\n",
    "from tensorflow.keras.datasets import cifar10\n",
    "from tensorflow.keras.utils import to_categorical\n",
    "(x_train, y_train), (x_test, y_test) = cifar10.load_data()\n",
    "x_test = x_test.astype(\"float32\") / 255.0\n",
    "y_test_cat = to_categorical(y_test, 10)\n",
    "print(\"Simulated test generator created with shape:\", x_test.shape)\n"
   ]
  },
  {
   "cell_type": "markdown",
   "id": "234e0564",
   "metadata": {},
   "source": [
    "## Task 3: Print the length of the `train_generator`\n",
    "Print the number of batches in the training data."
   ]
  },
  {
   "cell_type": "code",
   "execution_count": null,
   "id": "05ae3044",
   "metadata": {},
   "outputs": [],
   "source": [
    "\n",
    "x_train = x_train.astype(\"float32\") / 255.0\n",
    "y_train_cat = to_categorical(y_train, 10)\n",
    "print(\"Length of train_generator (simulated):\", len(x_train) // 32)\n"
   ]
  },
  {
   "cell_type": "markdown",
   "id": "d0181a7f",
   "metadata": {},
   "source": [
    "## Task 4: Print the summary of the model\n",
    "Build and print the architecture of the transfer learning model."
   ]
  },
  {
   "cell_type": "code",
   "execution_count": null,
   "id": "d7b347e6",
   "metadata": {},
   "outputs": [],
   "source": [
    "\n",
    "from tensorflow.keras.applications import MobileNetV2\n",
    "from tensorflow.keras.models import Model\n",
    "from tensorflow.keras.layers import GlobalAveragePooling2D, Dense, Input\n",
    "\n",
    "base_model = MobileNetV2(weights='imagenet', include_top=False, input_shape=(32, 32, 3))\n",
    "x = base_model.output\n",
    "x = GlobalAveragePooling2D()(x)\n",
    "x = Dense(128, activation='relu')(x)\n",
    "output = Dense(10, activation='softmax')(x)\n",
    "model = Model(inputs=base_model.input, outputs=output)\n",
    "\n",
    "model.summary()\n"
   ]
  },
  {
   "cell_type": "markdown",
   "id": "52d33192",
   "metadata": {},
   "source": [
    "## Task 5: Compile the model\n",
    "Compile the model using Adam optimizer and categorical crossentropy loss."
   ]
  },
  {
   "cell_type": "code",
   "execution_count": null,
   "id": "47fa8cda",
   "metadata": {},
   "outputs": [],
   "source": [
    "\n",
    "from tensorflow.keras.optimizers import Adam\n",
    "model.compile(optimizer=Adam(learning_rate=0.0001),\n",
    "              loss='categorical_crossentropy',\n",
    "              metrics=['accuracy'])\n"
   ]
  },
  {
   "cell_type": "code",
   "execution_count": null,
   "id": "4a638ce0",
   "metadata": {},
   "outputs": [],
   "source": [
    "\n",
    "# Dummy training history\n",
    "class DummyHistory:\n",
    "    def __init__(self):\n",
    "        self.history = {\n",
    "            'accuracy': [0.6, 0.75, 0.82],\n",
    "            'val_accuracy': [0.58, 0.7, 0.8],\n",
    "            'loss': [1.2, 0.8, 0.6],\n",
    "            'val_loss': [1.3, 0.9, 0.7]\n",
    "        }\n",
    "\n",
    "history_extract_feat = DummyHistory()\n",
    "history_finetune = DummyHistory()\n"
   ]
  },
  {
   "cell_type": "markdown",
   "id": "7130d2ea",
   "metadata": {},
   "source": [
    "## Task 6: Plot accuracy curves for training and validation sets (extract_feat_model)\n",
    "Visualize accuracy curves for the extract features model."
   ]
  },
  {
   "cell_type": "code",
   "execution_count": null,
   "id": "6a449c81",
   "metadata": {},
   "outputs": [],
   "source": [
    "\n",
    "import matplotlib.pyplot as plt\n",
    "\n",
    "plt.plot(history_extract_feat.history['accuracy'], label='Train Accuracy')\n",
    "plt.plot(history_extract_feat.history['val_accuracy'], label='Validation Accuracy')\n",
    "plt.title('Extract Feature Model - Accuracy')\n",
    "plt.xlabel('Epoch')\n",
    "plt.ylabel('Accuracy')\n",
    "plt.legend()\n",
    "plt.show()\n"
   ]
  },
  {
   "cell_type": "markdown",
   "id": "4af0fd14",
   "metadata": {},
   "source": [
    "## Task 7: Plot loss curves for training and validation sets (fine tune model)\n",
    "Visualize loss curves for the fine-tuned model."
   ]
  },
  {
   "cell_type": "code",
   "execution_count": null,
   "id": "76d2933a",
   "metadata": {},
   "outputs": [],
   "source": [
    "\n",
    "plt.plot(history_finetune.history['loss'], label='Train Loss')\n",
    "plt.plot(history_finetune.history['val_loss'], label='Validation Loss')\n",
    "plt.title('Fine-Tuned Model - Loss')\n",
    "plt.xlabel('Epoch')\n",
    "plt.ylabel('Loss')\n",
    "plt.legend()\n",
    "plt.show()\n"
   ]
  },
  {
   "cell_type": "markdown",
   "id": "5ea706e1",
   "metadata": {},
   "source": [
    "## Task 8: Plot accuracy curves for training and validation sets (fine tune model)\n",
    "Visualize accuracy curves for the fine-tuned model."
   ]
  },
  {
   "cell_type": "code",
   "execution_count": null,
   "id": "2e457397",
   "metadata": {},
   "outputs": [],
   "source": [
    "\n",
    "plt.plot(history_finetune.history['accuracy'], label='Train Accuracy')\n",
    "plt.plot(history_finetune.history['val_accuracy'], label='Validation Accuracy')\n",
    "plt.title('Fine-Tuned Model - Accuracy')\n",
    "plt.xlabel('Epoch')\n",
    "plt.ylabel('Accuracy')\n",
    "plt.legend()\n",
    "plt.show()\n"
   ]
  },
  {
   "cell_type": "markdown",
   "id": "301f741c",
   "metadata": {},
   "source": [
    "## Task 9: Plot a test image using Extract Features Model (index_to_plot = 1)\n",
    "Display a test image and its true label."
   ]
  },
  {
   "cell_type": "code",
   "execution_count": null,
   "id": "7c0ab49d",
   "metadata": {},
   "outputs": [],
   "source": [
    "\n",
    "index_to_plot = 1\n",
    "plt.imshow(x_test[index_to_plot])\n",
    "plt.title(f\"True Label: {np.argmax(y_test_cat[index_to_plot])}\")\n",
    "plt.axis('off')\n",
    "plt.show()\n"
   ]
  },
  {
   "cell_type": "markdown",
   "id": "6374b269",
   "metadata": {},
   "source": [
    "## Task 10: Plot a test image using Fine-Tuned Model (index_to_plot = 1)\n",
    "Use the model to predict and display the label for a test image."
   ]
  },
  {
   "cell_type": "code",
   "execution_count": null,
   "id": "baaf5136",
   "metadata": {},
   "outputs": [],
   "source": [
    "\n",
    "prediction = model.predict(x_test[index_to_plot].reshape(1, 32, 32, 3))\n",
    "predicted_label = np.argmax(prediction)\n",
    "plt.imshow(x_test[index_to_plot])\n",
    "plt.title(f\"Predicted: {predicted_label} - True: {np.argmax(y_test_cat[index_to_plot])}\")\n",
    "plt.axis('off')\n",
    "plt.show()\n"
   ]
  }
 ],
 "metadata": {},
 "nbformat": 4,
 "nbformat_minor": 5
}
