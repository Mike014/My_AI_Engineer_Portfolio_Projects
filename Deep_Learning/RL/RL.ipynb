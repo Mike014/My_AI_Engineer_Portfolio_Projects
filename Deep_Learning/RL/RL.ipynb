{
 "cells": [
  {
   "cell_type": "markdown",
   "id": "227396ca",
   "metadata": {},
   "source": [
    "# **Definition of Reinforcement Learning**\n",
    "\n",
    "- An **agent interacts** with an **environment** by **choosing actions**.\n",
    "- It **receives rewards** based on the effect of the actions on the environment.\n",
    "- The goal is to **maximize rewards over time**.\n"
   ]
  },
  {
   "cell_type": "markdown",
   "id": "f34213cc",
   "metadata": {},
   "source": [
    "## **What is Q-learning**\n",
    "\n",
    "**Q-learning** is a **reinforcement learning algorithm** that teaches an agent which action to perform in each state to **maximize cumulative rewards**. It uses the **Q(s, a)** function to estimate the expected value of an action in a state, updated via the **Bellman equation**.\n",
    "\n",
    "In complex environments, the Q-table is replaced by a **neural network (Q-network)** built with **Keras**. The network has:\n",
    "\n",
    "* **Input**: state\n",
    "* **Output**: possible actions\n",
    "* **Hidden layer with ReLU activation**, output with linear activation\n",
    "\n",
    "Training occurs in a loop:\n",
    "\n",
    "1. The **agent explores** the environment using an **ε-greedy policy**.\n",
    "2. It **executes actions**, receives rewards, updates the network.\n",
    "3. ε (exploration) decreases over time.\n",
    "\n",
    "After training, the agent is evaluated using the **learned policy** to maximize rewards. OpenAI Gym’s CartPole environment is used as an example."
   ]
  }
 ],
 "metadata": {
  "kernelspec": {
   "display_name": "ai_env",
   "language": "python",
   "name": "python3"
  },
  "language_info": {
   "codemirror_mode": {
    "name": "ipython",
    "version": 3
   },
   "file_extension": ".py",
   "mimetype": "text/x-python",
   "name": "python",
   "nbconvert_exporter": "python",
   "pygments_lexer": "ipython3",
   "version": "3.10.16"
  }
 },
 "nbformat": 4,
 "nbformat_minor": 5
}
