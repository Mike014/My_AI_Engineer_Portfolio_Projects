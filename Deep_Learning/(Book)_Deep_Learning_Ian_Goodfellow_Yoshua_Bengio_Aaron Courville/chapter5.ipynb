{
 "cells": [
  {
   "cell_type": "markdown",
   "id": "fd805f19",
   "metadata": {},
   "source": [
    "# **Machine Learning Basics**\n",
    "\n",
    "\n",
    "\n"
   ]
  }
 ],
 "metadata": {
  "language_info": {
   "name": "python"
  }
 },
 "nbformat": 4,
 "nbformat_minor": 5
}
