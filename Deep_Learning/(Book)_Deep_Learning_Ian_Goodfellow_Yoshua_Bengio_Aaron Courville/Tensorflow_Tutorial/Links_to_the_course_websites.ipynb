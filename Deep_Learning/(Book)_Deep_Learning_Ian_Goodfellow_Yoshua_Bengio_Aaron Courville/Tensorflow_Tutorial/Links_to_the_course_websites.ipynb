{
 "cells": [
  {
   "cell_type": "markdown",
   "metadata": {},
   "source": [
    "### **Tensorflow Guide** - https://www.tensorflow.org/guide?hl=it\n",
    "### **Tensorflow Tutorial** - https://www.tensorflow.org/tutorials?hl=it\n",
    "### **Keras Module** - https://www.tensorflow.org/api_docs/python/tf/keras"
   ]
  }
 ],
 "metadata": {
  "language_info": {
   "name": "python"
  }
 },
 "nbformat": 4,
 "nbformat_minor": 2
}
