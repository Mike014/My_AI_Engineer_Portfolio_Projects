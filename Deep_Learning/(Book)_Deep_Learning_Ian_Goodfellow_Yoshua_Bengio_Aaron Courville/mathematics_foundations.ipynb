{
 "cells": [
  {
   "cell_type": "markdown",
   "metadata": {},
   "source": [
    "# **Linear Algebra for Deep Learning**\n",
    "\n",
    "1. **Scalar**: A scalar is a **single number**, it can belong to:\n",
    "\n",
    "$R$ (real), $N$ (natural), $Z$ (integers), $C$ (complexes)."
   ]
  },
  {
   "cell_type": "code",
   "execution_count": null,
   "metadata": {},
   "outputs": [],
   "source": [
    "a = 3.14  # real scalar"
   ]
  },
  {
   "cell_type": "markdown",
   "metadata": {},
   "source": [
    "2. **Vectors**: A vector is an **ordered one-dimensional array of numbers**:"
   ]
  },
  {
   "cell_type": "code",
   "execution_count": 1,
   "metadata": {},
   "outputs": [],
   "source": [
    "import numpy as np\n",
    "\n",
    "x = np.array([1.0, 2.0, 3.0])  # Vector in ℝ³"
   ]
  },
  {
   "cell_type": "markdown",
   "metadata": {},
   "source": [
    "- **Accessing Items**"
   ]
  },
  {
   "cell_type": "code",
   "execution_count": 2,
   "metadata": {},
   "outputs": [
    {
     "data": {
      "text/plain": [
       "array([1., 3.])"
      ]
     },
     "execution_count": 2,
     "metadata": {},
     "output_type": "execute_result"
    }
   ],
   "source": [
    "x[0]\n",
    "x[[0, 2]] "
   ]
  },
  {
   "cell_type": "markdown",
   "metadata": {},
   "source": [
    "- **Slice/Complement**"
   ]
  },
  {
   "cell_type": "code",
   "execution_count": 5,
   "metadata": {},
   "outputs": [
    {
     "name": "stdout",
     "output_type": "stream",
     "text": [
      "S = [0, 2]\n",
      "x_S = [1. 3.]\n",
      "x_minus_S = [2.]\n"
     ]
    }
   ],
   "source": [
    "S = [0, 2]\n",
    "x_S = x[S]          # → [1.0, 3.0]\n",
    "x_minus_S = np.delete(x, S)  # → [2.0]\n",
    "\n",
    "print(f\"S = {S}\")\n",
    "print(f\"x_S = {x_S}\")\n",
    "print(f\"x_minus_S = {x_minus_S}\")"
   ]
  },
  {
   "cell_type": "markdown",
   "metadata": {},
   "source": [
    "3. **Matrices**: A matrix is a **2D table of numbers**. It is written:"
   ]
  },
  {
   "cell_type": "code",
   "execution_count": 6,
   "metadata": {},
   "outputs": [],
   "source": [
    "A = np.array([[1, 2],\n",
    "              [3, 4],\n",
    "              [5, 6]])  # A ∈ ℝ³ˣ²"
   ]
  },
  {
   "cell_type": "markdown",
   "metadata": {},
   "source": [
    "- **Accessing Items**"
   ]
  },
  {
   "cell_type": "code",
   "execution_count": 7,
   "metadata": {},
   "outputs": [
    {
     "data": {
      "text/plain": [
       "array([1, 3, 5])"
      ]
     },
     "execution_count": 7,
     "metadata": {},
     "output_type": "execute_result"
    }
   ],
   "source": [
    "A[0, 0] # element in position (1,1) → 1\n",
    "A[1, :] # second line → [3, 4]\n",
    "A[:, 0] # first column → [1, 3, 5]"
   ]
  },
  {
   "cell_type": "markdown",
   "metadata": {},
   "source": [
    "- **Transposed**"
   ]
  },
  {
   "cell_type": "code",
   "execution_count": 9,
   "metadata": {},
   "outputs": [
    {
     "name": "stdout",
     "output_type": "stream",
     "text": [
      "A_T = [[1 3 5]\n",
      " [2 4 6]]\n"
     ]
    }
   ],
   "source": [
    "A_T = A.T # transposed of A→ shape: (2, 3)\n",
    "print(f\"A_T = {A_T}\")"
   ]
  },
  {
   "cell_type": "markdown",
   "metadata": {},
   "source": [
    "4. **Tensors**: A tensor is a generalization of vectors and matrices at $dimensions > 2$."
   ]
  },
  {
   "cell_type": "markdown",
   "metadata": {},
   "source": [
    "## Notation Summary\n",
    "\n",
    "| Object | Example in NumPy | Description |\n",
    "|------------|-----------------------------|-------------------------------------|\n",
    "| Scalar | $`a = 5.0`$ | Single number |\n",
    "| Vector | $`x = np.array([1,2,3])`$ | 1D array |\n",
    "| Matrix | $`A = np.array([[1,2],[3,4]])`$ | 2D table |\n",
    "| Tensor | $`T = np.random.rand(2,3,4)`$ | N-dimensional array |\n",
    "| Transpose | $`A.T`$ | Swap rows and columns |\n",
    "| Broadcasting| $`A + b`$ | Add vector to each row |"
   ]
  },
  {
   "cell_type": "markdown",
   "metadata": {},
   "source": [
    "### **Matrix Multiplication and Dot Product**\n",
    "\n",
    "- **Matrix Product**: It can be done only if the **number of columns of the first (A)** is **equal to the number of rows of the second (B)**.\n",
    "\n",
    "If $A ∈ ℝ^(m×n)$ and $B ∈ ℝ^(n×p)$, then $C = AB ∈ ℝ^(m×p)$.\n",
    "\n",
    "$$\n",
    "C_{i,j} = \\sum_{k} A_{i,k} B_{k,j}\n",
    "$$\n"
   ]
  },
  {
   "cell_type": "code",
   "execution_count": 11,
   "metadata": {},
   "outputs": [
    {
     "name": "stdout",
     "output_type": "stream",
     "text": [
      "C = [[19 22]\n",
      " [43 50]]\n",
      "The np.dot version = [[19 22]\n",
      " [43 50]]\n"
     ]
    }
   ],
   "source": [
    "import numpy as np\n",
    "\n",
    "A = np.array([[1, 2],\n",
    "              [3, 4]])  # shape (2×2)\n",
    "B = np.array([[5, 6],\n",
    "              [7, 8]])  # shape (2×2)\n",
    "\n",
    "C = A @ B \n",
    "print(f\"C = {C}\")\n",
    "print(F\"The np.dot version = {np.dot(A, B)}\")"
   ]
  },
  {
   "cell_type": "markdown",
   "metadata": {},
   "source": [
    "- **Hadamard Product (Element by element)**: It is different from the matrix product: it **multiplies each corresponding element**."
   ]
  },
  {
   "cell_type": "code",
   "execution_count": 13,
   "metadata": {},
   "outputs": [
    {
     "data": {
      "text/plain": [
       "array([[ 5, 12],\n",
       "       [21, 32]])"
      ]
     },
     "execution_count": 13,
     "metadata": {},
     "output_type": "execute_result"
    }
   ],
   "source": [
    "H = A * B\n",
    "H"
   ]
  },
  {
   "cell_type": "markdown",
   "metadata": {},
   "source": [
    "- **Scalar product** between two vectors (Dot Product): If $x, y ∈ ℝ^n$, then:\n",
    "\n",
    "$$\n",
    "x^T y = y^T x = \\sum_{i} x_i y_i\n",
    "$$"
   ]
  },
  {
   "cell_type": "code",
   "execution_count": 14,
   "metadata": {},
   "outputs": [],
   "source": [
    "x = np.array([1, 2])\n",
    "y = np.array([3, 4])\n",
    "dot = np.dot(x, y)  # → 1*3 + 2*4 = 11"
   ]
  },
  {
   "cell_type": "markdown",
   "metadata": {},
   "source": [
    "## Exercise: Solve the linear system Ax = b\n",
    "\n",
    "You have this system of **linear equations**:\n",
    "\n",
    "$\n",
    "\\begin{cases}\n",
    "2x + 3y = 8 \\\\\n",
    "4x + y = 6\n",
    "\\end{cases}\n",
    "$\n",
    "\n",
    "The goal is to find **x** and **y** that satisfy both equations.\n",
    "\n",
    "---\n",
    "\n",
    "### Step 1: Let's write in matrix form `Ax = b`\n",
    "\n",
    "This system is written like this:\n",
    "\n",
    "$\n",
    "A = \\begin{bmatrix}\n",
    "2 & 3 \\\\\n",
    "4 & 1 \\\\\n",
    "\\end{bmatrix}, \\quad\n",
    "x = \\begin{bmatrix}\n",
    "x \\\\\n",
    "y \\\\\n",
    "\\end{bmatrix}, \\quad\n",
    "b = \\begin{bmatrix}\n",
    "8 \\\\\n",
    "6 \\\\\n",
    "\\end{bmatrix}\n",
    "$\n",
    "\n",
    "So in compact form:\n",
    "\n",
    "$\n",
    "Ax = b\n",
    "$\n",
    "\n",
    "---\n",
    "\n",
    "\n"
   ]
  },
  {
   "cell_type": "code",
   "execution_count": null,
   "metadata": {},
   "outputs": [
    {
     "name": "stdout",
     "output_type": "stream",
     "text": [
      "Solution: [1. 2.]\n"
     ]
    }
   ],
   "source": [
    "import numpy as np\n",
    "\n",
    "A = np.array([[2, 3],\n",
    "              [4, 1]])\n",
    "\n",
    "b = np.array([8, 6])\n",
    "\n",
    "x = np.linalg.solve(A, b)\n",
    "print(\"Solution:\", x)"
   ]
  },
  {
   "cell_type": "markdown",
   "metadata": {},
   "source": [
    "### Solving the Equation\n",
    "\n",
    "We are solving the following equation:\n",
    "\n",
    "$$\n",
    "2x + 3y = 8\n",
    "$$\n",
    "\n",
    "From the solution we found earlier:\n",
    "\n",
    "$$\n",
    "x = 1, \\, y = 2\n",
    "$$\n",
    "\n",
    "We substitute these values into the equation:\n",
    "\n",
    "$$\n",
    "2x + 3y = 8 \\implies 2 \\cdot 1 + 3 \\cdot 2 \\implies 2 + 6 = 8\n",
    "$$"
   ]
  },
  {
   "cell_type": "markdown",
   "metadata": {},
   "source": [
    "## **Inverse, Linear Dependence and Span**\n",
    "\n",
    "### **When can you use the inverse `A⁻¹`?**\n",
    "\n",
    "You have the equation:\n",
    "\n",
    "$$\n",
    "Ax = b\n",
    "$$\n",
    "\n",
    "If `A` is **invertible**, then you can write:\n",
    "\n",
    "$$\n",
    "x = A^{-1}b\n",
    "$$\n",
    "\n",
    "But be careful: using **`A⁻¹` is not recommended in practice** in real software, because it can be numerically imprecise. Better to use methods like `np.linalg.solve`.\n",
    "\n",
    "---\n",
    "\n",
    "### **When does $`A⁻¹` exist? (Condition)**\n",
    "\n",
    "`A⁻¹` exists **only if**:\n",
    "\n",
    "- `A` is a **square matrix** $(`m = n`)$\n",
    "- Its columns are **linearly independent**\n",
    "\n",
    "---\n",
    "\n",
    "### **What is linear dependence?**\n",
    "\n",
    "A set of vectors (columns) is **linearly dependent** if **one can be written as a combination of the others**.\n",
    "\n",
    "Example:\n",
    "```python\n",
    "v1 = [1, 2]\n",
    "v2 = [2, 4] # v2 = 2 * v1 → dependent\n",
    "```\n",
    "\n",
    "→ If the vectors are **dependent**, **they do not add new directions**.\n",
    "\n",
    "---\n",
    "\n",
    "### **What is the “span”?**\n",
    "\n",
    "The **span** of a set of vectors is **the set of all points** that you can reach by combining them linearly.\n",
    "\n",
    "$$\n",
    "\\text{span}(v_1, v_2, ..., v_n) = \\left\\{ \\sum_i \\alpha_i v_i \\right\\}\n",
    "$$\n",
    "\n",
    "💡 The equation `Ax = b` has **solution** only if `b` **is in the span of the columns of A** (called **column space** or **range**).\n",
    "\n",
    "---\n",
    "\n",
    "### **How many vectors do you need to cover all `ℝᵐ`?**\n",
    "\n",
    "- You need **at least m **linearly independent** vectors** in `ℝᵐ` to cover the whole space.\n",
    "- If you have fewer, or if they are dependent, **you cannot reach all possible `b`** → no solution.\n",
    "\n",
    "Example:\n",
    "- A 3×2 matrix generates at most one **plane** in `ℝ³`. So `b` must **lie on the plane** to have a solution.\n",
    "\n",
    "---\n",
    "\n",
    "### **Conditions for invertibility**\n",
    "\n",
    "For `A` **invertible**:\n",
    "\n",
    "| Requirement | Meaning |\n",
    "|-----------------------|-------------------------------------------------|\n",
    "| `A` is **square** | Number of rows = number of columns (`m = n`) |\n",
    "| **Independent columns** | No column can be derived from the others |\n",
    "| Space column = `ℝᵐ` | You can cover every possible `b` |\n",
    "| Only one solution | No ambiguity: only one `x` for every `b` |\n",
    "\n",
    "---\n",
    "\n",
    "### **Right and left inverse**\n",
    "\n",
    "For a square matrix:\n",
    "\n",
    "$$\n",
    "A^{-1}A = I \\quad \\text{(left inverse)} \\\\\n",
    "AA^{-1} = I \\quad \\text{(right inverse)}\n",
    "$$\n",
    "\n",
    "When `A` is square and invertible, the two things coincide.\n",
    "\n",
    "### **NumPy summary with examples**\n"
   ]
  },
  {
   "cell_type": "code",
   "execution_count": 17,
   "metadata": {},
   "outputs": [],
   "source": [
    "import numpy as np\n",
    "\n",
    "A = np.array([[1, 2],\n",
    "[3, 4]])\n",
    "\n",
    "b = np.array([5, 11])\n",
    "\n",
    "# Correct method to solve Ax = b\n",
    "x = np.linalg.solve(A, b)\n",
    "\n",
    "# Theoretical method (less precise): x = A⁻¹ b\n",
    "x_theoretical = np.linalg.inv(A) @ b"
   ]
  },
  {
   "cell_type": "markdown",
   "metadata": {},
   "source": [
    "## **Norms, Special Matrices and Properties**\n",
    "\n",
    "### **Vector Norms (measure of the \"length\" of a vector)**\n",
    "\n",
    "#### **L1 Norm (Manhattan norm)**\n",
    "\n",
    "$$\n",
    "\\|x\\|_1 = \\sum_i |x_i|\n",
    "$$\n",
    "\n",
    "- **Sum of absolute values**.\n",
    "- Used when the transition from 0 to ≠0 is important (e.g. L1 regularization).\n",
    "- Increases linearly as an element moves away from 0."
   ]
  },
  {
   "cell_type": "code",
   "execution_count": 22,
   "metadata": {},
   "outputs": [
    {
     "name": "stdout",
     "output_type": "stream",
     "text": [
      "L1 Norm = 6\n"
     ]
    }
   ],
   "source": [
    "import numpy as np\n",
    "x = np.array([1, -2, 0, 3])\n",
    "l1_norm = np.sum(np.abs(x)) # → 6\n",
    "\n",
    "print(f\"L1 Norm = {l1_norm}\")"
   ]
  },
  {
   "cell_type": "markdown",
   "metadata": {},
   "source": [
    "#### **L∞ Norm (Max norm)**\n",
    "\n",
    "$$\n",
    "\\|x\\|_\\infty = \\max_i |x_i|\n",
    "$$\n",
    "\n",
    "- Returns **the element with maximum absolute value**."
   ]
  },
  {
   "cell_type": "code",
   "execution_count": 21,
   "metadata": {},
   "outputs": [
    {
     "name": "stdout",
     "output_type": "stream",
     "text": [
      "Max Norm = 3\n"
     ]
    }
   ],
   "source": [
    "# x = np.array([1, -2, 0, 3])\n",
    "max_norm = np.max(np.abs(x)) # → 3\n",
    "print(f\"Max Norm = {max_norm}\")"
   ]
  },
  {
   "cell_type": "markdown",
   "metadata": {},
   "source": [
    "#### **L0 “norm”**\n",
    "\n",
    "- **Not a real norm**.\n",
    "- Counts how many $elements ≠ 0$, but **does not respect the mathematical properties of a norm**.\n",
    "\n"
   ]
  },
  {
   "cell_type": "markdown",
   "metadata": {},
   "source": [
    "#### **Frobenius norm (for matrices)**\n",
    "\n",
    "$\n",
    "\\|A\\|_F = \\sqrt{\\sum_{i,j} A_{i,j}^2}\n",
    "$\n",
    "\n",
    "- It is like the **L2 norm** but applied to all cells of a matrix."
   ]
  },
  {
   "cell_type": "code",
   "execution_count": 24,
   "metadata": {},
   "outputs": [
    {
     "name": "stdout",
     "output_type": "stream",
     "text": [
      "Frobenius norm = 5.477225575051661\n"
     ]
    }
   ],
   "source": [
    "A = np.array([[1, 2], [3, 4]])\n",
    "frobenius_norm = np.sqrt(np.sum(A**2)) # → Frobenius norm\n",
    "\n",
    "print(f\"Frobenius norm = {frobenius_norm}\")"
   ]
  },
  {
   "cell_type": "markdown",
   "metadata": {},
   "source": [
    "#### **Dot product and angle**\n",
    "\n",
    "$\n",
    "x^T y = \\|x\\|_2 \\|y\\|_2 \\cos \\theta\n",
    "$\n",
    "\n",
    "- Used to calculate **angle between vectors**.\n",
    "- If $( x^T y = 0 )$, the vectors are **orthogonal** (90° angle)."
   ]
  },
  {
   "cell_type": "markdown",
   "metadata": {},
   "source": [
    "## **Special matrices and vectors**\n",
    "\n",
    "---\n",
    "\n",
    "### **Diagonal matrix**\n",
    "\n",
    "$$\n",
    "D_{i,j} = 0 \\quad \\text{if } i \\neq j\n",
    "$$\n",
    "\n",
    "- Only values ​​along the diagonal ≠ 0.\n",
    "- Multiplication: **fast** (scale elements).\n",
    "- Inverse exists only if **no diagonal value is 0**.\n",
    "\n",
    "```python\n",
    "v = np.array([1, 2, 3])\n",
    "D = np.diag(v)\n",
    "x = np.array([10, 20, 30])\n",
    "D @ x # → [10, 40, 90]\n",
    "```\n",
    "\n",
    "### **Symmetric matrix**\n",
    "\n",
    "$$\n",
    "A = A^T\n",
    "$$\n",
    "\n",
    "- Ex: distance matrices, correlations, kernels.\n",
    "- Ai,j = Aj,i\n",
    "\n",
    "```python\n",
    "A = np.array([[1, 2], [2, 3]]) # Symmetric\n",
    "```\n",
    "\n",
    "---\n",
    "\n",
    "### **Unit vector**\n",
    "\n",
    "$$\n",
    "\\|x\\|_2 = 1\n",
    "$$\n",
    "\n",
    "- Vector with norm 1 (ex: pure directions).\n",
    "\n",
    "```python\n",
    "x = np.array([1, 0])\n",
    "np.linalg.norm(x) # → 1\n",
    "```\n",
    "\n",
    "---\n",
    "\n",
    "### **Orthogonality**\n",
    "\n",
    "Two vectors are **orthogonal** if:\n",
    "\n",
    "$$\n",
    "x^T y = 0\n",
    "$$\n",
    "\n",
    "If they are also **unitary**, then they are **orthonomal**.\n",
    "\n",
    "---\n",
    "\n",
    "### **Orthogonal matrix**\n",
    "\n",
    "$$\n",
    "A^T A = AA^T = I\n",
    "\\Rightarrow A^{-1} = A^T\n",
    "$$\n",
    "\n",
    "- **Orthonomal** rows and columns.\n",
    "- Inverse = transpose → **very fast to invert**.\n",
    "- Fundamental for rigid transformations (rotations, reflections).\n",
    "\n",
    "```python\n",
    "from scipy.stats import ortho_group\n",
    "A = ortho_group.rvs(dim=3)\n",
    "A.T @ A # → Identity matrix\n",
    "```\n",
    "\n",
    "---\n",
    "\n",
    "## In summary:\n",
    "\n",
    "| Subject | Formula | Meaning |\n",
    "|-------------------------|--------------------------|----------------------------------------|\n",
    "| L1 norm | $( \\|x\\|_1 = \\sum |x_i| )$ | Total displacement measure |\n",
    "| L∞ norm | $( \\max |x_i| )$ | Maximum absolute value |\n",
    "| Frobenius norm | $( \\sqrt{\\sum A_{i,j}^2} )$ | Norm of a matrix (like L2) |\n",
    "| Orthogonality | $( x^T y = 0 )$ | 90° vectors |\n",
    "| Orthogonal matrix | $( A^T A = I )$ | Inverse = transpose |\n",
    "| Diagonal matrix | Diagonal only ≠ 0 | Fast multiplication and inversion |\n"
   ]
  },
  {
   "cell_type": "markdown",
   "metadata": {},
   "source": [
    "## **L2 Norm (Euclidean Norm)**\n",
    "\n",
    "### Definition:\n",
    "\n",
    "$\n",
    "\\|x\\|_2 = \\sqrt{\\sum_i x_i^2}\n",
    "$\n",
    "\n",
    "- It is the **square root of the sum of the squares** of the elements of the vector.\n",
    "- It measures **the distance of the vector from the origin** in an n-dimensional space.\n",
    "- It is the **most used** norm in machine learning and deep learning.\n",
    "\n",
    "---\n",
    "\n",
    "### Practical example:"
   ]
  },
  {
   "cell_type": "code",
   "execution_count": null,
   "metadata": {},
   "outputs": [],
   "source": [
    "import numpy as np\n",
    "\n",
    "x = np.array([3, 4])\n",
    "\n",
    "norm_L2 = np.linalg.norm(x) # → √(3² + 4²) = √(9 + 16) = √25 = 5\n",
    "print(norm_L2) # → 5.0"
   ]
  },
  {
   "cell_type": "markdown",
   "metadata": {},
   "source": [
    "### When to use it?\n",
    "\n",
    "- In regression: **minimize the L2 norm of errors** = *least squares*.\n",
    "- In optimization: **L2 penalty** → *Ridge regression*.\n",
    "- In deep learning: **weight normalization**, **L2 loss** etc."
   ]
  },
  {
   "cell_type": "code",
   "execution_count": 25,
   "metadata": {},
   "outputs": [],
   "source": [
    "import numpy as np\n",
    "import matplotlib.pyplot as plt"
   ]
  },
  {
   "cell_type": "code",
   "execution_count": 34,
   "metadata": {},
   "outputs": [
    {
     "data": {
      "image/png": "[encoded data removed]",
      "text/plain": [
       "<Figure size 1500x400 with 3 Axes>"
      ]
     },
     "metadata": {},
     "output_type": "display_data"
    }
   ],
   "source": [
    "# Setup\n",
    "x = np.linspace(-1, 1, 400)\n",
    "y = np.linspace(-1, 1, 400)\n",
    "X, Y = np.meshgrid(x, y)\n",
    "\n",
    "# L1 norm: diamond shape\n",
    "L1 = np.abs(X) + np.abs(Y)\n",
    "\n",
    "# L2 norm: circle\n",
    "L2 = np.sqrt(X**2 + Y**2)\n",
    "\n",
    "# L∞ norm: square shape\n",
    "Linf = np.maximum(np.abs(X), np.abs(Y))\n",
    "\n",
    "# Plot\n",
    "fig, axs = plt.subplots(1, 3, figsize=(15, 4))\n",
    "\n",
    "# L1 norm\n",
    "axs[0].contour(X, Y, L1, levels=[1], colors='red')\n",
    "axs[0].set_title(\"L1 Norm (||x||₁ = 1)\")\n",
    "axs[0].axis('equal')\n",
    "\n",
    "# L2 norm\n",
    "axs[1].contour(X, Y, L2, levels=[1], colors='blue')\n",
    "axs[1].set_title(\"L2 Norm (||x||₂ = 1)\")\n",
    "axs[1].axis('equal')\n",
    "\n",
    "# Linf norm\n",
    "axs[2].contourf(X, Y, Linf, levels=np.linspace(0, 1, 50), cmap='Greens')\n",
    "axs[2].contour(X, Y, Linf, levels=[1], colors='green') \n",
    "axs[2].set_title(\"L∞ Norm (||x||∞ ≤ 1)\")\n",
    "axs[2].axis('equal')\n",
    "\n",
    "plt.tight_layout()\n",
    "plt.show()\n"
   ]
  },
  {
   "cell_type": "markdown",
   "metadata": {},
   "source": [
    "### ❤️ On the left — **L1 Norm (red)**\n",
    "\n",
    "- **Diamond** shape.\n",
    "- Represents all points where $( |x| + |y| = 1 )$.\n",
    "- It's like walking in a \"absolute step\" grid.\n",
    "\n",
    "---\n",
    "\n",
    "### 💙 In the center — **L2 Norm (blue)**\n",
    "\n",
    "- The classic **circle**.\n",
    "- It's the Euclidean distance: $( \\sqrt{x^2 + y^2} = 1 )$\n",
    "- Represents points equidistant from the origin in a symmetric way.\n",
    "\n",
    "---\n",
    "\n",
    "### 💚 On the right — **L∞ Norm (green)**\n",
    "\n",
    "- **Square** with sides parallel to the axes.\n",
    "- Defined by $( \\max(|x|, |y|) = 1 )$\n",
    "- It's like saying: \"I push myself to the maximum of only one of the two\"."
   ]
  },
  {
   "cell_type": "markdown",
   "metadata": {},
   "source": [
    "### In other words:\n",
    "\n",
    "- **L1** → gives you a “full” because it adds the distances in all directions → diamond.\n",
    "- **L2** → gives you a round full → circle.\n",
    "- **L∞** → just tells you “you are at most 1 in *some* of the coordinates”, so you only get **the edges** of the square. The rest is not exact norm 1."
   ]
  },
  {
   "cell_type": "markdown",
   "metadata": {},
   "source": [
    "## **Eigendecomposition, Symmetric Matrices and Positivity**\n",
    "\n",
    "---\n",
    "\n",
    "### **What is eigendecomposition?**\n",
    "\n",
    "It is the process in which a matrix `A` is **decomposed** into its:\n",
    "\n",
    "- **Eigenvalues** (eigenvalues): $( \\lambda )$\n",
    "- **Eigenvectors** (eigenvectors): $( v )$\n",
    "\n",
    "The general form:\n",
    "$$\n",
    "A = V \\cdot \\text{diag}(\\lambda) \\cdot V^{-1}\n",
    "$$\n",
    "\n",
    "- `V`: matrix with columns = eigenvectors\n",
    "- `diag(λ)`: diagonal matrix with eigenvalues\n",
    "\n",
    "**Geometric intuition**:\n",
    "`A` **“stretches” the space** in particular directions (the eigenvectors), scaling each direction with its eigenvalue $( \\lambda )$.\n",
    "\n",
    "---\n",
    "\n",
    "### **When is eigendecomposition needed?**\n",
    "\n",
    "- To **analyze** or **simplify** complex problems\n",
    "- For **data compression** (e.g. PCA)\n",
    "- To understand **the dynamic behavior** of linear systems\n",
    "\n",
    "---\n",
    "\n",
    "### **Special case: Real symmetric matrices**\n",
    "\n",
    "Every **real symmetric matrix** $( A = A^T )$ can be decomposed as:\n",
    "\n",
    "$$\n",
    "A = Q \\Lambda Q^T\n",
    "$$\n",
    "\n",
    "- `Q`: **orthogonal** matrix (orthonormal eigenvectors)\n",
    "- `Λ`: **diagonal** with eigenvalues\n",
    "\n",
    "Here **the inverse is not needed**, because $( Q^{-1} = Q^T )$\n",
    "\n",
    "---\n",
    "\n",
    "### **Graph (figure 2.3 in the book)**\n",
    "\n",
    "Shows what `A` does:\n",
    "- A **circle of vectors unitary** is transformed by `A` into an ellipse.\n",
    "- The principal stretching directions are the eigenvectors.\n",
    "- The **stretching factors** are the eigenvalues.\n",
    "\n",
    "---\n",
    "\n",
    "### **Singularities and zero eigenvalues**\n",
    "\n",
    "- A matrix is ​​**singular** (not invertible) ⇔ at least one eigenvalue is 0.\n",
    "\n",
    "---\n",
    "\n",
    "### **Automatic composition optimization**\n",
    "\n",
    "The function:\n",
    "\n",
    "$$\n",
    "f(x) = x^T A x \\quad \\text{s.t.} \\quad \\|x\\|_2 = 1\n",
    "$$\n",
    "\n",
    "- Take maximum value when `x` is **the eigenvector with the maximum eigenvalue**\n",
    "- Take minimum value when `x` is **the eigenvector with the minimum eigenvalue**\n",
    "\n",
    "---\n",
    "\n",
    "### **Matrix types based on eigenvalues**\n",
    "\n",
    "| Type | Eigenvalue Conditions $( \\lambda )$ |\n",
    "|--------------------|---------------------------------------------------------|\n",
    "| **Positive definite** | All $( $\\lambda > 0 )$ |\n",
    "| **Positive semidefinite**| All $( \\lambda \\geq 0 )$ |\n",
    "| **Negative definite** | All $( \\lambda < 0 )$ |\n",
    "| **Negative semidefinite**| All $( \\lambda \\leq 0 )$ |\n",
    "\n",
    "---\n",
    "\n",
    "### **Useful Properties**\n",
    "\n",
    "1. If `A` is **positive semidefinite**, then:\n",
    "\n",
    "   $$\n",
    "   x^T A x \\geq 0 \\quad \\forall x\n",
    "   $$\n",
    "\n",
    "2. If `A` is **positive definite**, then:\n",
    "\n",
    "   $$\n",
    "   x^T A x = 0 \\implies x = 0\n",
    "   $$"
   ]
  },
  {
   "cell_type": "code",
   "execution_count": 35,
   "metadata": {},
   "outputs": [
    {
     "data": {
      "image/png": "[encoded data removed]",
      "text/plain": [
       "<Figure size 600x600 with 1 Axes>"
      ]
     },
     "metadata": {},
     "output_type": "display_data"
    }
   ],
   "source": [
    "import numpy as np\n",
    "import matplotlib.pyplot as plt\n",
    "\n",
    "# Define a symmetric matrix (so diagonalizable with real values)\n",
    "A = np.array([[3, 1],\n",
    "[1, 2]])\n",
    "\n",
    "# Calculate eigenvalues ​​(eigvals) and eigenvectors (eigvecs)\n",
    "eigvals, eigvecs = np.linalg.eig(A)\n",
    "\n",
    "# Create a grid of unit vectors (circle)\n",
    "theta = np.linspace(0, 2 * np.pi, 100)\n",
    "circle = np.vstack((np.cos(theta), np.sin(theta))) # 2×100 shape\n",
    "\n",
    "# Apply A to each vector of the circle (matrix × vector multiplication)\n",
    "ellipse = A @ circle\n",
    "\n",
    "# Plot\n",
    "fig, ax = plt.subplots(figsize=(6, 6))\n",
    "ax.plot(circle[0], circle[1], label='Unit circle (input)', color='gray')\n",
    "ax.plot(ellipse[0], ellipse[1], label='Output transformed (A x)', color='red')\n",
    "\n",
    "# Let's draw the eigenvectors\n",
    "origin = np.array([[0, 0], [0, 0]])\n",
    "scaled_eigvecs = eigvecs * eigvals # scale by eigenvalues\n",
    "ax.quiver(*origin, eigvecs[0], eigvecs[1], angles='xy', scale_units='xy', scale=1, color='blue', label='Eigenvectors')\n",
    "\n",
    "ax.set_aspect('equal')\n",
    "ax.axhline(0, color='black', linewidth=0.5)\n",
    "ax.axvline(0, color='black', linewidth=0.5)\n",
    "ax.set_title(\"Geometric effect of matrix A on unit inputs\")\n",
    "ax.legend()\n",
    "plt.grid(True)\n",
    "plt.show()"
   ]
  },
  {
   "cell_type": "markdown",
   "metadata": {},
   "source": [
    "### What you are seeing:\n",
    "\n",
    "- The **gray circle** represents **all unit vectors** (with $( \\|x\\|_2 = 1 )$) → it is the **original space**.\n",
    "- The **red curve** is the result of applying the matrix `A` to every vector of the circle → it is the **new deformed space**.\n",
    "- The **blue arrows** are the **eigenvectors** of the matrix `A`:\n",
    "- They indicate the **directions in which the circle is stretched**.\n",
    "- The **length** of the arrows is proportional to the **eigenvalues** → how much that direction is stretched.\n",
    "\n",
    "---\n",
    "\n",
    "### Interpretation\n",
    "\n",
    "The matrix `A` is \"pulling\" the plane exactly **along the eigenvectors**, and the amount of stretching is the **eigenvalue**.\n",
    "\n",
    "So:\n",
    "- Where you see the ellipse stretching → there is an eigenvector.\n",
    "- The intensity of the elongation → is the corresponding eigenvalue."
   ]
  },
  {
   "cell_type": "code",
   "execution_count": 38,
   "metadata": {},
   "outputs": [
    {
     "data": {
      "image/png": "[encoded data removed]",
      "text/plain": [
       "<Figure size 600x600 with 1 Axes>"
      ]
     },
     "metadata": {},
     "output_type": "display_data"
    },
    {
     "name": "stdout",
     "output_type": "stream",
     "text": [
      "Eigenvalues: [ 9.17890835 -2.17890835]\n",
      "Eigenvectors:\n",
      " [[ 0.61126724 -0.54343157]\n",
      " [ 0.79142426  0.83945347]]\n"
     ]
    }
   ],
   "source": [
    "import numpy as np\n",
    "import matplotlib.pyplot as plt\n",
    "\n",
    "# 🔧 CHANGE MATRIX A HERE\n",
    "A = np.array([[4, 4],\n",
    "[8, 3]])\n",
    "\n",
    "# Eigenvalue and eigenvector computation\n",
    "eigvals, eigvecs = np.linalg.eig(A)\n",
    "\n",
    "# Grid: unit circle\n",
    "theta = np.linspace(0, 2 * np.pi, 100)\n",
    "circle = np.vstack((np.cos(theta), np.sin(theta)))\n",
    "\n",
    "# Apply A to all vectors in the circle\n",
    "ellipse = A @ circle\n",
    "\n",
    "# Plot\n",
    "fig, ax = plt.subplots(figsize=(6, 6))\n",
    "ax.plot(circle[0], circle[1], label='Unit circle (input)', color='gray')\n",
    "ax.plot(ellipse[0], ellipse[1], label='Transformed ellipse (A x)', color='red')\n",
    "\n",
    "# Eigenvectors (in blue)\n",
    "origin = np.array([[0, 0], [0, 0]])\n",
    "scaled_vecs = eigvecs * eigvals\n",
    "ax.quiver(*origin, eigvecs[0], eigvecs[1], angles='xy', scale_units='xy', scale=1, color='blue', label='Eigenvectors')\n",
    "\n",
    "ax.set_aspect('equal')\n",
    "ax.axhline(0, color='black', linewidth=0.5)\n",
    "ax.axvline(0, color='black', linewidth=0.5)\n",
    "ax.set_title(\"Effect of matrix A on inputs unitari\")\n",
    "ax.legend()\n",
    "plt.grid(True)\n",
    "plt.show()\n",
    "\n",
    "# Print values ​​for study\n",
    "print(\"Eigenvalues:\", eigvals)\n",
    "print(\"Eigenvectors:\\n\", eigvecs)"
   ]
  },
  {
   "cell_type": "code",
   "execution_count": 39,
   "metadata": {},
   "outputs": [
    {
     "data": {
      "image/png": "[encoded data removed]",
      "text/plain": [
       "<Figure size 600x600 with 1 Axes>"
      ]
     },
     "metadata": {},
     "output_type": "display_data"
    }
   ],
   "source": [
    "# Create a matrix that combines stretching + rotation\n",
    "theta = np.pi / 6 # rotation angle: 30 degrees\n",
    "stretch_x = 2 # stretching along x\n",
    "stretch_y = 0.5 # compression along y\n",
    "\n",
    "# Rotation matrix\n",
    "R = np.array([[np.cos(theta), -np.sin(theta)],\n",
    "[np.sin(theta), np.cos(theta)]])\n",
    "\n",
    "# Stretch matrix (non-uniform scaling)\n",
    "S = np.array([[stretch_x, 0],\n",
    "[0, stretch_y]])\n",
    "\n",
    "# Final matrix: rotation + stretching\n",
    "A = R @ S @ R.T # apply scaling in a rotated basis\n",
    "\n",
    "# Eigenvalue and eigenvector calculation\n",
    "eigvals, eigvecs = np.linalg.eig(A)\n",
    "\n",
    "# Circle unitary\n",
    "theta_grid = np.linspace(0, 2 * np.pi, 100)\n",
    "circle = np.vstack((np.cos(theta_grid), np.sin(theta_grid)))\n",
    "ellipse = A @circle\n",
    "\n",
    "# Plot\n",
    "fig, ax = plt.subplots(figsize=(6, 6))\n",
    "ax.plot(circle[0], circle[1], label='Unit circle', color='gray')\n",
    "ax.plot(ellipse[0], ellipse[1], label='Transformed: A x', color='red')\n",
    "\n",
    "# Eigenvectors\n",
    "origin = np.array([[0, 0], [0, 0]])\n",
    "ax.quiver(*origin, eigvecs[0], eigvecs[1], angles='xy', scale_units='xy', scale=1, color='blue', label='Eigenvectors')\n",
    "\n",
    "ax.set_aspect('equal')\n",
    "ax.axhline(0, color='black', linewidth=0.5)\n",
    "ax.axvline(0, color='black', linewidth=0.5)\n",
    "ax.set_title(\"Rotation + Stretch = Elliptical Orbit\")\n",
    "ax.legend()\n",
    "plt.grid(True)\n",
    "plt.show()"
   ]
  },
  {
   "cell_type": "markdown",
   "metadata": {},
   "source": [
    "#### Step by step, but you will create your own galaxy using a 2x2 matrix that combines:\n",
    "\n",
    "- **Stretch**\n",
    "- **Compression**\n",
    "- **Rotation**\n",
    "\n",
    "**Objective**\n",
    "Build a **matrix** A that:\n",
    "\n",
    "1. **Rotates the space** by an angle of your choice.\n",
    "2. **Stretches** in one direction and squashes in the other.\n",
    "3. **Show the result** graphically."
   ]
  },
  {
   "cell_type": "code",
   "execution_count": 50,
   "metadata": {},
   "outputs": [
    {
     "data": {
      "image/png": "[encoded data removed]",
      "text/plain": [
       "<Figure size 600x600 with 1 Axes>"
      ]
     },
     "metadata": {},
     "output_type": "display_data"
    },
    {
     "data": {
      "text/plain": [
       "(array([0.3, 3. ]),\n",
       " array([[-0.8660254, -0.5      ],\n",
       "        [ 0.5      , -0.8660254]]))"
      ]
     },
     "execution_count": 50,
     "metadata": {},
     "output_type": "execute_result"
    }
   ],
   "source": [
    "import numpy as np\n",
    "import matplotlib.pyplot as plt\n",
    "\n",
    "# Parameters chosen by us\n",
    "theta = np.radians(60) # Rotation by 60°\n",
    "stretch_x = 3.0 # Stretching x-axis\n",
    "stretch_y = 0.3 # Compression y-axis\n",
    "\n",
    "# Rotation matrix\n",
    "R = np.array([[np.cos(theta), -np.sin(theta)],\n",
    "[np.sin(theta), np.cos(theta)]])\n",
    "\n",
    "# Scaling matrix\n",
    "S = np.array([[stretch_x, 0],\n",
    "[0, stretch_y]])\n",
    "\n",
    "# Full matrix: rotation + stretching\n",
    "A = R @ S @ R.T\n",
    "\n",
    "# Eigenvalues ​​and eigenvectors\n",
    "eigvals, eigvecs = np.linalg.eig(A)\n",
    "\n",
    "# Unit circle\n",
    "angles = np.linspace(0, 2 * np.pi, 100)\n",
    "circle = np.vstack((np.cos(angles), np.sin(angles)))\n",
    "ellipse = A @ circle\n",
    "\n",
    "# Plot\n",
    "fig, ax = plt.subplots(figsize=(6, 6))\n",
    "\n",
    "# Draw the circle and the transformed ellipse\n",
    "ax.plot(circle[0], circle[1], label='Unit circle', color='gray')\n",
    "ax.plot(ellipse[0], ellipse[1], label='Transformed: A x', color='red')\n",
    "\n",
    "# Eigenvectors (blue)\n",
    "origin = np.array([[0, 0], [0, 0]])\n",
    "ax.quiver(*origin, eigvecs[0], eigvecs[1], angles='xy',\n",
    "scale_units='xy', scale=1, color='blue', label='Eigenvectors')\n",
    "\n",
    "# Chart Settings\n",
    "ax.set_aspect('equal')\n",
    "ax.axhline(0, color='black', linewidth=0.5)\n",
    "ax.axvline(0, color='black', linewidth=0.5)\n",
    "ax.set_title(\"Your Space Orbit: Rotation + Stretch\")\n",
    "ax.legend()\n",
    "plt.grid(True)\n",
    "plt.show()\n",
    "\n",
    "eigvals, eigvecs\n"
   ]
  },
  {
   "cell_type": "markdown",
   "metadata": {},
   "source": [
    "### Interpretation:\n",
    "\n",
    "- The eigenvector associated with $( \\lambda = 3.0 )$ is the direction in which the ellipse **expands the most**.\n",
    "- The other, with $( \\lambda = 0.3 )$, is the direction in which the space is **compressed**.\n",
    "- The ellipse you see is the **deformed image of the unit circle** under the transformation of `A`."
   ]
  },
  {
   "cell_type": "markdown",
   "metadata": {},
   "source": [
    "## **SVD: Singular Value Decomposition**\n",
    "\n",
    "---\n",
    "\n",
    "### What is SVD?\n",
    "\n",
    "**Singular Value Decomposition** is a method for decomposing **any real matrix** \\( A \\) into **three fundamental components**:\n",
    "\n",
    "$$\n",
    "A = U D V^T\n",
    "$$\n",
    "\n",
    "Where:\n",
    "\n",
    "- $( A \\in \\mathbb{R}^{m \\times n} )$\n",
    "- $( U \\in \\mathbb{R}^{m \\times m} )$ → **orthogonal** (columns = *left-singular vectors*)\n",
    "- $( V \\in \\mathbb{R}^{n \\times n} )$ → **orthogonal** (columns = *right-singular vectors*)\n",
    "- $( D \\in \\mathbb{R}^{m \\times n} )$ → **rectangular diagonal** with the **singular values** on the diagonal\n",
    "\n",
    "---\n",
    "\n",
    "### Why is it different from eigendecomposition?\n",
    "\n",
    "| Eigendecomposition | SVD |\n",
    "|------------------------------|---------------------------------------|\n",
    "| Requires `A` to be square | Works for **any matrix** |\n",
    "| `A = V Λ V⁻¹` | `A = U D Vᵀ` |\n",
    "| Use eigenvalues/eigenvectors | Use **singular** values ​​and vectors |\n",
    "\n",
    "---\n",
    "\n",
    "### What does SVD tell us?\n",
    "\n",
    "- The **singular values** (singular values ​​of `D`) are the **square roots** of the **eigenvalues** of \\( A^T A \\) or \\( A A^T \\).\n",
    "- The **right-singular vectors** (columns of `V`) are the **eigenvectors of \\( A^T A \\)**.\n",
    "- **Left-singular vectors** (columns of `U`) are **the eigenvectors of \\( A A^T \\)**.\n",
    "\n",
    "---\n",
    "\n",
    "### What is SVD for?\n",
    "\n",
    "1. **Decompose** any matrix, even non-square.\n",
    "2. **Understand the geometry** of the transformation done by `A`.\n",
    "3. **Data compression** (e.g. PCA, dimensional reduction).\n",
    "4. **Pseudoinverse** of non-invertible matrices.\n",
    "5. **Numerical stability** for ill-posed problems."
   ]
  },
  {
   "cell_type": "markdown",
   "metadata": {},
   "source": [
    "## **SVD & Pseudoinverse (Moore-Penrose)**\n",
    "\n",
    "---\n",
    "\n",
    "### **SVD (Singular Value Decomposition)**\n",
    "\n",
    "The SVD writes **any real matrix** $( A \\in \\mathbb{R}^{m \\times n} )$ as:\n",
    "\n",
    "$\n",
    "A = U D V^T\n",
    "$\n",
    "\n",
    "- $`U ∈ ℝ^{m×m}`$ → **orthogonal matrix** (columns = left-singular vectors)\n",
    "- $`D ∈ ℝ^{m×n}`$ → **rectangular diagonal** (singular values)\n",
    "- $`V ∈ ℝ^{n×n}`$ → **orthogonal matrix** (columns = right-singular vectors)\n",
    "\n",
    "> The **SVD always exists**, even when the eigendecomposition **is not defined** (e.g. for non-square matrices).\n",
    "\n",
    "---\n",
    "\n",
    "### **Connection with eigendecomposition**\n",
    "\n",
    "- The **left-singular vectors** of $`A`$ = eigenvectors of $( AA^T )$\n",
    "- The **right-singular vectors** of $`A`$ = eigenvectors of $( A^T A )$\n",
    "- The **singular values** = √ (eigenvalues ​​of $( A^T A )$)\n",
    "\n",
    "---\n",
    "\n",
    "### **What is it for?**\n",
    "\n",
    "1. Data compression (e.g. PCA)\n",
    "2. Approximate reconstruction\n",
    "3. Dimensional reduction\n",
    "4. Inversion of non-square matrices (enter the pseudoinverse…)\n",
    "\n",
    "---\n",
    "\n",
    "## **Moore-Penrose Pseudoinverse**\n",
    "\n",
    "> A “generalized inverse” for **non-square** or **singular** matrices.\n",
    "\n",
    "---\n",
    "\n",
    "### Practical definition:\n",
    "\n",
    "Given the **SVD** of $( A = U D V^T )$, the pseudoinverse is:\n",
    "\n",
    "$$\n",
    "A^+ = V D^+ U^T\n",
    "$$\n",
    "\n",
    "- $( D^+ )$: obtained by **inverting singular values ​​≠ 0** and **transposing**\n",
    "- Works even when $`A`$ **has no normal inverse**\n",
    "\n",
    "---\n",
    "\n",
    "### **What does the pseudoinverse really do?**\n",
    "\n",
    "- If **A has more rows than columns** (`tall matrix`):\n",
    "- There is not always a solution to $( Ax = y )$\n",
    "- But $( A^+ y )$ gives **the closest solution** to $`y`$ (minimizes ( $||Ax - y||_2$ ))\n",
    "\n",
    "- If **A has more columns than rows** (`wide matrix`):\n",
    "- Many possible solutions\n",
    "- $( A^+ y )$ returns **the one with minimum norm**, i.e. **the shortest**.\n",
    "\n",
    "---\n",
    "\n",
    "### Theoretical formula:\n",
    "\n",
    "$$\n",
    "A^+ = \\lim_{\\alpha \\to 0} (A^T A + \\alpha I)^{-1} A^T\n",
    "$$\n",
    "\n",
    "But in modern software (like NumPy), we use **direct SVD**, which is **more numerically stable**.\n",
    "\n",
    "---\n",
    "\n",
    "### Deep insight\n",
    "\n",
    "The **pseudoinverse is like a hand that tries to invert even what is \"crooked\", incomplete or unbalanced**, finding the **closest possible or most “economical” solution**."
   ]
  },
  {
   "cell_type": "markdown",
   "metadata": {},
   "source": [
    "## **Minimizing the reconstruction error: PCA and Frobenius norm**\n",
    "\n",
    "---\n",
    "\n",
    "### Goal\n",
    "\n",
    "Given a set of points $( x^{(i)} )$, we want to find a **encoding matrix `D`** that allows us to reconstruct the inputs well, but using **fewer dimensions**.\n",
    "\n",
    "> In practice: we want to **compress the information** in a smaller space, **without losing too much content**.\n",
    "\n",
    "---\n",
    "\n",
    "### The problem\n",
    "\n",
    "We want to find $( D )$ such that, for each point:\n",
    "\n",
    "$$\n",
    "r(x^{(i)}) = D D^T x^{(i)}\n",
    "$$\n",
    "\n",
    "Where:\n",
    "\n",
    "- $( D \\in \\mathbb{R}^{n \\times l} )$, with $( l < n )$: **projection onto a smaller space**\n",
    "- The reconstructed vector $( r(x) )$ is obtained **projecting and then reconstructing** with `D`.\n",
    "\n",
    "---\n",
    "\n",
    "### **Objective function**\n",
    "\n",
    "Minimize **the total reconstruction error** over all data:\n",
    "\n",
    "$$\n",
    "D^* = \\arg \\min_D \\| X - X D D^T \\|_F^2 \\quad \\text{s.t.} \\quad D^T D = I\n",
    "$$\n",
    "\n",
    "- Where $( X )$ is the data matrix (each row an example)\n",
    "- We use the **Frobenius norm** (sum of the squares of all the elements)\n",
    "- The constraint $( D^T D = I )$ means: **the columns of D are orthonormal**\n",
    "\n",
    "---\n",
    "\n",
    "### Simple case: $l = 1$\n",
    "\n",
    "We want to find a single vector `d`, with norm 1, such that:\n",
    "\n",
    "$$\n",
    "\\min_d \\sum_i \\| x^{(i)} - d d^T x^{(i)} \\|_2^2 \\quad \\text{s.t.} \\quad \\|d\\| = 1\n",
    "$$\n",
    "\n",
    "This is equivalent to **projecting all the data onto a single direction**\n",
    "and finding the one that **preserves as much variance as possible** (i.e. **minimizes the loss**).\n",
    "\n",
    "---\n",
    "\n",
    "### Mathematical steps (simplified):\n",
    "\n",
    "1. Write the problem in matrix form: $( X \\in \\mathbb{R}^{m \\times n} )$\n",
    "2. Develop the error with **trace**, using cyclic properties\n",
    "3. Simplify and arrive at:\n",
    "\n",
    "$$\n",
    "\\max_d \\operatorname{Tr}(d^T X^T X d) \\quad \\text{s.t.} \\quad d^T d = 1\n",
    "$$\n",
    "\n",
    "Solution: **the principal eigenvector of $( X^T X )$** (the one with **the largest eigenvalue**)\n",
    "\n",
    "---\n",
    "\n",
    "### Final result\n",
    "\n",
    "- The **optimal direction `d`** is the **first principal component** of the data.\n",
    "- If we want more than one direction (e.g., reduce to `l` dimensions), we take the **first `l` eigenvectors** of $( X^T X )$.\n",
    "- This is the heart of **Principal Component Analysis (PCA)**.\n",
    "\n",
    "---\n",
    "\n",
    "### Intuition\n",
    "\n",
    "We are looking for the **subspace that “explains” the data best**, that is:\n",
    "\n",
    "- where **the projection has minimum error**\n",
    "- or equivalently, where **the projected variance is maximum**\n",
    "\n",
    "---\n",
    "\n",
    "### Connection with SVD\n",
    "\n",
    "Actually, we can get the PCA directly from the **SVD of `X`**:\n",
    "\n",
    "$$\n",
    "X = U D V^T\n",
    "$$\n",
    "\n",
    "The **principal components** are the **first columns of `V`**.\n",
    "\n",
    "The **explained variance** is given by the **singular values ​​squared**."
   ]
  },
  {
   "cell_type": "markdown",
   "metadata": {},
   "source": [
    "### **PCA Exercise**\n",
    "\n"
   ]
  },
  {
   "cell_type": "code",
   "execution_count": 52,
   "metadata": {},
   "outputs": [],
   "source": [
    "import numpy as np\n",
    "import matplotlib.pyplot as plt"
   ]
  },
  {
   "cell_type": "code",
   "execution_count": null,
   "metadata": {},
   "outputs": [],
   "source": [
    "# Simulate a 2D dataset with variance stretched in one direction\n",
    "np.random.seed(42)\n",
    "mean = [0, 0]\n",
    "cov = [[3, 1.5], [1.5, 1]] \n",
    "X = np.random.multivariate_normal(mean, cov, size=100)"
   ]
  },
  {
   "cell_type": "code",
   "execution_count": 54,
   "metadata": {},
   "outputs": [],
   "source": [
    "# Center the data (subtract the mean)\n",
    "X_centered = X - np.mean(X, axis=0)"
   ]
  },
  {
   "cell_type": "code",
   "execution_count": 55,
   "metadata": {},
   "outputs": [],
   "source": [
    "# Calculate the SVD of the centered data\n",
    "U, S, Vt = np.linalg.svd(X_centered)"
   ]
  },
  {
   "cell_type": "code",
   "execution_count": 56,
   "metadata": {},
   "outputs": [],
   "source": [
    "# The first principal component (direction of maximum variance)\n",
    "pc1 = Vt[0]"
   ]
  },
  {
   "cell_type": "code",
   "execution_count": 57,
   "metadata": {},
   "outputs": [],
   "source": [
    "# Let's project the data onto the first component to visualize\n",
    "X_proj = X_centered @ pc1[:, np.newaxis] @ pc1[np.newaxis, :]"
   ]
  },
  {
   "cell_type": "code",
   "execution_count": 58,
   "metadata": {},
   "outputs": [
    {
     "data": {
      "image/png": "[encoded data removed]",
      "text/plain": [
       "<Figure size 700x700 with 1 Axes>"
      ]
     },
     "metadata": {},
     "output_type": "display_data"
    }
   ],
   "source": [
    "# View\n",
    "plt.figure(figsize=(7, 7))\n",
    "plt.scatter(X_centered[:, 0], X_centered[:, 1], alpha=0.3, label='Data centered')\n",
    "plt.plot([0, pc1[0]*5], [0, pc1[1]*5], color='red', label='1st principal component', linewidth=2)\n",
    "plt.scatter(X_proj[:, 0], X_proj[:, 1], color='green', alpha=0.6, label='Projection to PC1')\n",
    "\n",
    "plt.axis('equal')\n",
    "plt.axhline(0, color='black', linewidth=0.5)\n",
    "plt.axvline(0, color='black', linewidth=0.5)\n",
    "plt.title(\"PCA: projection onto the first component principal\")\n",
    "plt.legend()\n",
    "plt.grid(True)\n",
    "plt.show()"
   ]
  },
  {
   "cell_type": "markdown",
   "metadata": {},
   "source": [
    "### What did we do?\n",
    "\n",
    "1. We generated data with a preferred direction (covariance).\n",
    "2. We **centered** it.\n",
    "3. We applied **SVD** to find the **first eigenvector** of $( X^T X )$.\n",
    "4. We **projected all points** along that direction.\n",
    "\n",
    "---\n",
    "\n",
    "This is **the mathematical basis of dimensionality reduction**, **data compression**, and **techniques like linear autoencoder**."
   ]
  },
  {
   "cell_type": "markdown",
   "metadata": {},
   "source": [
    "# **Conceptual Summary – Linear Algebra for Deep Learning (Chapter 2)**\n",
    "\n",
    "---\n",
    "\n",
    "## **Core Objects**\n",
    "\n",
    "| Object     | Symbol / Form                          | Meaning                                 |\n",
    "|------------|----------------------------------------|------------------------------------------|\n",
    "| Scalar     | $( a \\in \\mathbb{R} )$                 | A single number                          |\n",
    "| Vector     | $( x \\in \\mathbb{R}^n )$               | An ordered 1D array                      |\n",
    "| Matrix     | $( A \\in \\mathbb{R}^{m \\times n} )$    | A 2D array of numbers                    |\n",
    "| Tensor     | $( T \\in \\mathbb{R}^{d_1 \\times \\dots \\times d_n} )$ | Generalization of vectors/matrices to higher dimensions |\n",
    "\n",
    "---\n",
    "\n",
    "## **Fundamental Operations**\n",
    "\n",
    "| Operation                 | Formula                               | Meaning                                                       |\n",
    "|--------------------------|----------------------------------------|---------------------------------------------------------------|\n",
    "| Transpose                | $( A^T $)                              | Swap rows and columns                                         |\n",
    "| Matrix multiplication    | $( C = AB )$                           | Defined only if A columns = B rows                            |\n",
    "| Hadamard product         | $( A \\circ B )$                        | Element-wise multiplication                                   |\n",
    "| Dot product              | $( x^T y = \\sum x_i y_i )$             | Projection; alignment measure between two vectors             |\n",
    "| L1 norm                  | $( \\|x\\|_1 = \\sum |x_i| )$             | Manhattan distance                                            |\n",
    "| L2 norm                  | $( \\|x\\|_2 = \\sqrt{\\sum x_i^2} )$      | Euclidean distance                                            |\n",
    "| Infinity norm            | $( \\|x\\|_\\infty = \\max |x_i| )$        | Largest absolute value                                        |\n",
    "| Frobenius norm           | $( \\|A\\|_F = \\sqrt{\\sum A_{ij}^2} )$   | Matrix analog of L2 norm                                      |\n",
    "\n",
    "---\n",
    "\n",
    "## **Core Concepts**\n",
    "\n",
    "| Concept                   | Explanation                                                                 |\n",
    "|---------------------------|-----------------------------------------------------------------------------|\n",
    "| Linear dependence         | A vector is linearly dependent if it can be written as a combination of others |\n",
    "| Span                      | Set of all linear combinations of a set of vectors                          |\n",
    "| Column space              | Span of a matrix’s columns; equation $( Ax = b )$ has solutions if $( b )$ lies in it |\n",
    "| Invertibility             | A matrix is invertible only if it is square and has linearly independent columns |\n",
    "| Singularity               | A matrix is singular if any of its eigenvalues is zero                      |\n",
    "\n",
    "---\n",
    "\n",
    "## **Matrix Decompositions**\n",
    "\n",
    "| Type                     | Formula                            | Purpose                                                        |\n",
    "|--------------------------|-------------------------------------|----------------------------------------------------------------|\n",
    "| Eigendecomposition       | $( A = V \\Lambda V^{-1} )$         | Analyze scaling/stretching directions                          |\n",
    "| Symmetric decomposition  | $( A = Q \\Lambda Q^T )$            | Simplified eigendecomposition with orthogonal eigenvectors     |\n",
    "| Singular Value Decomp.   | $( A = U D V^T )$                  | Universal decomposition; works for all real matrices           |\n",
    "| PCA                      | Derived from SVD on centered data  | Dimensionality reduction, variance preservation                |\n",
    "| Moore-Penrose pseudoinv. | $( A^+ = V D^+ U^T )$              | Generalized inverse for non-square or singular matrices        |\n",
    "\n",
    "---\n",
    "\n",
    "## **Special Matrices**\n",
    "\n",
    "| Type                        | Condition / Definition             | Properties                                      |\n",
    "|-----------------------------|------------------------------------|------------------------------------------------|\n",
    "| Diagonal                    | $( A_{ij} = 0 )$ if $( i \\ne j )$  | Fast multiplication and inversion              |\n",
    "| Symmetric                   | $( A = A^T )$                      | Real eigenvalues                               |\n",
    "| Orthogonal                  | $( A^T A = I )$                    | $( A^{-1} = A^T )$, preserves length and angles |\n",
    "| Positive definite           | $( x^T A x > 0 )$ $∀$ $( x \\ne 0 $)  | All eigenvalues are strictly positive          |\n",
    "| Positive semidefinite       | $( x^T A x \\geq 0 )$ $∀$ $( x )$     | All eigenvalues ≥ 0                            |\n",
    "\n",
    "---\n",
    "\n",
    "## **Eigendecomposition and Optimization**\n",
    "\n",
    "| Element                     | Description                                                              |\n",
    "|-----------------------------|--------------------------------------------------------------------------|\n",
    "| Eigenvalues / Eigenvectors  | $( A v = \\lambda v )$                                                    |\n",
    "| Optimization form           | Maximize $( x^T A x )$ subject to $( \\|x\\| = 1 )$                         |\n",
    "| Result                      | Maximum = eigenvector with largest eigenvalue                            |\n",
    "| Eigenvalue implications     | If any $( \\lambda = 0 )$, then A is singular                             |\n",
    "\n",
    "---\n",
    "\n",
    "## **Singular Value Decomposition (SVD)**\n",
    "\n",
    "| Component | Role                                  |\n",
    "|-----------|---------------------------------------|\n",
    "| $( A = U D V^T )$ | General form of SVD            |\n",
    "| $( U )$          | Left-singular vectors (orthogonal) |\n",
    "| $( V )$          | Right-singular vectors (orthogonal) |\n",
    "| $( D )$          | Diagonal (possibly rectangular) matrix of singular values |\n",
    "| Relation         | Singular values = $( \\sqrt{\\lambda} )$ where $( \\lambda )$ are eigenvalues of $( A^T A )$ or $( AA^T )$ |\n",
    "\n",
    "---\n",
    "\n",
    "## **Moore-Penrose Pseudoinverse**\n",
    "\n",
    "| Situation                    | Result                                                                 |\n",
    "|------------------------------|------------------------------------------------------------------------|\n",
    "| Wide matrix $( m < n )$      | Infinite solutions; pseudoinverse yields solution with minimum norm    |\n",
    "| Tall matrix $( m > n )$      | May have no solution; pseudoinverse minimizes $( \\|Ax - y\\|_2 )$       |\n",
    "| Formula (SVD-based)          | $( A^+ = V D^+ U^T )$ where $( D^+ )$ inverts non-zero singular values |\n",
    "| Use                          | Robust pseudo-inversion for non-invertible or non-square matrices      |\n",
    "\n",
    "---\n",
    "\n",
    "## **PCA – Principal Component Analysis**\n",
    "\n",
    "| Step                          | Description                                                            |\n",
    "|-------------------------------|------------------------------------------------------------------------|\n",
    "| Objective                     | Project data to a lower-dimensional subspace with minimal reconstruction error |\n",
    "| Projection formula            | $( r(x) = D D^T x )$                                                 |\n",
    "| Optimization objective        | Minimize $( \\| X - X D D^T \\|_F^2 )$, subject to $( D^T D = I )$       |\n",
    "| Case $( l = 1 )$              | Maximize $( d^T X^T X d )$, with $( \\|d\\| = 1 )$                        |\n",
    "| Solution                      | First eigenvector of $( X^T X )$ or first right-singular vector of SVD |\n",
    "| With SVD                      | Principal components = first columns of $( V )$ in $( X = U D V^T )$  |\n",
    "\n",
    "---"
   ]
  }
 ],
 "metadata": {
  "kernelspec": {
   "display_name": "ai_env",
   "language": "python",
   "name": "python3"
  },
  "language_info": {
   "codemirror_mode": {
    "name": "ipython",
    "version": 3
   },
   "file_extension": ".py",
   "mimetype": "text/x-python",
   "name": "python",
   "nbconvert_exporter": "python",
   "pygments_lexer": "ipython3",
   "version": "3.10.16"
  }
 },
 "nbformat": 4,
 "nbformat_minor": 2
}
