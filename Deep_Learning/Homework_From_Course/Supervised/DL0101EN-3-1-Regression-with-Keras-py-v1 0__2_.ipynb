{
 "cells": [
  {
   "cell_type": "markdown",
   "id": "620d3acc-31d2-4fa6-8669-07a2017ca647",
   "metadata": {},
   "source": [
    "<a href=\"https://cognitiveclass.ai\"><img src=\"https://cf-courses-data.s3.us.cloud-object-storage.appdomain.cloud/IBMDeveloperSkillsNetwork-DL0101EN-SkillsNetwork/images/IDSN-logo.png\" width=\"400\"> </a>\n",
    "\n",
    "# Regression Models with Keras\n",
    "\n",
    "Estimated time needed: **45** mins\n"
   ]
  },
  {
   "cell_type": "markdown",
   "id": "d55ac477-e958-4484-8cf8-953248fa8cdc",
   "metadata": {},
   "source": [
    "## Introduction\n"
   ]
  },
  {
   "cell_type": "markdown",
   "id": "13022600-da48-46c3-a6d6-c62134e454b9",
   "metadata": {},
   "source": [
    "As we discussed in the videos, despite the popularity of more powerful libraries such as PyToch and TensorFlow, they are not easy to use and have a steep learning curve. So, for people who are just starting to learn deep learning, there is no better library to use other than the Keras library. \n",
    "\n",
    "Keras is a high-level API for building deep learning models. It has gained favor for its ease of use and syntactic simplicity facilitating fast development. As you will see in this lab and the other labs in this course, building a very complex deep learning network can be achieved with Keras with only few lines of code. You will appreciate Keras even more, once you learn how to build deep models using PyTorch and TensorFlow in the other courses.\n",
    "\n",
    "So, in this lab, you will learn how to use the Keras library to build a regression model.\n"
   ]
  },
  {
   "cell_type": "markdown",
   "id": "01131e2b-fc97-4d16-b69e-fda8e987e4c4",
   "metadata": {},
   "source": [
    "## Objectives for this Notebook    \n",
    "* How to use the Keras library to build a regression model\n",
    "* Download and clean the data set\n",
    "* Build a neural network\n",
    "* Train and test the network     \n",
    "\n"
   ]
  },
  {
   "cell_type": "markdown",
   "id": "f7c8c632-4f61-4208-b59b-57bc66590303",
   "metadata": {},
   "source": [
    "## Table of Contents\n",
    "\n",
    "<div class=\"alert alert-block alert-info\" style=\"margin-top: 20px\">\n",
    "\n",
    "<font size = 3>\n",
    "    \n",
    "1. <a href=\"#item31\">Download and Clean the Data Set</a>  \n",
    "2. <a href=\"#item32\">Import Keras Packages</a>\n",
    "3. <a href=\"#item33\">Build a Neural Network</a>\n",
    "4. <a href=\"#item34\">Train and Test the Network</a>  \n",
    "\n",
    "</font>\n",
    "</div>\n"
   ]
  },
  {
   "cell_type": "markdown",
   "id": "41de636e-9342-4705-a10e-edbc029c8b5d",
   "metadata": {},
   "source": [
    "<a id=\"item31\"></a>\n"
   ]
  },
  {
   "cell_type": "markdown",
   "id": "eff2f496-ce87-40eb-bc3f-aacdba07ed43",
   "metadata": {},
   "source": [
    "## Download and Clean the  Data Set\n"
   ]
  },
  {
   "cell_type": "markdown",
   "id": "dbb0bd76-ead9-4b08-a208-b5a1b6e3dba9",
   "metadata": {},
   "source": [
    "Let's start by importing the <em>pandas</em> and the Numpy libraries.\n"
   ]
  },
  {
   "cell_type": "code",
   "execution_count": 27,
   "id": "ee372e52-22aa-48f9-9a1b-727536a5cf7d",
   "metadata": {},
   "outputs": [
    {
     "name": "stdout",
     "output_type": "stream",
     "text": [
      "Requirement already satisfied: numpy==2.0.2 in c:\\users\\dell\\anaconda3\\envs\\my_env\\lib\\site-packages (2.0.2)\n",
      "Note: you may need to restart the kernel to use updated packages.\n",
      "Requirement already satisfied: pandas==2.2.2 in c:\\users\\dell\\anaconda3\\envs\\my_env\\lib\\site-packages (2.2.2)\n",
      "Requirement already satisfied: numpy>=1.26.0 in c:\\users\\dell\\anaconda3\\envs\\my_env\\lib\\site-packages (from pandas==2.2.2) (2.0.2)\n",
      "Requirement already satisfied: python-dateutil>=2.8.2 in c:\\users\\dell\\anaconda3\\envs\\my_env\\lib\\site-packages (from pandas==2.2.2) (2.9.0.post0)\n",
      "Requirement already satisfied: pytz>=2020.1 in c:\\users\\dell\\anaconda3\\envs\\my_env\\lib\\site-packages (from pandas==2.2.2) (2024.1)\n",
      "Requirement already satisfied: tzdata>=2022.7 in c:\\users\\dell\\anaconda3\\envs\\my_env\\lib\\site-packages (from pandas==2.2.2) (2025.1)\n",
      "Requirement already satisfied: six>=1.5 in c:\\users\\dell\\anaconda3\\envs\\my_env\\lib\\site-packages (from python-dateutil>=2.8.2->pandas==2.2.2) (1.17.0)\n",
      "Note: you may need to restart the kernel to use updated packages.\n",
      "Requirement already satisfied: tensorflow_cpu==2.18.0 in c:\\users\\dell\\anaconda3\\envs\\my_env\\lib\\site-packages (2.18.0)\n",
      "Requirement already satisfied: tensorflow-intel==2.18.0 in c:\\users\\dell\\anaconda3\\envs\\my_env\\lib\\site-packages (from tensorflow_cpu==2.18.0) (2.18.0)\n",
      "Requirement already satisfied: absl-py>=1.0.0 in c:\\users\\dell\\anaconda3\\envs\\my_env\\lib\\site-packages (from tensorflow-intel==2.18.0->tensorflow_cpu==2.18.0) (2.1.0)\n",
      "Requirement already satisfied: astunparse>=1.6.0 in c:\\users\\dell\\anaconda3\\envs\\my_env\\lib\\site-packages (from tensorflow-intel==2.18.0->tensorflow_cpu==2.18.0) (1.6.3)\n",
      "Requirement already satisfied: flatbuffers>=24.3.25 in c:\\users\\dell\\anaconda3\\envs\\my_env\\lib\\site-packages (from tensorflow-intel==2.18.0->tensorflow_cpu==2.18.0) (25.1.24)\n",
      "Requirement already satisfied: gast!=0.5.0,!=0.5.1,!=0.5.2,>=0.2.1 in c:\\users\\dell\\anaconda3\\envs\\my_env\\lib\\site-packages (from tensorflow-intel==2.18.0->tensorflow_cpu==2.18.0) (0.6.0)\n",
      "Requirement already satisfied: google-pasta>=0.1.1 in c:\\users\\dell\\anaconda3\\envs\\my_env\\lib\\site-packages (from tensorflow-intel==2.18.0->tensorflow_cpu==2.18.0) (0.2.0)\n",
      "Requirement already satisfied: libclang>=13.0.0 in c:\\users\\dell\\anaconda3\\envs\\my_env\\lib\\site-packages (from tensorflow-intel==2.18.0->tensorflow_cpu==2.18.0) (18.1.1)\n",
      "Requirement already satisfied: opt-einsum>=2.3.2 in c:\\users\\dell\\anaconda3\\envs\\my_env\\lib\\site-packages (from tensorflow-intel==2.18.0->tensorflow_cpu==2.18.0) (3.4.0)\n",
      "Requirement already satisfied: packaging in c:\\users\\dell\\anaconda3\\envs\\my_env\\lib\\site-packages (from tensorflow-intel==2.18.0->tensorflow_cpu==2.18.0) (24.2)\n",
      "Requirement already satisfied: protobuf!=4.21.0,!=4.21.1,!=4.21.2,!=4.21.3,!=4.21.4,!=4.21.5,<6.0.0dev,>=3.20.3 in c:\\users\\dell\\anaconda3\\envs\\my_env\\lib\\site-packages (from tensorflow-intel==2.18.0->tensorflow_cpu==2.18.0) (5.28.3)\n",
      "Requirement already satisfied: requests<3,>=2.21.0 in c:\\users\\dell\\anaconda3\\envs\\my_env\\lib\\site-packages (from tensorflow-intel==2.18.0->tensorflow_cpu==2.18.0) (2.32.3)\n",
      "Requirement already satisfied: setuptools in c:\\users\\dell\\anaconda3\\envs\\my_env\\lib\\site-packages (from tensorflow-intel==2.18.0->tensorflow_cpu==2.18.0) (75.8.0)\n",
      "Requirement already satisfied: six>=1.12.0 in c:\\users\\dell\\anaconda3\\envs\\my_env\\lib\\site-packages (from tensorflow-intel==2.18.0->tensorflow_cpu==2.18.0) (1.17.0)\n",
      "Requirement already satisfied: termcolor>=1.1.0 in c:\\users\\dell\\anaconda3\\envs\\my_env\\lib\\site-packages (from tensorflow-intel==2.18.0->tensorflow_cpu==2.18.0) (2.5.0)\n",
      "Requirement already satisfied: typing-extensions>=3.6.6 in c:\\users\\dell\\anaconda3\\envs\\my_env\\lib\\site-packages (from tensorflow-intel==2.18.0->tensorflow_cpu==2.18.0) (4.12.2)\n",
      "Requirement already satisfied: wrapt>=1.11.0 in c:\\users\\dell\\anaconda3\\envs\\my_env\\lib\\site-packages (from tensorflow-intel==2.18.0->tensorflow_cpu==2.18.0) (1.17.2)\n",
      "Requirement already satisfied: grpcio<2.0,>=1.24.3 in c:\\users\\dell\\anaconda3\\envs\\my_env\\lib\\site-packages (from tensorflow-intel==2.18.0->tensorflow_cpu==2.18.0) (1.70.0)\n",
      "Requirement already satisfied: tensorboard<2.19,>=2.18 in c:\\users\\dell\\anaconda3\\envs\\my_env\\lib\\site-packages (from tensorflow-intel==2.18.0->tensorflow_cpu==2.18.0) (2.18.0)\n",
      "Requirement already satisfied: keras>=3.5.0 in c:\\users\\dell\\anaconda3\\envs\\my_env\\lib\\site-packages (from tensorflow-intel==2.18.0->tensorflow_cpu==2.18.0) (3.8.0)\n",
      "Requirement already satisfied: numpy<2.1.0,>=1.26.0 in c:\\users\\dell\\anaconda3\\envs\\my_env\\lib\\site-packages (from tensorflow-intel==2.18.0->tensorflow_cpu==2.18.0) (2.0.2)\n",
      "Requirement already satisfied: h5py>=3.11.0 in c:\\users\\dell\\anaconda3\\envs\\my_env\\lib\\site-packages (from tensorflow-intel==2.18.0->tensorflow_cpu==2.18.0) (3.12.1)\n",
      "Requirement already satisfied: ml-dtypes<0.5.0,>=0.4.0 in c:\\users\\dell\\anaconda3\\envs\\my_env\\lib\\site-packages (from tensorflow-intel==2.18.0->tensorflow_cpu==2.18.0) (0.4.1)\n",
      "Requirement already satisfied: wheel<1.0,>=0.23.0 in c:\\users\\dell\\anaconda3\\envs\\my_env\\lib\\site-packages (from astunparse>=1.6.0->tensorflow-intel==2.18.0->tensorflow_cpu==2.18.0) (0.45.1)\n",
      "Requirement already satisfied: rich in c:\\users\\dell\\anaconda3\\envs\\my_env\\lib\\site-packages (from keras>=3.5.0->tensorflow-intel==2.18.0->tensorflow_cpu==2.18.0) (13.9.4)\n",
      "Requirement already satisfied: namex in c:\\users\\dell\\anaconda3\\envs\\my_env\\lib\\site-packages (from keras>=3.5.0->tensorflow-intel==2.18.0->tensorflow_cpu==2.18.0) (0.0.8)\n",
      "Requirement already satisfied: optree in c:\\users\\dell\\anaconda3\\envs\\my_env\\lib\\site-packages (from keras>=3.5.0->tensorflow-intel==2.18.0->tensorflow_cpu==2.18.0) (0.14.0)\n",
      "Requirement already satisfied: charset_normalizer<4,>=2 in c:\\users\\dell\\anaconda3\\envs\\my_env\\lib\\site-packages (from requests<3,>=2.21.0->tensorflow-intel==2.18.0->tensorflow_cpu==2.18.0) (3.4.1)\n",
      "Requirement already satisfied: idna<4,>=2.5 in c:\\users\\dell\\anaconda3\\envs\\my_env\\lib\\site-packages (from requests<3,>=2.21.0->tensorflow-intel==2.18.0->tensorflow_cpu==2.18.0) (3.10)\n",
      "Requirement already satisfied: urllib3<3,>=1.21.1 in c:\\users\\dell\\anaconda3\\envs\\my_env\\lib\\site-packages (from requests<3,>=2.21.0->tensorflow-intel==2.18.0->tensorflow_cpu==2.18.0) (2.3.0)\n",
      "Requirement already satisfied: certifi>=2017.4.17 in c:\\users\\dell\\anaconda3\\envs\\my_env\\lib\\site-packages (from requests<3,>=2.21.0->tensorflow-intel==2.18.0->tensorflow_cpu==2.18.0) (2024.12.14)\n",
      "Requirement already satisfied: markdown>=2.6.8 in c:\\users\\dell\\anaconda3\\envs\\my_env\\lib\\site-packages (from tensorboard<2.19,>=2.18->tensorflow-intel==2.18.0->tensorflow_cpu==2.18.0) (3.6)\n",
      "Requirement already satisfied: tensorboard-data-server<0.8.0,>=0.7.0 in c:\\users\\dell\\anaconda3\\envs\\my_env\\lib\\site-packages (from tensorboard<2.19,>=2.18->tensorflow-intel==2.18.0->tensorflow_cpu==2.18.0) (0.7.2)\n",
      "Requirement already satisfied: werkzeug>=1.0.1 in c:\\users\\dell\\anaconda3\\envs\\my_env\\lib\\site-packages (from tensorboard<2.19,>=2.18->tensorflow-intel==2.18.0->tensorflow_cpu==2.18.0) (3.1.3)\n",
      "Requirement already satisfied: MarkupSafe>=2.1.1 in c:\\users\\dell\\anaconda3\\envs\\my_env\\lib\\site-packages (from werkzeug>=1.0.1->tensorboard<2.19,>=2.18->tensorflow-intel==2.18.0->tensorflow_cpu==2.18.0) (3.0.2)\n",
      "Requirement already satisfied: markdown-it-py>=2.2.0 in c:\\users\\dell\\anaconda3\\envs\\my_env\\lib\\site-packages (from rich->keras>=3.5.0->tensorflow-intel==2.18.0->tensorflow_cpu==2.18.0) (3.0.0)\n",
      "Requirement already satisfied: pygments<3.0.0,>=2.13.0 in c:\\users\\dell\\anaconda3\\envs\\my_env\\lib\\site-packages (from rich->keras>=3.5.0->tensorflow-intel==2.18.0->tensorflow_cpu==2.18.0) (2.19.1)\n",
      "Requirement already satisfied: mdurl~=0.1 in c:\\users\\dell\\anaconda3\\envs\\my_env\\lib\\site-packages (from markdown-it-py>=2.2.0->rich->keras>=3.5.0->tensorflow-intel==2.18.0->tensorflow_cpu==2.18.0) (0.1.2)\n",
      "Note: you may need to restart the kernel to use updated packages.\n"
     ]
    }
   ],
   "source": [
    "# All Libraries required for this lab are listed below. \n",
    "\n",
    "%pip install numpy==2.0.2\n",
    "%pip install pandas==2.2.2\n",
    "%pip install tensorflow_cpu==2.18.0\n"
   ]
  },
  {
   "cell_type": "markdown",
   "id": "dde2aeb0-b452-47c4-aea1-3dbe21013d7d",
   "metadata": {},
   "source": [
    "##### To use Keras, you will also need to install a backend framework – such as TensorFlow.\n",
    "\n",
    "If you install TensorFlow 2.16 or above, it will install Keras by default.\n",
    "\n",
    "We are using the CPU version of tensorflow since we are dealing with smaller datasets. \n",
    "You may install the GPU version of tensorflow on your machine to accelarate the processing of larger datasets\n"
   ]
  },
  {
   "cell_type": "code",
   "execution_count": 28,
   "id": "fbd78a4c-438b-462f-8f32-67e01158f90c",
   "metadata": {},
   "outputs": [],
   "source": [
    "import pandas as pd\n",
    "import numpy as np\n",
    "import keras\n",
    "\n",
    "import warnings\n",
    "warnings.simplefilter('ignore', FutureWarning)"
   ]
  },
  {
   "cell_type": "markdown",
   "id": "329a8ab1-7abb-45c2-8089-3c1ac9a35042",
   "metadata": {},
   "source": [
    "We will be playing around with the same dataset that we used in the videos.\n",
    "\n",
    "<strong>The dataset is about the compressive strength of different samples of concrete based on the volumes of the different ingredients that were used to make them. Ingredients include:</strong>\n",
    "\n",
    "* Cement\n",
    "* Blast furnace slag\n",
    "* Fly ash\n",
    "* Water\n",
    "* Superplasticizer\n",
    "* Coarse aggregate\n",
    "* Fine aggregate\n"
   ]
  },
  {
   "cell_type": "markdown",
   "id": "2b212509-f161-41dc-936c-68244cf5deb4",
   "metadata": {},
   "source": [
    "Let's download the data and read it into a <em>pandas</em> dataframe.\n"
   ]
  },
  {
   "cell_type": "code",
   "execution_count": 29,
   "id": "1cf1e071-c55a-41cb-87fd-f05371fb2ff3",
   "metadata": {},
   "outputs": [
    {
     "data": {
      "text/html": [
       "<div>\n",
       "<style scoped>\n",
       "    .dataframe tbody tr th:only-of-type {\n",
       "        vertical-align: middle;\n",
       "    }\n",
       "\n",
       "    .dataframe tbody tr th {\n",
       "        vertical-align: top;\n",
       "    }\n",
       "\n",
       "    .dataframe thead th {\n",
       "        text-align: right;\n",
       "    }\n",
       "</style>\n",
       "<table border=\"1\" class=\"dataframe\">\n",
       "  <thead>\n",
       "    <tr style=\"text-align: right;\">\n",
       "      <th></th>\n",
       "      <th>Cement</th>\n",
       "      <th>Blast Furnace Slag</th>\n",
       "      <th>Fly Ash</th>\n",
       "      <th>Water</th>\n",
       "      <th>Superplasticizer</th>\n",
       "      <th>Coarse Aggregate</th>\n",
       "      <th>Fine Aggregate</th>\n",
       "      <th>Age</th>\n",
       "      <th>Strength</th>\n",
       "    </tr>\n",
       "  </thead>\n",
       "  <tbody>\n",
       "    <tr>\n",
       "      <th>0</th>\n",
       "      <td>540.0</td>\n",
       "      <td>0.0</td>\n",
       "      <td>0.0</td>\n",
       "      <td>162.0</td>\n",
       "      <td>2.5</td>\n",
       "      <td>1040.0</td>\n",
       "      <td>676.0</td>\n",
       "      <td>28</td>\n",
       "      <td>79.99</td>\n",
       "    </tr>\n",
       "    <tr>\n",
       "      <th>1</th>\n",
       "      <td>540.0</td>\n",
       "      <td>0.0</td>\n",
       "      <td>0.0</td>\n",
       "      <td>162.0</td>\n",
       "      <td>2.5</td>\n",
       "      <td>1055.0</td>\n",
       "      <td>676.0</td>\n",
       "      <td>28</td>\n",
       "      <td>61.89</td>\n",
       "    </tr>\n",
       "    <tr>\n",
       "      <th>2</th>\n",
       "      <td>332.5</td>\n",
       "      <td>142.5</td>\n",
       "      <td>0.0</td>\n",
       "      <td>228.0</td>\n",
       "      <td>0.0</td>\n",
       "      <td>932.0</td>\n",
       "      <td>594.0</td>\n",
       "      <td>270</td>\n",
       "      <td>40.27</td>\n",
       "    </tr>\n",
       "    <tr>\n",
       "      <th>3</th>\n",
       "      <td>332.5</td>\n",
       "      <td>142.5</td>\n",
       "      <td>0.0</td>\n",
       "      <td>228.0</td>\n",
       "      <td>0.0</td>\n",
       "      <td>932.0</td>\n",
       "      <td>594.0</td>\n",
       "      <td>365</td>\n",
       "      <td>41.05</td>\n",
       "    </tr>\n",
       "    <tr>\n",
       "      <th>4</th>\n",
       "      <td>198.6</td>\n",
       "      <td>132.4</td>\n",
       "      <td>0.0</td>\n",
       "      <td>192.0</td>\n",
       "      <td>0.0</td>\n",
       "      <td>978.4</td>\n",
       "      <td>825.5</td>\n",
       "      <td>360</td>\n",
       "      <td>44.30</td>\n",
       "    </tr>\n",
       "  </tbody>\n",
       "</table>\n",
       "</div>"
      ],
      "text/plain": [
       "   Cement  Blast Furnace Slag  Fly Ash  Water  Superplasticizer  \\\n",
       "0   540.0                 0.0      0.0  162.0               2.5   \n",
       "1   540.0                 0.0      0.0  162.0               2.5   \n",
       "2   332.5               142.5      0.0  228.0               0.0   \n",
       "3   332.5               142.5      0.0  228.0               0.0   \n",
       "4   198.6               132.4      0.0  192.0               0.0   \n",
       "\n",
       "   Coarse Aggregate  Fine Aggregate  Age  Strength  \n",
       "0            1040.0           676.0   28     79.99  \n",
       "1            1055.0           676.0   28     61.89  \n",
       "2             932.0           594.0  270     40.27  \n",
       "3             932.0           594.0  365     41.05  \n",
       "4             978.4           825.5  360     44.30  "
      ]
     },
     "execution_count": 29,
     "metadata": {},
     "output_type": "execute_result"
    }
   ],
   "source": [
    "filepath='https://s3-api.us-geo.objectstorage.softlayer.net/cf-courses-data/CognitiveClass/DL0101EN/labs/data/concrete_data.csv'\n",
    "concrete_data = pd.read_csv(filepath)\n",
    "\n",
    "concrete_data.head()"
   ]
  },
  {
   "cell_type": "markdown",
   "id": "6a338c0f-6a1a-42d5-9aba-b954e8586f6a",
   "metadata": {},
   "source": [
    "So the first concrete sample has 540 cubic meter of cement, 0 cubic meter of blast furnace slag, 0 cubic meter of fly ash, 162 cubic meter of water, 2.5 cubic meter of superplaticizer, 1040 cubic meter of coarse aggregate, 676 cubic meter of fine aggregate. Such a concrete mix which is 28 days old, has a compressive strength of 79.99 MPa. \n"
   ]
  },
  {
   "cell_type": "markdown",
   "id": "7014c5a7-3948-4b1e-880d-e754f91c9e0b",
   "metadata": {},
   "source": [
    "#### Let's check how many data points we have\n"
   ]
  },
  {
   "cell_type": "code",
   "execution_count": 30,
   "id": "8bd72db7-98b6-4e38-8529-3abad10fd45a",
   "metadata": {},
   "outputs": [
    {
     "data": {
      "text/plain": [
       "(1030, 9)"
      ]
     },
     "execution_count": 30,
     "metadata": {},
     "output_type": "execute_result"
    }
   ],
   "source": [
    "concrete_data.shape"
   ]
  },
  {
   "cell_type": "markdown",
   "id": "8afe8abb-8703-4081-ae9c-212ee2870559",
   "metadata": {},
   "source": [
    "So, there are approximately 1000 samples to train our model on. Because of the few samples, we have to be careful not to overfit the training data.\n"
   ]
  },
  {
   "cell_type": "markdown",
   "id": "e2c47991-b119-4a93-913f-12a3e5334087",
   "metadata": {},
   "source": [
    "Let's check the dataset for any missing values.\n"
   ]
  },
  {
   "cell_type": "code",
   "execution_count": 31,
   "id": "c2bce7fd-93e5-43ba-a0f3-db59caac9ebb",
   "metadata": {},
   "outputs": [
    {
     "data": {
      "text/html": [
       "<div>\n",
       "<style scoped>\n",
       "    .dataframe tbody tr th:only-of-type {\n",
       "        vertical-align: middle;\n",
       "    }\n",
       "\n",
       "    .dataframe tbody tr th {\n",
       "        vertical-align: top;\n",
       "    }\n",
       "\n",
       "    .dataframe thead th {\n",
       "        text-align: right;\n",
       "    }\n",
       "</style>\n",
       "<table border=\"1\" class=\"dataframe\">\n",
       "  <thead>\n",
       "    <tr style=\"text-align: right;\">\n",
       "      <th></th>\n",
       "      <th>Cement</th>\n",
       "      <th>Blast Furnace Slag</th>\n",
       "      <th>Fly Ash</th>\n",
       "      <th>Water</th>\n",
       "      <th>Superplasticizer</th>\n",
       "      <th>Coarse Aggregate</th>\n",
       "      <th>Fine Aggregate</th>\n",
       "      <th>Age</th>\n",
       "      <th>Strength</th>\n",
       "    </tr>\n",
       "  </thead>\n",
       "  <tbody>\n",
       "    <tr>\n",
       "      <th>count</th>\n",
       "      <td>1030.000000</td>\n",
       "      <td>1030.000000</td>\n",
       "      <td>1030.000000</td>\n",
       "      <td>1030.000000</td>\n",
       "      <td>1030.000000</td>\n",
       "      <td>1030.000000</td>\n",
       "      <td>1030.000000</td>\n",
       "      <td>1030.000000</td>\n",
       "      <td>1030.000000</td>\n",
       "    </tr>\n",
       "    <tr>\n",
       "      <th>mean</th>\n",
       "      <td>281.167864</td>\n",
       "      <td>73.895825</td>\n",
       "      <td>54.188350</td>\n",
       "      <td>181.567282</td>\n",
       "      <td>6.204660</td>\n",
       "      <td>972.918932</td>\n",
       "      <td>773.580485</td>\n",
       "      <td>45.662136</td>\n",
       "      <td>35.817961</td>\n",
       "    </tr>\n",
       "    <tr>\n",
       "      <th>std</th>\n",
       "      <td>104.506364</td>\n",
       "      <td>86.279342</td>\n",
       "      <td>63.997004</td>\n",
       "      <td>21.354219</td>\n",
       "      <td>5.973841</td>\n",
       "      <td>77.753954</td>\n",
       "      <td>80.175980</td>\n",
       "      <td>63.169912</td>\n",
       "      <td>16.705742</td>\n",
       "    </tr>\n",
       "    <tr>\n",
       "      <th>min</th>\n",
       "      <td>102.000000</td>\n",
       "      <td>0.000000</td>\n",
       "      <td>0.000000</td>\n",
       "      <td>121.800000</td>\n",
       "      <td>0.000000</td>\n",
       "      <td>801.000000</td>\n",
       "      <td>594.000000</td>\n",
       "      <td>1.000000</td>\n",
       "      <td>2.330000</td>\n",
       "    </tr>\n",
       "    <tr>\n",
       "      <th>25%</th>\n",
       "      <td>192.375000</td>\n",
       "      <td>0.000000</td>\n",
       "      <td>0.000000</td>\n",
       "      <td>164.900000</td>\n",
       "      <td>0.000000</td>\n",
       "      <td>932.000000</td>\n",
       "      <td>730.950000</td>\n",
       "      <td>7.000000</td>\n",
       "      <td>23.710000</td>\n",
       "    </tr>\n",
       "    <tr>\n",
       "      <th>50%</th>\n",
       "      <td>272.900000</td>\n",
       "      <td>22.000000</td>\n",
       "      <td>0.000000</td>\n",
       "      <td>185.000000</td>\n",
       "      <td>6.400000</td>\n",
       "      <td>968.000000</td>\n",
       "      <td>779.500000</td>\n",
       "      <td>28.000000</td>\n",
       "      <td>34.445000</td>\n",
       "    </tr>\n",
       "    <tr>\n",
       "      <th>75%</th>\n",
       "      <td>350.000000</td>\n",
       "      <td>142.950000</td>\n",
       "      <td>118.300000</td>\n",
       "      <td>192.000000</td>\n",
       "      <td>10.200000</td>\n",
       "      <td>1029.400000</td>\n",
       "      <td>824.000000</td>\n",
       "      <td>56.000000</td>\n",
       "      <td>46.135000</td>\n",
       "    </tr>\n",
       "    <tr>\n",
       "      <th>max</th>\n",
       "      <td>540.000000</td>\n",
       "      <td>359.400000</td>\n",
       "      <td>200.100000</td>\n",
       "      <td>247.000000</td>\n",
       "      <td>32.200000</td>\n",
       "      <td>1145.000000</td>\n",
       "      <td>992.600000</td>\n",
       "      <td>365.000000</td>\n",
       "      <td>82.600000</td>\n",
       "    </tr>\n",
       "  </tbody>\n",
       "</table>\n",
       "</div>"
      ],
      "text/plain": [
       "            Cement  Blast Furnace Slag      Fly Ash        Water  \\\n",
       "count  1030.000000         1030.000000  1030.000000  1030.000000   \n",
       "mean    281.167864           73.895825    54.188350   181.567282   \n",
       "std     104.506364           86.279342    63.997004    21.354219   \n",
       "min     102.000000            0.000000     0.000000   121.800000   \n",
       "25%     192.375000            0.000000     0.000000   164.900000   \n",
       "50%     272.900000           22.000000     0.000000   185.000000   \n",
       "75%     350.000000          142.950000   118.300000   192.000000   \n",
       "max     540.000000          359.400000   200.100000   247.000000   \n",
       "\n",
       "       Superplasticizer  Coarse Aggregate  Fine Aggregate          Age  \\\n",
       "count       1030.000000       1030.000000     1030.000000  1030.000000   \n",
       "mean           6.204660        972.918932      773.580485    45.662136   \n",
       "std            5.973841         77.753954       80.175980    63.169912   \n",
       "min            0.000000        801.000000      594.000000     1.000000   \n",
       "25%            0.000000        932.000000      730.950000     7.000000   \n",
       "50%            6.400000        968.000000      779.500000    28.000000   \n",
       "75%           10.200000       1029.400000      824.000000    56.000000   \n",
       "max           32.200000       1145.000000      992.600000   365.000000   \n",
       "\n",
       "          Strength  \n",
       "count  1030.000000  \n",
       "mean     35.817961  \n",
       "std      16.705742  \n",
       "min       2.330000  \n",
       "25%      23.710000  \n",
       "50%      34.445000  \n",
       "75%      46.135000  \n",
       "max      82.600000  "
      ]
     },
     "execution_count": 31,
     "metadata": {},
     "output_type": "execute_result"
    }
   ],
   "source": [
    "concrete_data.describe()"
   ]
  },
  {
   "cell_type": "code",
   "execution_count": 32,
   "id": "6111a51a-9c08-47ee-a195-b6e676938694",
   "metadata": {},
   "outputs": [
    {
     "data": {
      "text/plain": [
       "Cement                0\n",
       "Blast Furnace Slag    0\n",
       "Fly Ash               0\n",
       "Water                 0\n",
       "Superplasticizer      0\n",
       "Coarse Aggregate      0\n",
       "Fine Aggregate        0\n",
       "Age                   0\n",
       "Strength              0\n",
       "dtype: int64"
      ]
     },
     "execution_count": 32,
     "metadata": {},
     "output_type": "execute_result"
    }
   ],
   "source": [
    "concrete_data.isnull().sum()"
   ]
  },
  {
   "cell_type": "markdown",
   "id": "fe9c948a-73c9-443d-aa6d-ecef5d50359e",
   "metadata": {},
   "source": [
    "The data looks very clean and is ready to be used to build our model.\n"
   ]
  },
  {
   "cell_type": "markdown",
   "id": "3c0112d9-1d00-4d63-8bd8-7fa68466a94d",
   "metadata": {},
   "source": [
    "#### Split data into predictors and target\n"
   ]
  },
  {
   "cell_type": "markdown",
   "id": "4d94e797-6687-4993-bb20-4eb6a569d568",
   "metadata": {},
   "source": [
    "The target variable in this problem is the concrete sample strength. Therefore, our predictors will be all the other columns.\n"
   ]
  },
  {
   "cell_type": "code",
   "execution_count": 33,
   "id": "a4e2f5e8-396b-4488-9684-46389fbe90fe",
   "metadata": {},
   "outputs": [],
   "source": [
    "concrete_data_columns = concrete_data.columns"
   ]
  },
  {
   "cell_type": "code",
   "execution_count": 34,
   "id": "dd4c5d28-5d91-4aa5-9373-abf466300e76",
   "metadata": {},
   "outputs": [],
   "source": [
    "predictors = concrete_data[concrete_data_columns[concrete_data_columns != 'Strength']] # all columns except Strength\n",
    "target = concrete_data['Strength'] # Strength column"
   ]
  },
  {
   "cell_type": "markdown",
   "id": "0493f399-c8bd-4dbe-9142-06e1b58ad0fc",
   "metadata": {},
   "source": [
    "<a id=\"item2\"></a>\n"
   ]
  },
  {
   "cell_type": "markdown",
   "id": "8de95aa3-3483-4c07-a4a7-da1e085aabd7",
   "metadata": {},
   "source": [
    "Let's do a quick sanity check of the predictors and the target dataframes.\n"
   ]
  },
  {
   "cell_type": "code",
   "execution_count": 35,
   "id": "510306c3-b7f1-448b-a6f2-25a89d50d046",
   "metadata": {},
   "outputs": [
    {
     "data": {
      "text/html": [
       "<div>\n",
       "<style scoped>\n",
       "    .dataframe tbody tr th:only-of-type {\n",
       "        vertical-align: middle;\n",
       "    }\n",
       "\n",
       "    .dataframe tbody tr th {\n",
       "        vertical-align: top;\n",
       "    }\n",
       "\n",
       "    .dataframe thead th {\n",
       "        text-align: right;\n",
       "    }\n",
       "</style>\n",
       "<table border=\"1\" class=\"dataframe\">\n",
       "  <thead>\n",
       "    <tr style=\"text-align: right;\">\n",
       "      <th></th>\n",
       "      <th>Cement</th>\n",
       "      <th>Blast Furnace Slag</th>\n",
       "      <th>Fly Ash</th>\n",
       "      <th>Water</th>\n",
       "      <th>Superplasticizer</th>\n",
       "      <th>Coarse Aggregate</th>\n",
       "      <th>Fine Aggregate</th>\n",
       "      <th>Age</th>\n",
       "    </tr>\n",
       "  </thead>\n",
       "  <tbody>\n",
       "    <tr>\n",
       "      <th>0</th>\n",
       "      <td>540.0</td>\n",
       "      <td>0.0</td>\n",
       "      <td>0.0</td>\n",
       "      <td>162.0</td>\n",
       "      <td>2.5</td>\n",
       "      <td>1040.0</td>\n",
       "      <td>676.0</td>\n",
       "      <td>28</td>\n",
       "    </tr>\n",
       "    <tr>\n",
       "      <th>1</th>\n",
       "      <td>540.0</td>\n",
       "      <td>0.0</td>\n",
       "      <td>0.0</td>\n",
       "      <td>162.0</td>\n",
       "      <td>2.5</td>\n",
       "      <td>1055.0</td>\n",
       "      <td>676.0</td>\n",
       "      <td>28</td>\n",
       "    </tr>\n",
       "    <tr>\n",
       "      <th>2</th>\n",
       "      <td>332.5</td>\n",
       "      <td>142.5</td>\n",
       "      <td>0.0</td>\n",
       "      <td>228.0</td>\n",
       "      <td>0.0</td>\n",
       "      <td>932.0</td>\n",
       "      <td>594.0</td>\n",
       "      <td>270</td>\n",
       "    </tr>\n",
       "    <tr>\n",
       "      <th>3</th>\n",
       "      <td>332.5</td>\n",
       "      <td>142.5</td>\n",
       "      <td>0.0</td>\n",
       "      <td>228.0</td>\n",
       "      <td>0.0</td>\n",
       "      <td>932.0</td>\n",
       "      <td>594.0</td>\n",
       "      <td>365</td>\n",
       "    </tr>\n",
       "    <tr>\n",
       "      <th>4</th>\n",
       "      <td>198.6</td>\n",
       "      <td>132.4</td>\n",
       "      <td>0.0</td>\n",
       "      <td>192.0</td>\n",
       "      <td>0.0</td>\n",
       "      <td>978.4</td>\n",
       "      <td>825.5</td>\n",
       "      <td>360</td>\n",
       "    </tr>\n",
       "  </tbody>\n",
       "</table>\n",
       "</div>"
      ],
      "text/plain": [
       "   Cement  Blast Furnace Slag  Fly Ash  Water  Superplasticizer  \\\n",
       "0   540.0                 0.0      0.0  162.0               2.5   \n",
       "1   540.0                 0.0      0.0  162.0               2.5   \n",
       "2   332.5               142.5      0.0  228.0               0.0   \n",
       "3   332.5               142.5      0.0  228.0               0.0   \n",
       "4   198.6               132.4      0.0  192.0               0.0   \n",
       "\n",
       "   Coarse Aggregate  Fine Aggregate  Age  \n",
       "0            1040.0           676.0   28  \n",
       "1            1055.0           676.0   28  \n",
       "2             932.0           594.0  270  \n",
       "3             932.0           594.0  365  \n",
       "4             978.4           825.5  360  "
      ]
     },
     "execution_count": 35,
     "metadata": {},
     "output_type": "execute_result"
    }
   ],
   "source": [
    "predictors.head()"
   ]
  },
  {
   "cell_type": "code",
   "execution_count": 36,
   "id": "e1296fdf-cc88-4338-a724-d4a2e3432980",
   "metadata": {},
   "outputs": [
    {
     "data": {
      "text/plain": [
       "0    79.99\n",
       "1    61.89\n",
       "2    40.27\n",
       "3    41.05\n",
       "4    44.30\n",
       "Name: Strength, dtype: float64"
      ]
     },
     "execution_count": 36,
     "metadata": {},
     "output_type": "execute_result"
    }
   ],
   "source": [
    "target.head()"
   ]
  },
  {
   "cell_type": "markdown",
   "id": "ed9491ef-e2bb-4027-a94e-2472e69b8b6c",
   "metadata": {},
   "source": [
    "Finally, the last step is to normalize the data by substracting the mean and dividing by the standard deviation.\n"
   ]
  },
  {
   "cell_type": "code",
   "execution_count": 37,
   "id": "37e9ac0c-22b4-4a70-be6c-583458a2be68",
   "metadata": {},
   "outputs": [
    {
     "data": {
      "text/html": [
       "<div>\n",
       "<style scoped>\n",
       "    .dataframe tbody tr th:only-of-type {\n",
       "        vertical-align: middle;\n",
       "    }\n",
       "\n",
       "    .dataframe tbody tr th {\n",
       "        vertical-align: top;\n",
       "    }\n",
       "\n",
       "    .dataframe thead th {\n",
       "        text-align: right;\n",
       "    }\n",
       "</style>\n",
       "<table border=\"1\" class=\"dataframe\">\n",
       "  <thead>\n",
       "    <tr style=\"text-align: right;\">\n",
       "      <th></th>\n",
       "      <th>Cement</th>\n",
       "      <th>Blast Furnace Slag</th>\n",
       "      <th>Fly Ash</th>\n",
       "      <th>Water</th>\n",
       "      <th>Superplasticizer</th>\n",
       "      <th>Coarse Aggregate</th>\n",
       "      <th>Fine Aggregate</th>\n",
       "      <th>Age</th>\n",
       "    </tr>\n",
       "  </thead>\n",
       "  <tbody>\n",
       "    <tr>\n",
       "      <th>0</th>\n",
       "      <td>2.476712</td>\n",
       "      <td>-0.856472</td>\n",
       "      <td>-0.846733</td>\n",
       "      <td>-0.916319</td>\n",
       "      <td>-0.620147</td>\n",
       "      <td>0.862735</td>\n",
       "      <td>-1.217079</td>\n",
       "      <td>-0.279597</td>\n",
       "    </tr>\n",
       "    <tr>\n",
       "      <th>1</th>\n",
       "      <td>2.476712</td>\n",
       "      <td>-0.856472</td>\n",
       "      <td>-0.846733</td>\n",
       "      <td>-0.916319</td>\n",
       "      <td>-0.620147</td>\n",
       "      <td>1.055651</td>\n",
       "      <td>-1.217079</td>\n",
       "      <td>-0.279597</td>\n",
       "    </tr>\n",
       "    <tr>\n",
       "      <th>2</th>\n",
       "      <td>0.491187</td>\n",
       "      <td>0.795140</td>\n",
       "      <td>-0.846733</td>\n",
       "      <td>2.174405</td>\n",
       "      <td>-1.038638</td>\n",
       "      <td>-0.526262</td>\n",
       "      <td>-2.239829</td>\n",
       "      <td>3.551340</td>\n",
       "    </tr>\n",
       "    <tr>\n",
       "      <th>3</th>\n",
       "      <td>0.491187</td>\n",
       "      <td>0.795140</td>\n",
       "      <td>-0.846733</td>\n",
       "      <td>2.174405</td>\n",
       "      <td>-1.038638</td>\n",
       "      <td>-0.526262</td>\n",
       "      <td>-2.239829</td>\n",
       "      <td>5.055221</td>\n",
       "    </tr>\n",
       "    <tr>\n",
       "      <th>4</th>\n",
       "      <td>-0.790075</td>\n",
       "      <td>0.678079</td>\n",
       "      <td>-0.846733</td>\n",
       "      <td>0.488555</td>\n",
       "      <td>-1.038638</td>\n",
       "      <td>0.070492</td>\n",
       "      <td>0.647569</td>\n",
       "      <td>4.976069</td>\n",
       "    </tr>\n",
       "  </tbody>\n",
       "</table>\n",
       "</div>"
      ],
      "text/plain": [
       "     Cement  Blast Furnace Slag   Fly Ash     Water  Superplasticizer  \\\n",
       "0  2.476712           -0.856472 -0.846733 -0.916319         -0.620147   \n",
       "1  2.476712           -0.856472 -0.846733 -0.916319         -0.620147   \n",
       "2  0.491187            0.795140 -0.846733  2.174405         -1.038638   \n",
       "3  0.491187            0.795140 -0.846733  2.174405         -1.038638   \n",
       "4 -0.790075            0.678079 -0.846733  0.488555         -1.038638   \n",
       "\n",
       "   Coarse Aggregate  Fine Aggregate       Age  \n",
       "0          0.862735       -1.217079 -0.279597  \n",
       "1          1.055651       -1.217079 -0.279597  \n",
       "2         -0.526262       -2.239829  3.551340  \n",
       "3         -0.526262       -2.239829  5.055221  \n",
       "4          0.070492        0.647569  4.976069  "
      ]
     },
     "execution_count": 37,
     "metadata": {},
     "output_type": "execute_result"
    }
   ],
   "source": [
    "predictors_norm = (predictors - predictors.mean()) / predictors.std()\n",
    "predictors_norm.head()"
   ]
  },
  {
   "cell_type": "markdown",
   "id": "129b5829-8745-47ad-ab5d-58b2aebb13d4",
   "metadata": {},
   "source": [
    "Let's save the number of predictors to *n_cols* since we will need this number when building our network.\n"
   ]
  },
  {
   "cell_type": "code",
   "execution_count": 38,
   "id": "bcb7a3da-4e58-4de8-b391-46e53744c81c",
   "metadata": {},
   "outputs": [],
   "source": [
    "n_cols = predictors_norm.shape[1] # number of predictors"
   ]
  },
  {
   "cell_type": "markdown",
   "id": "7e262508-5b08-4f41-bd77-ce79982242d5",
   "metadata": {},
   "source": [
    "<a id=\"item1\"></a>\n"
   ]
  },
  {
   "cell_type": "markdown",
   "id": "07d10f2e-72e5-42d8-bb45-f42554d3fd2b",
   "metadata": {},
   "source": [
    "<a id='item32'></a>\n"
   ]
  },
  {
   "cell_type": "markdown",
   "id": "1d71f6e7-7085-4035-ac10-f81d5983d7b6",
   "metadata": {},
   "source": [
    "##  Import Keras Packages\n",
    "\n",
    "##### Let's import the rest of the packages from the Keras library that we will need to build our regression model.\n"
   ]
  },
  {
   "cell_type": "code",
   "execution_count": 39,
   "id": "f9df8e0e-46c5-4c85-99bd-80a560575548",
   "metadata": {},
   "outputs": [],
   "source": [
    "from keras.models import Sequential\n",
    "from keras.layers import Dense\n",
    "from keras.layers import Input"
   ]
  },
  {
   "cell_type": "markdown",
   "id": "e36e9e6a-c071-4407-a1f8-9f1038a20be9",
   "metadata": {},
   "source": [
    "<a id='item33'></a>\n"
   ]
  },
  {
   "cell_type": "markdown",
   "id": "a34e8f58-98ca-462d-871b-674868bdba18",
   "metadata": {},
   "source": [
    "## Build a Neural Network\n"
   ]
  },
  {
   "cell_type": "markdown",
   "id": "88cdf7af-a7e9-45f0-95bb-5875e126294d",
   "metadata": {},
   "source": [
    "Let's define a function that defines our regression model for us so that we can conveniently call it to create our model.\n"
   ]
  },
  {
   "cell_type": "code",
   "execution_count": 40,
   "id": "8612ab34-a158-443b-b36d-2b79386006cc",
   "metadata": {},
   "outputs": [],
   "source": [
    "# define regression model\n",
    "def regression_model():\n",
    "    # create model\n",
    "    model = Sequential()\n",
    "    model.add(Input(shape=(n_cols,)))\n",
    "    model.add(Dense(50, activation='relu'))\n",
    "    model.add(Dense(50, activation='relu'))\n",
    "    model.add(Dense(1))\n",
    "    \n",
    "    # compile model\n",
    "    model.compile(optimizer='adam', loss='mean_squared_error')\n",
    "    return model"
   ]
  },
  {
   "cell_type": "markdown",
   "id": "d360086b-c8a0-420d-a3ec-fdbf46a7813b",
   "metadata": {},
   "source": [
    "The above function create a model that has two hidden layers, each of 50 hidden units.\n"
   ]
  },
  {
   "cell_type": "markdown",
   "id": "4a0e901a-3598-4191-9a40-0c227288a08d",
   "metadata": {},
   "source": [
    "<a id=\"item4\"></a>\n"
   ]
  },
  {
   "cell_type": "markdown",
   "id": "859bec82-0807-4686-959f-6370e048c74e",
   "metadata": {},
   "source": [
    "## Train and Test the Network\n"
   ]
  },
  {
   "cell_type": "markdown",
   "id": "9274999d-d25c-4a1d-a7e7-174f33a3f492",
   "metadata": {},
   "source": [
    "Let's call the function now to create our model.\n"
   ]
  },
  {
   "cell_type": "code",
   "execution_count": 41,
   "id": "5986832f-d1bf-4d81-adda-d789c1f43256",
   "metadata": {},
   "outputs": [],
   "source": [
    "# build the model\n",
    "model = regression_model()"
   ]
  },
  {
   "cell_type": "markdown",
   "id": "27d521a5-8673-4cb9-8697-fe2057ce331c",
   "metadata": {},
   "source": [
    "Next, we will train and test the model at the same time using the *fit* method. We will leave out 30% of the data for validation and we will train the model for 100 epochs.\n"
   ]
  },
  {
   "cell_type": "code",
   "execution_count": 42,
   "id": "a4b86b49-a48e-453a-bf59-8e04bf7ee04a",
   "metadata": {},
   "outputs": [
    {
     "name": "stdout",
     "output_type": "stream",
     "text": [
      "Epoch 1/100\n",
      "23/23 - 2s - 96ms/step - loss: 1669.0292 - val_loss: 1157.1483\n",
      "Epoch 2/100\n",
      "23/23 - 0s - 7ms/step - loss: 1548.2557 - val_loss: 1050.5911\n",
      "Epoch 3/100\n",
      "23/23 - 0s - 7ms/step - loss: 1358.7286 - val_loss: 891.4730\n",
      "Epoch 4/100\n",
      "23/23 - 0s - 7ms/step - loss: 1068.0375 - val_loss: 677.7155\n",
      "Epoch 5/100\n",
      "23/23 - 0s - 11ms/step - loss: 709.8597 - val_loss: 450.7523\n",
      "Epoch 6/100\n",
      "23/23 - 0s - 14ms/step - loss: 404.0669 - val_loss: 282.5272\n",
      "Epoch 7/100\n",
      "23/23 - 0s - 10ms/step - loss: 262.6938 - val_loss: 205.7594\n",
      "Epoch 8/100\n",
      "23/23 - 0s - 9ms/step - loss: 230.1994 - val_loss: 183.2760\n",
      "Epoch 9/100\n",
      "23/23 - 0s - 10ms/step - loss: 217.1007 - val_loss: 178.2935\n",
      "Epoch 10/100\n",
      "23/23 - 0s - 10ms/step - loss: 207.0513 - val_loss: 176.7795\n",
      "Epoch 11/100\n",
      "23/23 - 0s - 11ms/step - loss: 199.0433 - val_loss: 171.0391\n",
      "Epoch 12/100\n",
      "23/23 - 0s - 11ms/step - loss: 191.7141 - val_loss: 167.7583\n",
      "Epoch 13/100\n",
      "23/23 - 0s - 10ms/step - loss: 186.0594 - val_loss: 160.9227\n",
      "Epoch 14/100\n",
      "23/23 - 0s - 16ms/step - loss: 180.2078 - val_loss: 161.6739\n",
      "Epoch 15/100\n",
      "23/23 - 0s - 11ms/step - loss: 176.0474 - val_loss: 157.6527\n",
      "Epoch 16/100\n",
      "23/23 - 0s - 10ms/step - loss: 171.4953 - val_loss: 155.7923\n",
      "Epoch 17/100\n",
      "23/23 - 0s - 9ms/step - loss: 167.9987 - val_loss: 152.8829\n",
      "Epoch 18/100\n",
      "23/23 - 0s - 9ms/step - loss: 164.4886 - val_loss: 150.0713\n",
      "Epoch 19/100\n",
      "23/23 - 0s - 9ms/step - loss: 161.0829 - val_loss: 149.4011\n",
      "Epoch 20/100\n",
      "23/23 - 0s - 10ms/step - loss: 158.6891 - val_loss: 149.2314\n",
      "Epoch 21/100\n",
      "23/23 - 0s - 10ms/step - loss: 155.6468 - val_loss: 147.6854\n",
      "Epoch 22/100\n",
      "23/23 - 0s - 12ms/step - loss: 153.2634 - val_loss: 147.5729\n",
      "Epoch 23/100\n",
      "23/23 - 0s - 8ms/step - loss: 150.9789 - val_loss: 146.8142\n",
      "Epoch 24/100\n",
      "23/23 - 0s - 9ms/step - loss: 149.5966 - val_loss: 146.7178\n",
      "Epoch 25/100\n",
      "23/23 - 0s - 8ms/step - loss: 147.5881 - val_loss: 146.4353\n",
      "Epoch 26/100\n",
      "23/23 - 0s - 8ms/step - loss: 145.6941 - val_loss: 146.2534\n",
      "Epoch 27/100\n",
      "23/23 - 0s - 7ms/step - loss: 143.6376 - val_loss: 147.3465\n",
      "Epoch 28/100\n",
      "23/23 - 0s - 7ms/step - loss: 141.2107 - val_loss: 149.0676\n",
      "Epoch 29/100\n",
      "23/23 - 0s - 7ms/step - loss: 140.0441 - val_loss: 148.3237\n",
      "Epoch 30/100\n",
      "23/23 - 0s - 7ms/step - loss: 138.0398 - val_loss: 149.1442\n",
      "Epoch 31/100\n",
      "23/23 - 0s - 6ms/step - loss: 136.6059 - val_loss: 148.4697\n",
      "Epoch 32/100\n",
      "23/23 - 0s - 7ms/step - loss: 135.3768 - val_loss: 149.5665\n",
      "Epoch 33/100\n",
      "23/23 - 0s - 7ms/step - loss: 133.4444 - val_loss: 153.0847\n",
      "Epoch 34/100\n",
      "23/23 - 0s - 7ms/step - loss: 132.2413 - val_loss: 151.7147\n",
      "Epoch 35/100\n",
      "23/23 - 0s - 8ms/step - loss: 130.3417 - val_loss: 152.6495\n",
      "Epoch 36/100\n",
      "23/23 - 0s - 8ms/step - loss: 128.7173 - val_loss: 153.4633\n",
      "Epoch 37/100\n",
      "23/23 - 0s - 7ms/step - loss: 126.4531 - val_loss: 151.9229\n",
      "Epoch 38/100\n",
      "23/23 - 0s - 7ms/step - loss: 124.5888 - val_loss: 158.3050\n",
      "Epoch 39/100\n",
      "23/23 - 0s - 7ms/step - loss: 122.8681 - val_loss: 151.4742\n",
      "Epoch 40/100\n",
      "23/23 - 0s - 7ms/step - loss: 120.1885 - val_loss: 154.1669\n",
      "Epoch 41/100\n",
      "23/23 - 0s - 7ms/step - loss: 118.0901 - val_loss: 158.1309\n",
      "Epoch 42/100\n",
      "23/23 - 0s - 6ms/step - loss: 116.2089 - val_loss: 156.7178\n",
      "Epoch 43/100\n",
      "23/23 - 0s - 6ms/step - loss: 114.0433 - val_loss: 156.1044\n",
      "Epoch 44/100\n",
      "23/23 - 0s - 7ms/step - loss: 111.8355 - val_loss: 157.5841\n",
      "Epoch 45/100\n",
      "23/23 - 0s - 6ms/step - loss: 110.2613 - val_loss: 155.6276\n",
      "Epoch 46/100\n",
      "23/23 - 0s - 7ms/step - loss: 108.4605 - val_loss: 162.2546\n",
      "Epoch 47/100\n",
      "23/23 - 0s - 7ms/step - loss: 106.1267 - val_loss: 154.9457\n",
      "Epoch 48/100\n",
      "23/23 - 0s - 7ms/step - loss: 103.2225 - val_loss: 162.2838\n",
      "Epoch 49/100\n",
      "23/23 - 0s - 6ms/step - loss: 100.4320 - val_loss: 157.4319\n",
      "Epoch 50/100\n",
      "23/23 - 0s - 7ms/step - loss: 98.2817 - val_loss: 152.5997\n",
      "Epoch 51/100\n",
      "23/23 - 0s - 9ms/step - loss: 95.5791 - val_loss: 155.8767\n",
      "Epoch 52/100\n",
      "23/23 - 0s - 6ms/step - loss: 92.4650 - val_loss: 157.0007\n",
      "Epoch 53/100\n",
      "23/23 - 0s - 8ms/step - loss: 90.4015 - val_loss: 155.0445\n",
      "Epoch 54/100\n",
      "23/23 - 0s - 6ms/step - loss: 87.9811 - val_loss: 157.6140\n",
      "Epoch 55/100\n",
      "23/23 - 0s - 6ms/step - loss: 84.8496 - val_loss: 154.1685\n",
      "Epoch 56/100\n",
      "23/23 - 0s - 6ms/step - loss: 83.2630 - val_loss: 157.8867\n",
      "Epoch 57/100\n",
      "23/23 - 0s - 7ms/step - loss: 80.3941 - val_loss: 155.6620\n",
      "Epoch 58/100\n",
      "23/23 - 0s - 7ms/step - loss: 78.6007 - val_loss: 156.3139\n",
      "Epoch 59/100\n",
      "23/23 - 0s - 7ms/step - loss: 76.0412 - val_loss: 156.5299\n",
      "Epoch 60/100\n",
      "23/23 - 0s - 8ms/step - loss: 74.2837 - val_loss: 158.1705\n",
      "Epoch 61/100\n",
      "23/23 - 0s - 7ms/step - loss: 71.7759 - val_loss: 150.1192\n",
      "Epoch 62/100\n",
      "23/23 - 0s - 6ms/step - loss: 69.4323 - val_loss: 150.6242\n",
      "Epoch 63/100\n",
      "23/23 - 0s - 7ms/step - loss: 67.7474 - val_loss: 151.7286\n",
      "Epoch 64/100\n",
      "23/23 - 0s - 8ms/step - loss: 64.9576 - val_loss: 149.8236\n",
      "Epoch 65/100\n",
      "23/23 - 0s - 14ms/step - loss: 63.1226 - val_loss: 141.9706\n",
      "Epoch 66/100\n",
      "23/23 - 0s - 6ms/step - loss: 62.2218 - val_loss: 146.0212\n",
      "Epoch 67/100\n",
      "23/23 - 0s - 6ms/step - loss: 60.8268 - val_loss: 151.5142\n",
      "Epoch 68/100\n",
      "23/23 - 0s - 6ms/step - loss: 58.0268 - val_loss: 145.7085\n",
      "Epoch 69/100\n",
      "23/23 - 0s - 7ms/step - loss: 57.2949 - val_loss: 159.5104\n",
      "Epoch 70/100\n",
      "23/23 - 0s - 7ms/step - loss: 56.9734 - val_loss: 151.7133\n",
      "Epoch 71/100\n",
      "23/23 - 0s - 7ms/step - loss: 54.6728 - val_loss: 151.8091\n",
      "Epoch 72/100\n",
      "23/23 - 0s - 6ms/step - loss: 53.2664 - val_loss: 145.5950\n",
      "Epoch 73/100\n",
      "23/23 - 0s - 6ms/step - loss: 52.2954 - val_loss: 143.8337\n",
      "Epoch 74/100\n",
      "23/23 - 0s - 6ms/step - loss: 51.4341 - val_loss: 150.2579\n",
      "Epoch 75/100\n",
      "23/23 - 0s - 7ms/step - loss: 50.0590 - val_loss: 150.5807\n",
      "Epoch 76/100\n",
      "23/23 - 0s - 7ms/step - loss: 49.0182 - val_loss: 149.6604\n",
      "Epoch 77/100\n",
      "23/23 - 0s - 7ms/step - loss: 47.8227 - val_loss: 146.8693\n",
      "Epoch 78/100\n",
      "23/23 - 0s - 7ms/step - loss: 46.9349 - val_loss: 153.6474\n",
      "Epoch 79/100\n",
      "23/23 - 0s - 7ms/step - loss: 46.4617 - val_loss: 144.4017\n",
      "Epoch 80/100\n",
      "23/23 - 0s - 7ms/step - loss: 46.1661 - val_loss: 148.3691\n",
      "Epoch 81/100\n",
      "23/23 - 0s - 6ms/step - loss: 45.0971 - val_loss: 147.9136\n",
      "Epoch 82/100\n",
      "23/23 - 0s - 8ms/step - loss: 43.9610 - val_loss: 160.3421\n",
      "Epoch 83/100\n",
      "23/23 - 0s - 8ms/step - loss: 43.9009 - val_loss: 150.1473\n",
      "Epoch 84/100\n",
      "23/23 - 0s - 7ms/step - loss: 42.9848 - val_loss: 143.4104\n",
      "Epoch 85/100\n",
      "23/23 - 0s - 10ms/step - loss: 41.9059 - val_loss: 150.7752\n",
      "Epoch 86/100\n",
      "23/23 - 0s - 7ms/step - loss: 41.0010 - val_loss: 150.9080\n",
      "Epoch 87/100\n",
      "23/23 - 0s - 6ms/step - loss: 41.0290 - val_loss: 148.4586\n",
      "Epoch 88/100\n",
      "23/23 - 0s - 7ms/step - loss: 40.7487 - val_loss: 152.1287\n",
      "Epoch 89/100\n",
      "23/23 - 0s - 6ms/step - loss: 39.6570 - val_loss: 150.9515\n",
      "Epoch 90/100\n",
      "23/23 - 0s - 6ms/step - loss: 39.0740 - val_loss: 156.4148\n",
      "Epoch 91/100\n",
      "23/23 - 0s - 6ms/step - loss: 38.2932 - val_loss: 147.0855\n",
      "Epoch 92/100\n",
      "23/23 - 0s - 7ms/step - loss: 38.1354 - val_loss: 144.8970\n",
      "Epoch 93/100\n",
      "23/23 - 0s - 7ms/step - loss: 37.7090 - val_loss: 148.0847\n",
      "Epoch 94/100\n",
      "23/23 - 0s - 6ms/step - loss: 37.4921 - val_loss: 144.2202\n",
      "Epoch 95/100\n",
      "23/23 - 0s - 7ms/step - loss: 37.0298 - val_loss: 147.8198\n",
      "Epoch 96/100\n",
      "23/23 - 0s - 7ms/step - loss: 36.5034 - val_loss: 146.9688\n",
      "Epoch 97/100\n",
      "23/23 - 0s - 6ms/step - loss: 35.9614 - val_loss: 159.6777\n",
      "Epoch 98/100\n",
      "23/23 - 0s - 6ms/step - loss: 35.9388 - val_loss: 153.6971\n",
      "Epoch 99/100\n",
      "23/23 - 0s - 6ms/step - loss: 35.9808 - val_loss: 154.6412\n",
      "Epoch 100/100\n",
      "23/23 - 0s - 6ms/step - loss: 35.2425 - val_loss: 143.7757\n"
     ]
    },
    {
     "data": {
      "text/plain": [
       "<keras.src.callbacks.history.History at 0x21da06d9d60>"
      ]
     },
     "execution_count": 42,
     "metadata": {},
     "output_type": "execute_result"
    }
   ],
   "source": [
    "# fit the model\n",
    "model.fit(predictors_norm, target, validation_split=0.3, epochs=100, verbose=2)"
   ]
  },
  {
   "cell_type": "markdown",
   "id": "57d188c8-6c20-486f-bc62-5f6894966289",
   "metadata": {},
   "source": [
    "<strong>You can refer to this [link](https://keras.io/models/sequential/) to learn about other functions that you can use for prediction or evaluation.</strong>\n"
   ]
  },
  {
   "cell_type": "markdown",
   "id": "66ee1373-6ca9-4720-8ef0-1b4b1859c04f",
   "metadata": {},
   "source": [
    "Feel free to vary the following and note what impact each change has on the model's performance:\n",
    "\n",
    "1. Increase or decreate number of neurons in hidden layers\n",
    "2. Add more hidden layers\n",
    "3. Increase number of epochs\n"
   ]
  },
  {
   "cell_type": "markdown",
   "id": "86032276-2323-49cf-ae3e-a4c04ebb25a2",
   "metadata": {},
   "source": [
    "<h3>Practice Exercise 1</h3>\n"
   ]
  },
  {
   "cell_type": "markdown",
   "id": "6316f648-e7c2-4020-9e79-d5766b8e97e9",
   "metadata": {},
   "source": [
    "Now using the same dateset,try to recreate regression model featuring five hidden layers, each with 50 nodes and ReLU activation functions, a single output layer, optimized using the Adam optimizer.\n"
   ]
  },
  {
   "cell_type": "code",
   "execution_count": 43,
   "id": "8bb281eb-b8f7-48cf-a199-3b51817a41c0",
   "metadata": {},
   "outputs": [],
   "source": [
    "# Write your code here\n",
    "def regression_model2():\n",
    "    input_colm = predictors_norm.shape[1]\n",
    "    # create model\n",
    "    model = Sequential()\n",
    "    model.add(Input(shape=(input_colm,)))\n",
    "    model.add(Dense(50, activation='relu'))\n",
    "    model.add(Dense(50, activation='relu'))\n",
    "    model.add(Dense(50, activation='relu'))\n",
    "    model.add(Dense(50, activation='relu'))\n",
    "    model.add(Dense(50, activation='relu'))\n",
    "    model.add(Dense(1))\n",
    "    \n",
    "    # compile model\n",
    "    model.compile(optimizer='adam', loss='mean_squared_error')\n",
    "    return model\n"
   ]
  },
  {
   "cell_type": "markdown",
   "id": "9a104b7a-2a68-4d9b-a1ec-3ccb29d414cc",
   "metadata": {},
   "source": [
    "Double-click <b>here</b> for the solution.\n",
    "\n",
    "<!-- Your answer is below:\n",
    "def regression_model():\n",
    "    input_colm = predictors_norm.shape[1] # Number of input features\n",
    "    # create model\n",
    "    model = Sequential()\n",
    "    model.add(Input(shape=(input_colm,)))  # Set the number of input features \n",
    "    model.add(Dense(50, activation='relu'))  \n",
    "    model.add(Dense(50, activation='relu'))\n",
    "    model.add(Dense(50, activation='relu')) \n",
    "    model.add(Dense(50, activation='relu'))\n",
    "    model.add(Dense(50, activation='relu'))  \n",
    "    model.add(Dense(1))  # Output layer\n",
    "    \n",
    "    # compile model\n",
    "    model.compile(optimizer='adam', loss='mean_squared_error')\n",
    "    return model\n",
    "\n",
    "-->\n"
   ]
  },
  {
   "cell_type": "markdown",
   "id": "6c8cd4e1-89c2-4e6d-8a9d-0f21e3ab041d",
   "metadata": {},
   "source": [
    "<h3>Practice Exercise 2</h3>\n"
   ]
  },
  {
   "cell_type": "markdown",
   "id": "1647cdbb-5558-4248-bcb2-e0cb739e1036",
   "metadata": {},
   "source": [
    " Train and evaluate the model simultaneously using the fit() method by reserving 10% of the data for validation and training the model for 100 epochs\n"
   ]
  },
  {
   "cell_type": "code",
   "execution_count": 44,
   "id": "fbaad307-1458-4e19-af1a-82881f797545",
   "metadata": {},
   "outputs": [
    {
     "name": "stdout",
     "output_type": "stream",
     "text": [
      "Epoch 1/100\n",
      "29/29 - 2s - 78ms/step - loss: 1486.1691 - val_loss: 934.3248\n",
      "Epoch 2/100\n",
      "29/29 - 0s - 6ms/step - loss: 576.3768 - val_loss: 199.6882\n",
      "Epoch 3/100\n",
      "29/29 - 0s - 6ms/step - loss: 231.5426 - val_loss: 195.3546\n",
      "Epoch 4/100\n",
      "29/29 - 0s - 6ms/step - loss: 200.1194 - val_loss: 182.5878\n",
      "Epoch 5/100\n",
      "29/29 - 0s - 6ms/step - loss: 182.3282 - val_loss: 166.5255\n",
      "Epoch 6/100\n",
      "29/29 - 0s - 6ms/step - loss: 170.2534 - val_loss: 163.7338\n",
      "Epoch 7/100\n",
      "29/29 - 0s - 6ms/step - loss: 158.3284 - val_loss: 158.2887\n",
      "Epoch 8/100\n",
      "29/29 - 0s - 6ms/step - loss: 152.4170 - val_loss: 148.3401\n",
      "Epoch 9/100\n",
      "29/29 - 0s - 6ms/step - loss: 140.7857 - val_loss: 140.0230\n",
      "Epoch 10/100\n",
      "29/29 - 0s - 6ms/step - loss: 130.6394 - val_loss: 135.4500\n",
      "Epoch 11/100\n",
      "29/29 - 0s - 6ms/step - loss: 119.9650 - val_loss: 126.8611\n",
      "Epoch 12/100\n",
      "29/29 - 0s - 7ms/step - loss: 105.1334 - val_loss: 110.2073\n",
      "Epoch 13/100\n",
      "29/29 - 0s - 6ms/step - loss: 94.1513 - val_loss: 96.3217\n",
      "Epoch 14/100\n",
      "29/29 - 0s - 6ms/step - loss: 79.0867 - val_loss: 93.9504\n",
      "Epoch 15/100\n",
      "29/29 - 0s - 6ms/step - loss: 68.5243 - val_loss: 80.0388\n",
      "Epoch 16/100\n",
      "29/29 - 0s - 6ms/step - loss: 58.9135 - val_loss: 66.4995\n",
      "Epoch 17/100\n",
      "29/29 - 0s - 8ms/step - loss: 55.1138 - val_loss: 67.1528\n",
      "Epoch 18/100\n",
      "29/29 - 0s - 9ms/step - loss: 49.4094 - val_loss: 49.6044\n",
      "Epoch 19/100\n",
      "29/29 - 0s - 8ms/step - loss: 45.4548 - val_loss: 43.3020\n",
      "Epoch 20/100\n",
      "29/29 - 0s - 6ms/step - loss: 43.2612 - val_loss: 45.9788\n",
      "Epoch 21/100\n",
      "29/29 - 0s - 6ms/step - loss: 40.6093 - val_loss: 51.7050\n",
      "Epoch 22/100\n",
      "29/29 - 0s - 6ms/step - loss: 39.5374 - val_loss: 38.6176\n",
      "Epoch 23/100\n",
      "29/29 - 0s - 7ms/step - loss: 35.6532 - val_loss: 33.4571\n",
      "Epoch 24/100\n",
      "29/29 - 0s - 6ms/step - loss: 35.9099 - val_loss: 34.0209\n",
      "Epoch 25/100\n",
      "29/29 - 0s - 6ms/step - loss: 35.2868 - val_loss: 35.6830\n",
      "Epoch 26/100\n",
      "29/29 - 0s - 6ms/step - loss: 32.5268 - val_loss: 38.2991\n",
      "Epoch 27/100\n",
      "29/29 - 0s - 8ms/step - loss: 30.4201 - val_loss: 40.6336\n",
      "Epoch 28/100\n",
      "29/29 - 0s - 6ms/step - loss: 29.8773 - val_loss: 36.9160\n",
      "Epoch 29/100\n",
      "29/29 - 0s - 6ms/step - loss: 29.6209 - val_loss: 37.0911\n",
      "Epoch 30/100\n",
      "29/29 - 0s - 6ms/step - loss: 29.9647 - val_loss: 30.6467\n",
      "Epoch 31/100\n",
      "29/29 - 0s - 6ms/step - loss: 28.0740 - val_loss: 34.9687\n",
      "Epoch 32/100\n",
      "29/29 - 0s - 6ms/step - loss: 26.7389 - val_loss: 39.4720\n",
      "Epoch 33/100\n",
      "29/29 - 0s - 6ms/step - loss: 26.7673 - val_loss: 32.4739\n",
      "Epoch 34/100\n",
      "29/29 - 0s - 6ms/step - loss: 24.6933 - val_loss: 32.0319\n",
      "Epoch 35/100\n",
      "29/29 - 0s - 6ms/step - loss: 24.3061 - val_loss: 30.2316\n",
      "Epoch 36/100\n",
      "29/29 - 0s - 6ms/step - loss: 24.8555 - val_loss: 29.0258\n",
      "Epoch 37/100\n",
      "29/29 - 0s - 6ms/step - loss: 24.9415 - val_loss: 28.9635\n",
      "Epoch 38/100\n",
      "29/29 - 0s - 6ms/step - loss: 22.6736 - val_loss: 33.2231\n",
      "Epoch 39/100\n",
      "29/29 - 0s - 6ms/step - loss: 24.1586 - val_loss: 31.3484\n",
      "Epoch 40/100\n",
      "29/29 - 0s - 6ms/step - loss: 23.1618 - val_loss: 25.8019\n",
      "Epoch 41/100\n",
      "29/29 - 0s - 6ms/step - loss: 21.6682 - val_loss: 25.8127\n",
      "Epoch 42/100\n",
      "29/29 - 0s - 6ms/step - loss: 22.7998 - val_loss: 29.4898\n",
      "Epoch 43/100\n",
      "29/29 - 0s - 6ms/step - loss: 20.5452 - val_loss: 25.5288\n",
      "Epoch 44/100\n",
      "29/29 - 0s - 6ms/step - loss: 21.2513 - val_loss: 24.0943\n",
      "Epoch 45/100\n",
      "29/29 - 0s - 6ms/step - loss: 19.9130 - val_loss: 25.9554\n",
      "Epoch 46/100\n",
      "29/29 - 0s - 6ms/step - loss: 23.0183 - val_loss: 28.8247\n",
      "Epoch 47/100\n",
      "29/29 - 0s - 6ms/step - loss: 20.4110 - val_loss: 23.6351\n",
      "Epoch 48/100\n",
      "29/29 - 0s - 6ms/step - loss: 19.3377 - val_loss: 26.1486\n",
      "Epoch 49/100\n",
      "29/29 - 0s - 6ms/step - loss: 18.9010 - val_loss: 25.7721\n",
      "Epoch 50/100\n",
      "29/29 - 0s - 6ms/step - loss: 19.9576 - val_loss: 35.0478\n",
      "Epoch 51/100\n",
      "29/29 - 0s - 6ms/step - loss: 21.6918 - val_loss: 23.9554\n",
      "Epoch 52/100\n",
      "29/29 - 0s - 6ms/step - loss: 20.2764 - val_loss: 30.0678\n",
      "Epoch 53/100\n",
      "29/29 - 0s - 7ms/step - loss: 18.4945 - val_loss: 23.9585\n",
      "Epoch 54/100\n",
      "29/29 - 0s - 8ms/step - loss: 18.0106 - val_loss: 27.1476\n",
      "Epoch 55/100\n",
      "29/29 - 0s - 6ms/step - loss: 17.2787 - val_loss: 28.8141\n",
      "Epoch 56/100\n",
      "29/29 - 0s - 8ms/step - loss: 16.8657 - val_loss: 25.3279\n",
      "Epoch 57/100\n",
      "29/29 - 0s - 8ms/step - loss: 17.5310 - val_loss: 27.6391\n",
      "Epoch 58/100\n",
      "29/29 - 0s - 7ms/step - loss: 20.0293 - val_loss: 23.3525\n",
      "Epoch 59/100\n",
      "29/29 - 0s - 6ms/step - loss: 18.3690 - val_loss: 22.0436\n",
      "Epoch 60/100\n",
      "29/29 - 0s - 6ms/step - loss: 17.0772 - val_loss: 23.8229\n",
      "Epoch 61/100\n",
      "29/29 - 0s - 6ms/step - loss: 16.2639 - val_loss: 30.2527\n",
      "Epoch 62/100\n",
      "29/29 - 0s - 7ms/step - loss: 16.1964 - val_loss: 22.1579\n",
      "Epoch 63/100\n",
      "29/29 - 0s - 6ms/step - loss: 16.8055 - val_loss: 22.9264\n",
      "Epoch 64/100\n",
      "29/29 - 0s - 6ms/step - loss: 16.4798 - val_loss: 36.5457\n",
      "Epoch 65/100\n",
      "29/29 - 0s - 6ms/step - loss: 16.3656 - val_loss: 23.9775\n",
      "Epoch 66/100\n",
      "29/29 - 0s - 7ms/step - loss: 16.1801 - val_loss: 28.6454\n",
      "Epoch 67/100\n",
      "29/29 - 0s - 6ms/step - loss: 15.8168 - val_loss: 40.6446\n",
      "Epoch 68/100\n",
      "29/29 - 0s - 5ms/step - loss: 16.0150 - val_loss: 24.4838\n",
      "Epoch 69/100\n",
      "29/29 - 0s - 6ms/step - loss: 16.5518 - val_loss: 30.5883\n",
      "Epoch 70/100\n",
      "29/29 - 0s - 6ms/step - loss: 15.0091 - val_loss: 26.8231\n",
      "Epoch 71/100\n",
      "29/29 - 0s - 6ms/step - loss: 14.9825 - val_loss: 21.7682\n",
      "Epoch 72/100\n",
      "29/29 - 0s - 6ms/step - loss: 15.0191 - val_loss: 24.9688\n",
      "Epoch 73/100\n",
      "29/29 - 0s - 6ms/step - loss: 16.2353 - val_loss: 23.0569\n",
      "Epoch 74/100\n",
      "29/29 - 0s - 6ms/step - loss: 15.7192 - val_loss: 29.0634\n",
      "Epoch 75/100\n",
      "29/29 - 0s - 6ms/step - loss: 15.0548 - val_loss: 27.7541\n",
      "Epoch 76/100\n",
      "29/29 - 0s - 6ms/step - loss: 13.8406 - val_loss: 26.2423\n",
      "Epoch 77/100\n",
      "29/29 - 0s - 6ms/step - loss: 14.4063 - val_loss: 24.9110\n",
      "Epoch 78/100\n",
      "29/29 - 0s - 6ms/step - loss: 14.6053 - val_loss: 23.6392\n",
      "Epoch 79/100\n",
      "29/29 - 0s - 6ms/step - loss: 14.1318 - val_loss: 21.5545\n",
      "Epoch 80/100\n",
      "29/29 - 0s - 6ms/step - loss: 14.3558 - val_loss: 26.3345\n",
      "Epoch 81/100\n",
      "29/29 - 0s - 6ms/step - loss: 15.1534 - val_loss: 22.9341\n",
      "Epoch 82/100\n",
      "29/29 - 0s - 6ms/step - loss: 14.1502 - val_loss: 22.8907\n",
      "Epoch 83/100\n",
      "29/29 - 0s - 6ms/step - loss: 14.3787 - val_loss: 24.3089\n",
      "Epoch 84/100\n",
      "29/29 - 0s - 6ms/step - loss: 14.1347 - val_loss: 27.7890\n",
      "Epoch 85/100\n",
      "29/29 - 0s - 6ms/step - loss: 13.2164 - val_loss: 22.1963\n",
      "Epoch 86/100\n",
      "29/29 - 0s - 6ms/step - loss: 14.1943 - val_loss: 23.7894\n",
      "Epoch 87/100\n",
      "29/29 - 0s - 6ms/step - loss: 13.7288 - val_loss: 29.3487\n",
      "Epoch 88/100\n",
      "29/29 - 0s - 6ms/step - loss: 15.4494 - val_loss: 22.6168\n",
      "Epoch 89/100\n",
      "29/29 - 0s - 6ms/step - loss: 14.0434 - val_loss: 31.0050\n",
      "Epoch 90/100\n",
      "29/29 - 0s - 6ms/step - loss: 13.5706 - val_loss: 23.2175\n",
      "Epoch 91/100\n",
      "29/29 - 0s - 6ms/step - loss: 13.4724 - val_loss: 24.9657\n",
      "Epoch 92/100\n",
      "29/29 - 0s - 6ms/step - loss: 13.0162 - val_loss: 24.5768\n",
      "Epoch 93/100\n",
      "29/29 - 0s - 6ms/step - loss: 13.0802 - val_loss: 25.3959\n",
      "Epoch 94/100\n",
      "29/29 - 0s - 6ms/step - loss: 14.2078 - val_loss: 31.8262\n",
      "Epoch 95/100\n",
      "29/29 - 0s - 5ms/step - loss: 13.7216 - val_loss: 26.1383\n",
      "Epoch 96/100\n",
      "29/29 - 0s - 6ms/step - loss: 12.3408 - val_loss: 21.1312\n",
      "Epoch 97/100\n",
      "29/29 - 0s - 6ms/step - loss: 12.5692 - val_loss: 27.0783\n",
      "Epoch 98/100\n",
      "29/29 - 0s - 6ms/step - loss: 12.2195 - val_loss: 21.4393\n",
      "Epoch 99/100\n",
      "29/29 - 0s - 6ms/step - loss: 13.1916 - val_loss: 29.2676\n",
      "Epoch 100/100\n",
      "29/29 - 0s - 6ms/step - loss: 15.6811 - val_loss: 26.1086\n"
     ]
    },
    {
     "data": {
      "text/plain": [
       "<keras.src.callbacks.history.History at 0x21d9dba1e80>"
      ]
     },
     "execution_count": 44,
     "metadata": {},
     "output_type": "execute_result"
    }
   ],
   "source": [
    "# Write your code here\n",
    "model2 = regression_model2()\n",
    "model2.fit(predictors_norm, target, validation_split=0.1, epochs=100, verbose=2)"
   ]
  },
  {
   "cell_type": "markdown",
   "id": "f07289bd-073d-48ad-aca1-41462b529d05",
   "metadata": {},
   "source": [
    "Double-click <b>here</b> for the solution.\n",
    "\n",
    "<!-- Your answer is below:\n",
    "# build the model\n",
    "model = regression_model()\n",
    "model.fit(predictors_norm, target, validation_split=0.1, epochs=100, verbose=2)\n",
    "\n",
    "-->\n"
   ]
  },
  {
   "cell_type": "markdown",
   "id": "e64098d3-ab96-4f5e-bc9b-4ba00efe2c01",
   "metadata": {},
   "source": [
    "Based on the results, we notice that:\n",
    "\n",
    "- Adding more hidden layers to the model increases its capacity to learn and represent complex relationships within the data. This allows the model to better identify, as a result, the model becomes more effective at fitting the training data and potentially improving its predictions.\n",
    "- By reducing the proportion of data set aside for validation and using a larger portion for training, the model has access to more examples to learn from. This additional training data helps the model improve its understanding of the underlying trends, which can lead to better overall performance.  \n"
   ]
  },
  {
   "cell_type": "markdown",
   "id": "6b40d1bd-8a8a-41ea-986e-d14560490d45",
   "metadata": {},
   "source": [
    "### Thank you for completing this lab!\n",
    "\n",
    "This notebook was created by [Alex Aklson](https://www.linkedin.com/in/aklson/). I hope you found this lab interesting and educational. Feel free to contact me if you have any questions!\n"
   ]
  },
  {
   "cell_type": "markdown",
   "id": "db21e9eb-0111-46a7-8061-8dacc1c70732",
   "metadata": {},
   "source": [
    "<!--\n",
    "## Change Log\n",
    "\n",
    "|  Date (YYYY-MM-DD) |  Version | Changed By  |  Change Description |\n",
    "|---|---|---|---|\n",
    "| 2024-11-20  | 3.0  | Aman  |  Updated the library versions to current |\n",
    "| 2020-09-21  | 2.0  | Srishti  |  Migrated Lab to Markdown and added to course repo in GitLab |\n",
    "\n",
    "\n",
    "\n",
    "<hr>\n",
    "\n",
    "## <h3 align=\"center\"> © IBM Corporation. All rights reserved. <h3/>\n"
   ]
  },
  {
   "cell_type": "markdown",
   "id": "b1e60b1e-c10e-4f40-92e2-ce1fb3d2def0",
   "metadata": {},
   "source": [
    "## <h3 align=\"center\"> &#169; IBM Corporation. All rights reserved. <h3/>\n",
    "\n"
   ]
  }
 ],
 "metadata": {
  "kernelspec": {
   "display_name": "my_env",
   "language": "python",
   "name": "python3"
  },
  "language_info": {
   "codemirror_mode": {
    "name": "ipython",
    "version": 3
   },
   "file_extension": ".py",
   "mimetype": "text/x-python",
   "name": "python",
   "nbconvert_exporter": "python",
   "pygments_lexer": "ipython3",
   "version": "3.12.8"
  },
  "prev_pub_hash": "7798ec66287dc6e3a0a8d4fcb1fcbe001f8ce637f2f460e6aa188f14bb0f7d79"
 },
 "nbformat": 4,
 "nbformat_minor": 4
}
