{
 "cells": [
  {
   "cell_type": "markdown",
   "id": "ce1317fd",
   "metadata": {},
   "source": [
    "## **Tensors – Fundamentals of Neural Networks in PyTorch**\n",
    "\n",
    "* **What is a tensor?**\n",
    "A **tensor** in PyTorch is a data structure that generalizes numbers and multidimensional arrays (similar to NumPy). It is the **building block** of neural networks.\n",
    "\n",
    "* **Neural Network as a mathematical function:**\n",
    "A neural network takes input (tensor `x`), processes it through mathematical operations (such as multiplication and addition), and returns output (`y`), also a tensor. **Model parameters** are also tensors.\n",
    "\n",
    "* **Main operations:**\n",
    "The course focuses on operations between tensors (vectors and matrices), which are the heart of processing in a neural network.\n",
    "\n",
    "* **Practical examples:**\n",
    "\n",
    "* **Database**: each row is a tensor to be passed to the network.\n",
    "* **Images**: Converted to 2D or 3D tensors to be processed by the model.\n",
    "\n",
    "* **Conversions:**\n",
    "It is easy to **convert PyTorch tensors to NumPy arrays** and vice versa, allowing integration with the Python ecosystem.\n",
    "\n",
    "* **GPU Support:**\n",
    "PyTorch can easily **use the GPU**, which is essential for training neural networks efficiently.\n",
    "\n",
    "* **Derivatives and Gradient:**\n",
    "**Parameters** can be set with `requires_grad=True` to automatically calculate the **gradients** needed for training.\n",
    "\n",
    "* **Dataset Class:**\n",
    "PyTorch provides a **Dataset class** to easily handle **large amounts of data**, which is essential for training."
   ]
  },
  {
   "cell_type": "markdown",
   "id": "8c33690c",
   "metadata": {},
   "source": [
    "## **What are 1D Tensors**\n",
    "A 1D tensor **is like an array or vector**:\n",
    "- it can **represent**: a **database row**, a **time series**, an **input list**.\n",
    "- it is composed of elements of a single data type (e.g. float32, int64, uint8, etc.)."
   ]
  },
  {
   "cell_type": "markdown",
   "id": "2366c921",
   "metadata": {},
   "source": [
    "### **Tensor Creation and Types**"
   ]
  },
  {
   "cell_type": "code",
   "execution_count": 1,
   "id": "524811a3",
   "metadata": {},
   "outputs": [],
   "source": [
    "import torch"
   ]
  },
  {
   "cell_type": "code",
   "execution_count": 2,
   "id": "1fe2d3c6",
   "metadata": {},
   "outputs": [
    {
     "name": "stdout",
     "output_type": "stream",
     "text": [
      "torch.int64\n",
      "torch.LongTensor\n",
      "torch.float32\n"
     ]
    }
   ],
   "source": [
    "# List\n",
    "a = torch.tensor([7, 4, 3, 2, 6])\n",
    "\n",
    "# Data type contained\n",
    "print(a.dtype) # torch.int64 (default for integers)\n",
    "print(a.type()) # torch.LongTensor\n",
    "\n",
    "# Force float type\n",
    "b = torch.tensor([7, 4, 3, 2, 6], dtype=torch.float32)\n",
    "print(b.dtype) # torch.float32"
   ]
  },
  {
   "cell_type": "markdown",
   "id": "c4aeca5c",
   "metadata": {},
   "source": [
    "### **Type Conversion**"
   ]
  },
  {
   "cell_type": "code",
   "execution_count": 3,
   "id": "f78c7d11",
   "metadata": {},
   "outputs": [
    {
     "name": "stdout",
     "output_type": "stream",
     "text": [
      "tensor([1., 2., 3., 4.])\n"
     ]
    }
   ],
   "source": [
    "c = torch.tensor([1, 2, 3, 4], dtype=torch.long)\n",
    "c = c.type(torch.FloatTensor)\n",
    "print(c) \n"
   ]
  },
  {
   "cell_type": "markdown",
   "id": "87fb21ca",
   "metadata": {},
   "source": [
    "### **Index, Slice and Edit**"
   ]
  },
  {
   "cell_type": "code",
   "execution_count": null,
   "id": "a83acc55",
   "metadata": {},
   "outputs": [],
   "source": [
    "x = torch.tensor([10, 20, 30, 40, 50])\n",
    "\n",
    "# Access and slicing\n",
    "print(x[0]) # 10\n",
    "print(x[1:4]) # [20, 30, 40]\n",
    "\n",
    "# Edit\n",
    "x[0] = 100\n",
    "x[4] = 0\n",
    "print(x) # [100, 20, 30, 40, 0]\n"
   ]
  }
 ],
 "metadata": {
  "kernelspec": {
   "display_name": "ai_env",
   "language": "python",
   "name": "python3"
  },
  "language_info": {
   "codemirror_mode": {
    "name": "ipython",
    "version": 3
   },
   "file_extension": ".py",
   "mimetype": "text/x-python",
   "name": "python",
   "nbconvert_exporter": "python",
   "pygments_lexer": "ipython3",
   "version": "3.10.16"
  }
 },
 "nbformat": 4,
 "nbformat_minor": 5
}
