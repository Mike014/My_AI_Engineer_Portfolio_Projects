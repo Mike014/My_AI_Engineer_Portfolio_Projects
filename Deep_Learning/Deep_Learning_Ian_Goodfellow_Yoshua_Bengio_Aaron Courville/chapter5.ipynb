{
 "cells": [
  {
   "cell_type": "markdown",
   "id": "fd805f19",
   "metadata": {},
   "source": [
    "# **Machine Learning Basics**\n",
    "\n",
    "### **What is a learning algorithm**\n",
    "A learning algorithm is a **program that improves its performance** on a **certain task through experience**.\n",
    "\n",
    "“A **program** is said to **learn from experience E** with **respect to a class of tasks T and a performance measure P**, if its performance on T, as measured by P, improves with experience E.”\n",
    "\n"
   ]
  }
 ],
 "metadata": {
  "language_info": {
   "name": "python"
  }
 },
 "nbformat": 4,
 "nbformat_minor": 5
}
