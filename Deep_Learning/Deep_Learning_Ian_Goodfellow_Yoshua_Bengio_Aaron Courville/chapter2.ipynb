{
 "cells": [
  {
   "cell_type": "markdown",
   "metadata": {},
   "source": [
    "# **Chapter 2 - Linear Algebra in Deep Learning**\n",
    "\n",
    "**Linear algebra is fundamental in deep learning**, as neural networks rely on vectors, matrices, and tensors for computations. Below, we rewrite key concepts using a **Python-style notation**, making it easier to translate them into code."
   ]
  },
  {
   "cell_type": "markdown",
   "metadata": {},
   "source": [
    "### **Fundamentals of Linear Algebra for Deep Learning (Python Approach)**\n",
    "\n",
    "Linear algebra is essential for deep learning since neural networks process information using **scalars, vectors, matrices, and tensors**. This chapter covers the key elements necessary to understand neural networks.\n",
    "\n",
    "---\n",
    "\n",
    "## **1. Fundamental Elements of Linear Algebra**\n",
    "Linear algebra involves different types of mathematical objects:\n",
    "\n",
    "### **Scalars (Single Numbers)**\n",
    "A **scalar** is a **single numerical value**, written in italics (e.g., $s \\in \\mathbb{R}$).\n",
    "- Example: $s = 5$, $t = 3.14$\n",
    "- **Python Implementation:**\n",
    "```python\n",
    "s = 5  # Integer\n",
    "t = 3.14  # Floating-point number\n",
    "```\n",
    "\n",
    "---\n",
    "\n",
    "### **Vectors (1D Arrays)**\n",
    "A **vector** is an **ordered sequence** of numbers, represented as a column:\n",
    "\n",
    "$$\n",
    "x =\n",
    "\\begin{bmatrix}\n",
    "x_1 \\\\\n",
    "x_2 \\\\\n",
    "\\vdots \\\\\n",
    "x_n\n",
    "\\end{bmatrix}\n",
    "$$\n",
    "\n",
    "**Vectors represent points in space and are fundamental in deep learning models.**\n",
    "- **Python Implementation:**\n",
    "```python\n",
    "import numpy as np\n",
    "x = np.array([1, 2, 3])  # 1D vector\n",
    "```\n",
    "\n",
    "🔹 **Vector Operations:**\n",
    "- **Addition**: `x + y`\n",
    "- **Scalar Multiplication**: `a * x`\n",
    "- **Dot Product**: `np.dot(x, y)`\n",
    "\n",
    "---\n",
    "\n",
    "### **Matrices (2D Arrays)**\n",
    "A **matrix** is a **table of numbers**, defined by **rows** and **columns**:\n",
    "\n",
    "$$\n",
    "A =\n",
    "\\begin{bmatrix}\n",
    "A_{1,1} & A_{1,2} \\\\\n",
    "A_{2,1} & A_{2,2}\n",
    "\\end{bmatrix}\n",
    "$$\n",
    "\n",
    "**Matrices are used to represent weights and linear transformations in neural networks.**\n",
    "\n",
    "- **Python Implementation:**\n",
    "```python\n",
    "A = np.array([[1, 2], [3, 4]])  # 2x2 matrix\n",
    "```\n",
    "\n",
    "🔹 **Matrix Operations:**\n",
    "- **Transpose**: `A.T`\n",
    "- **Matrix Multiplication**: `np.dot(A, B)` or `A @ B`\n",
    "- **Element Access:**\n",
    "  ```python\n",
    "  A[0, :]  # First row\n",
    "  A[:, 1]  # Second column\n",
    "  ```\n",
    "\n",
    "---\n",
    "\n",
    "### **Tensors (Multidimensional Arrays)**\n",
    "A **tensor** is a generalization of matrices to higher dimensions.\n",
    "\n",
    "Example of a **3D tensor**:\n",
    "$$\n",
    "T = \\begin{bmatrix}\n",
    "\\begin{bmatrix} T_{1,1,1} & T_{1,1,2} \\\\ T_{1,2,1} & T_{1,2,2} \\end{bmatrix} \\\\\n",
    "\\begin{bmatrix} T_{2,1,1} & T_{2,1,2} \\\\ T_{2,2,1} & T_{2,2,2} \\end{bmatrix}\n",
    "\\end{bmatrix}\n",
    "$$\n",
    "\n",
    "- **Python Implementation:**\n",
    "```python\n",
    "T = np.random.rand(3, 3, 3)  # Random 3D tensor\n",
    "```\n",
    "\n",
    "**Tensors are widely used to represent images and multidimensional data in deep learning.**\n",
    "\n",
    "---\n",
    "\n",
    "## **2. Fundamental Operations in Neural Networks**\n",
    "\n",
    "| **Operation** | **Mathematical Representation** | **Python Equivalent** |\n",
    "|------------------------|---------------------------------|-----------------------|\n",
    "| **Vector Addition** | $(x + y)$                       | `x + y`               |\n",
    "| **Dot Product** | $(x^T y)$                       | `np.dot(x, y)`        |\n",
    "| **Matrix-Vector Product** | $(A x)$                         | `A @ x`               |\n",
    "| **Matrix-Matrix Product** | $(A B)$                         | `A @ B`               |\n",
    "| **Transpose** | $(A^T)$                         | `A.T`                 |\n",
    "<!-- | **Vector Norm (L2)** | $(||x||_2)$                     | `np.linalg.norm(x)`  | -->\n",
    "\n",
    "---\n",
    "\n",
    "### **Conclusion**\n",
    "Linear algebra is **the mathematical foundation of deep learning**, as neural networks use:\n",
    "- **Scalars** for parameters and biases.\n",
    "- **Vectors** for inputs and neuron weights.\n",
    "- **Matrices** for linear transformations.\n",
    "- **Tensors** for multidimensional data representation (e.g., images, sequences).\n",
    "```"
   ]
  },
  {
   "cell_type": "code",
   "execution_count": 6,
   "metadata": {},
   "outputs": [],
   "source": [
    "import numpy as np\n",
    "\n",
    "# Define matrices and vectors for the exercise\n",
    "A = np.array([[1, 2], [3, 4]])  # 2x2 matrix\n",
    "B = np.array([[5, 6], [7, 8]])  # 2x2 matrix\n",
    "x = np.array([1, 2])  # 1D vector\n",
    "y = np.array([3, 4])  # 1D vector\n",
    "\n",
    "# Matrix multiplication\n",
    "C = A @ B\n",
    "\n",
    "# Element-wise (Hadamard) product\n",
    "hadamard_product = A * B\n",
    "\n",
    "# Dot product of two vectors\n",
    "dot_product = np.dot(x, y)\n",
    "\n",
    "# Verify distributive property: A(B + B) == A @ B + A @ B\n",
    "distributive_test = np.allclose(A @ (B + B), A @ B + A @ B)\n",
    "\n",
    "# Verify associative property: A(BC) == (AB)C\n",
    "D = np.array([[2, 3], [4, 5]])  # Extra matrix for associative test\n",
    "associative_test = np.allclose(A @ (B @ D), (A @ B) @ D)\n",
    "\n",
    "# Transpose property: (AB)^T == B^T A^T\n",
    "transpose_test = np.allclose((A @ B).T, B.T @ A.T)\n",
    "\n",
    "# Solving a linear system Ax = b\n",
    "A_sys = np.array([[2, 1], [1, 3]])  # Coefficient matrix\n",
    "b_sys = np.array([8, 13])  # Known values\n",
    "x_solution = np.linalg.solve(A_sys, b_sys)"
   ]
  },
  {
   "cell_type": "code",
   "execution_count": 8,
   "metadata": {},
   "outputs": [
    {
     "data": {
      "text/plain": [
       "{'Matrix Multiplication (C=AB)': array([[19, 22],\n",
       "        [43, 50]]),\n",
       " 'Hadamard Product (Element-wise)': array([[ 5, 12],\n",
       "        [21, 32]]),\n",
       " 'Dot Product (x^Ty)': 11,\n",
       " 'Distributive Property Verified': True,\n",
       " 'Associative Property Verified': True,\n",
       " 'Transpose Property Verified': True,\n",
       " 'Solution of Ax=b': array([2.2, 3.6])}"
      ]
     },
     "execution_count": 8,
     "metadata": {},
     "output_type": "execute_result"
    }
   ],
   "source": [
    "# Display results\n",
    "import pandas as pd\n",
    "results = {\n",
    "    \"Matrix Multiplication (C=AB)\": C,\n",
    "    \"Hadamard Product (Element-wise)\": hadamard_product,\n",
    "    \"Dot Product (x^Ty)\": dot_product,\n",
    "    \"Distributive Property Verified\": distributive_test,\n",
    "    \"Associative Property Verified\": associative_test,\n",
    "    \"Transpose Property Verified\": transpose_test,\n",
    "    \"Solution of Ax=b\": x_solution\n",
    "}\n",
    "\n",
    "results"
   ]
  },
  {
   "cell_type": "code",
   "execution_count": 13,
   "metadata": {},
   "outputs": [
    {
     "name": "stdout",
     "output_type": "stream",
     "text": [
      "Collecting ace_tools_open\n",
      "  Downloading ace_tools_open-0.1.0-py3-none-any.whl.metadata (1.1 kB)\n",
      "Requirement already satisfied: pandas in c:\\users\\dell\\anaconda3\\envs\\my_env\\lib\\site-packages (from ace_tools_open) (2.2.3)\n",
      "Collecting itables (from ace_tools_open)\n",
      "  Downloading itables-2.2.5-py3-none-any.whl.metadata (8.4 kB)\n",
      "Requirement already satisfied: IPython in c:\\users\\dell\\anaconda3\\envs\\my_env\\lib\\site-packages (from ace_tools_open) (8.31.0)\n",
      "Requirement already satisfied: colorama in c:\\users\\dell\\anaconda3\\envs\\my_env\\lib\\site-packages (from IPython->ace_tools_open) (0.4.6)\n",
      "Requirement already satisfied: decorator in c:\\users\\dell\\anaconda3\\envs\\my_env\\lib\\site-packages (from IPython->ace_tools_open) (5.1.1)\n",
      "Requirement already satisfied: jedi>=0.16 in c:\\users\\dell\\anaconda3\\envs\\my_env\\lib\\site-packages (from IPython->ace_tools_open) (0.19.2)\n",
      "Requirement already satisfied: matplotlib-inline in c:\\users\\dell\\anaconda3\\envs\\my_env\\lib\\site-packages (from IPython->ace_tools_open) (0.1.7)\n",
      "Requirement already satisfied: prompt_toolkit<3.1.0,>=3.0.41 in c:\\users\\dell\\anaconda3\\envs\\my_env\\lib\\site-packages (from IPython->ace_tools_open) (3.0.50)\n",
      "Requirement already satisfied: pygments>=2.4.0 in c:\\users\\dell\\anaconda3\\envs\\my_env\\lib\\site-packages (from IPython->ace_tools_open) (2.19.1)\n",
      "Requirement already satisfied: stack_data in c:\\users\\dell\\anaconda3\\envs\\my_env\\lib\\site-packages (from IPython->ace_tools_open) (0.6.3)\n",
      "Requirement already satisfied: traitlets>=5.13.0 in c:\\users\\dell\\anaconda3\\envs\\my_env\\lib\\site-packages (from IPython->ace_tools_open) (5.14.3)\n",
      "Requirement already satisfied: numpy in c:\\users\\dell\\anaconda3\\envs\\my_env\\lib\\site-packages (from itables->ace_tools_open) (1.26.4)\n",
      "Requirement already satisfied: python-dateutil>=2.8.2 in c:\\users\\dell\\anaconda3\\envs\\my_env\\lib\\site-packages (from pandas->ace_tools_open) (2.9.0.post0)\n",
      "Requirement already satisfied: pytz>=2020.1 in c:\\users\\dell\\anaconda3\\envs\\my_env\\lib\\site-packages (from pandas->ace_tools_open) (2024.1)\n",
      "Requirement already satisfied: tzdata>=2022.7 in c:\\users\\dell\\anaconda3\\envs\\my_env\\lib\\site-packages (from pandas->ace_tools_open) (2025.1)\n",
      "Requirement already satisfied: parso<0.9.0,>=0.8.4 in c:\\users\\dell\\anaconda3\\envs\\my_env\\lib\\site-packages (from jedi>=0.16->IPython->ace_tools_open) (0.8.4)\n",
      "Requirement already satisfied: wcwidth in c:\\users\\dell\\anaconda3\\envs\\my_env\\lib\\site-packages (from prompt_toolkit<3.1.0,>=3.0.41->IPython->ace_tools_open) (0.2.13)\n",
      "Requirement already satisfied: six>=1.5 in c:\\users\\dell\\anaconda3\\envs\\my_env\\lib\\site-packages (from python-dateutil>=2.8.2->pandas->ace_tools_open) (1.17.0)\n",
      "Requirement already satisfied: executing>=1.2.0 in c:\\users\\dell\\anaconda3\\envs\\my_env\\lib\\site-packages (from stack_data->IPython->ace_tools_open) (2.1.0)\n",
      "Requirement already satisfied: asttokens>=2.1.0 in c:\\users\\dell\\anaconda3\\envs\\my_env\\lib\\site-packages (from stack_data->IPython->ace_tools_open) (3.0.0)\n",
      "Requirement already satisfied: pure_eval in c:\\users\\dell\\anaconda3\\envs\\my_env\\lib\\site-packages (from stack_data->IPython->ace_tools_open) (0.2.3)\n",
      "Downloading ace_tools_open-0.1.0-py3-none-any.whl (3.0 kB)\n",
      "Downloading itables-2.2.5-py3-none-any.whl (1.4 MB)\n",
      "   ---------------------------------------- 0.0/1.4 MB ? eta -:--:--\n",
      "   ---------------------------------------- 1.4/1.4 MB 10.5 MB/s eta 0:00:00\n",
      "Installing collected packages: itables, ace_tools_open\n",
      "Successfully installed ace_tools_open-0.1.0 itables-2.2.5\n",
      "Note: you may need to restart the kernel to use updated packages.\n"
     ]
    }
   ],
   "source": [
    "%pip install ace_tools_open"
   ]
  },
  {
   "cell_type": "code",
   "execution_count": null,
   "metadata": {},
   "outputs": [
    {
     "name": "stdout",
     "output_type": "stream",
     "text": [
      "Matrix and Vector Operations Results\n"
     ]
    },
    {
     "data": {
      "text/html": [
       "<table id=\"itables_cef5280b_19bb_4398_9681_27983cad6676\" class=\"display nowrap\" data-quarto-disable-processing=\"true\" style=\"table-layout:auto;width:auto;margin:auto;caption-side:bottom\">\n",
       "<thead>\n",
       "    <tr style=\"text-align: right;\">\n",
       "      \n",
       "      <th>Operation</th>\n",
       "      <th>Result</th>\n",
       "    </tr>\n",
       "  </thead><tbody><tr>\n",
       "<td style=\"vertical-align:middle; text-align:left\">\n",
       "<a href=https://mwouts.github.io/itables/><svg class=\"main-svg\" xmlns=\"http://www.w3.org/2000/svg\" xmlns:xlink=\"http://www.w3.org/1999/xlink\"\n",
       "width=\"64\" viewBox=\"0 0 500 400\" style=\"font-family: 'Droid Sans', sans-serif;\">\n",
       "    <g style=\"fill:#d9d7fc\">\n",
       "        <path d=\"M100,400H500V357H100Z\" />\n",
       "        <path d=\"M100,300H400V257H100Z\" />\n",
       "        <path d=\"M0,200H400V157H0Z\" />\n",
       "        <path d=\"M100,100H500V57H100Z\" />\n",
       "        <path d=\"M100,350H500V307H100Z\" />\n",
       "        <path d=\"M100,250H400V207H100Z\" />\n",
       "        <path d=\"M0,150H400V107H0Z\" />\n",
       "        <path d=\"M100,50H500V7H100Z\" />\n",
       "    </g>\n",
       "    <g style=\"fill:#1a1366;stroke:#1a1366;\">\n",
       "   <rect x=\"100\" y=\"7\" width=\"400\" height=\"43\">\n",
       "    <animate\n",
       "      attributeName=\"width\"\n",
       "      values=\"0;400;0\"\n",
       "      dur=\"5s\"\n",
       "      repeatCount=\"indefinite\" />\n",
       "      <animate\n",
       "      attributeName=\"x\"\n",
       "      values=\"100;100;500\"\n",
       "      dur=\"5s\"\n",
       "      repeatCount=\"indefinite\" />\n",
       "  </rect>\n",
       "        <rect x=\"0\" y=\"107\" width=\"400\" height=\"43\">\n",
       "    <animate\n",
       "      attributeName=\"width\"\n",
       "      values=\"0;400;0\"\n",
       "      dur=\"3.5s\"\n",
       "      repeatCount=\"indefinite\" />\n",
       "    <animate\n",
       "      attributeName=\"x\"\n",
       "      values=\"0;0;400\"\n",
       "      dur=\"3.5s\"\n",
       "      repeatCount=\"indefinite\" />\n",
       "  </rect>\n",
       "        <rect x=\"100\" y=\"207\" width=\"300\" height=\"43\">\n",
       "    <animate\n",
       "      attributeName=\"width\"\n",
       "      values=\"0;300;0\"\n",
       "      dur=\"3s\"\n",
       "      repeatCount=\"indefinite\" />\n",
       "    <animate\n",
       "      attributeName=\"x\"\n",
       "      values=\"100;100;400\"\n",
       "      dur=\"3s\"\n",
       "      repeatCount=\"indefinite\" />\n",
       "  </rect>\n",
       "        <rect x=\"100\" y=\"307\" width=\"400\" height=\"43\">\n",
       "    <animate\n",
       "      attributeName=\"width\"\n",
       "      values=\"0;400;0\"\n",
       "      dur=\"4s\"\n",
       "      repeatCount=\"indefinite\" />\n",
       "      <animate\n",
       "      attributeName=\"x\"\n",
       "      values=\"100;100;500\"\n",
       "      dur=\"4s\"\n",
       "      repeatCount=\"indefinite\" />\n",
       "  </rect>\n",
       "        <g style=\"fill:transparent;stroke-width:8; stroke-linejoin:round\" rx=\"5\">\n",
       "            <g transform=\"translate(45 50) rotate(-45)\">\n",
       "                <circle r=\"33\" cx=\"0\" cy=\"0\" />\n",
       "                <rect x=\"-8\" y=\"32\" width=\"16\" height=\"30\" />\n",
       "            </g>\n",
       "\n",
       "            <g transform=\"translate(450 152)\">\n",
       "                <polyline points=\"-15,-20 -35,-20 -35,40 25,40 25,20\" />\n",
       "                <rect x=\"-15\" y=\"-40\" width=\"60\" height=\"60\" />\n",
       "            </g>\n",
       "\n",
       "            <g transform=\"translate(50 352)\">\n",
       "                <polygon points=\"-35,-5 0,-40 35,-5\" />\n",
       "                <polygon points=\"-35,10 0,45 35,10\" />\n",
       "            </g>\n",
       "\n",
       "            <g transform=\"translate(75 250)\">\n",
       "                <polyline points=\"-30,30 -60,0 -30,-30\" />\n",
       "                <polyline points=\"0,30 -30,0 0,-30\" />\n",
       "            </g>\n",
       "\n",
       "            <g transform=\"translate(425 250) rotate(180)\">\n",
       "                <polyline points=\"-30,30 -60,0 -30,-30\" />\n",
       "                <polyline points=\"0,30 -30,0 0,-30\" />\n",
       "            </g>\n",
       "        </g>\n",
       "    </g>\n",
       "</svg>\n",
       "</a>\n",
       "Loading ITables v2.2.5 from the internet...\n",
       "(need <a href=https://mwouts.github.io/itables/troubleshooting.html>help</a>?)</td>\n",
       "</tr></tbody>\n",
       "</table>\n",
       "<link href=\"https://www.unpkg.com/dt_for_itables@2.0.13/dt_bundle.css\" rel=\"stylesheet\">\n",
       "<script type=\"module\">\n",
       "    import {DataTable, jQuery as $} from 'https://www.unpkg.com/dt_for_itables@2.0.13/dt_bundle.js';\n",
       "\n",
       "    document.querySelectorAll(\"#itables_cef5280b_19bb_4398_9681_27983cad6676:not(.dataTable)\").forEach(table => {\n",
       "        if (!(table instanceof HTMLTableElement))\n",
       "            return;\n",
       "\n",
       "        // Define the table data\n",
       "        const data = [[\"Matrix Multiplication (C=AB)\", \"[[19, 22], [43, 50]]\"], [\"Hadamard Product (Element-wise)\", \"[[5, 12], [21, 32]]\"], [\"Dot Product (x^Ty)\", \"11\"], [\"Distributive Property Verified\", \"True\"], [\"Associative Property Verified\", \"True\"], [\"Transpose Property Verified\", \"True\"], [\"Solution of Ax=b\", \"[2.2, 3.6]\"]];\n",
       "\n",
       "        // Define the dt_args\n",
       "        let dt_args = {\"layout\": {\"topStart\": null, \"topEnd\": null, \"bottomStart\": null, \"bottomEnd\": null}, \"order\": [], \"warn_on_selected_rows_not_rendered\": true};\n",
       "        dt_args[\"data\"] = data;\n",
       "\n",
       "        \n",
       "        new DataTable(table, dt_args);\n",
       "    });\n",
       "</script>\n"
      ],
      "text/plain": [
       "<IPython.core.display.HTML object>"
      ]
     },
     "metadata": {},
     "output_type": "display_data"
    }
   ],
   "source": [
    "# Display results in a structured table format\n",
    "import ace_tools_open as tools\n",
    "\n",
    "# Formatting results for display\n",
    "formatted_results = {\n",
    "    \"Matrix Multiplication (C=AB)\": str(C.tolist()),\n",
    "    \"Hadamard Product (Element-wise)\": str(hadamard_product.tolist()),\n",
    "    \"Dot Product (x^Ty)\": dot_product,\n",
    "    \"Distributive Property Verified\": distributive_test,\n",
    "    \"Associative Property Verified\": associative_test,\n",
    "    \"Transpose Property Verified\": transpose_test,\n",
    "    \"Solution of Ax=b\": str(x_solution.tolist())\n",
    "}\n",
    "\n",
    "# Convert results into a structured DataFrame with strings for display compatibility\n",
    "df_results = pd.DataFrame(list(formatted_results.items()), columns=['Operation', 'Result'])\n",
    "\n",
    "# Display the results\n",
    "tools.display_dataframe_to_user(name=\"Matrix and Vector Operations Results\", dataframe=df_results)"
   ]
  },
  {
   "cell_type": "code",
   "execution_count": 20,
   "metadata": {},
   "outputs": [
    {
     "name": "stdout",
     "output_type": "stream",
     "text": [
      "Matrix and Vector Operations Results\n"
     ]
    },
    {
     "data": {
      "text/html": [
       "<table id=\"itables_acfa1313_8999_4bd9_919b_714f1c8fa221\" class=\"display nowrap\" data-quarto-disable-processing=\"true\" style=\"table-layout:auto;width:auto;margin:auto;caption-side:bottom\">\n",
       "<thead>\n",
       "    <tr style=\"text-align: right;\">\n",
       "      \n",
       "      <th>Operation</th>\n",
       "      <th>Result</th>\n",
       "    </tr>\n",
       "  </thead><tbody><tr>\n",
       "<td style=\"vertical-align:middle; text-align:left\">\n",
       "<a href=https://mwouts.github.io/itables/><svg class=\"main-svg\" xmlns=\"http://www.w3.org/2000/svg\" xmlns:xlink=\"http://www.w3.org/1999/xlink\"\n",
       "width=\"64\" viewBox=\"0 0 500 400\" style=\"font-family: 'Droid Sans', sans-serif;\">\n",
       "    <g style=\"fill:#d9d7fc\">\n",
       "        <path d=\"M100,400H500V357H100Z\" />\n",
       "        <path d=\"M100,300H400V257H100Z\" />\n",
       "        <path d=\"M0,200H400V157H0Z\" />\n",
       "        <path d=\"M100,100H500V57H100Z\" />\n",
       "        <path d=\"M100,350H500V307H100Z\" />\n",
       "        <path d=\"M100,250H400V207H100Z\" />\n",
       "        <path d=\"M0,150H400V107H0Z\" />\n",
       "        <path d=\"M100,50H500V7H100Z\" />\n",
       "    </g>\n",
       "    <g style=\"fill:#1a1366;stroke:#1a1366;\">\n",
       "   <rect x=\"100\" y=\"7\" width=\"400\" height=\"43\">\n",
       "    <animate\n",
       "      attributeName=\"width\"\n",
       "      values=\"0;400;0\"\n",
       "      dur=\"5s\"\n",
       "      repeatCount=\"indefinite\" />\n",
       "      <animate\n",
       "      attributeName=\"x\"\n",
       "      values=\"100;100;500\"\n",
       "      dur=\"5s\"\n",
       "      repeatCount=\"indefinite\" />\n",
       "  </rect>\n",
       "        <rect x=\"0\" y=\"107\" width=\"400\" height=\"43\">\n",
       "    <animate\n",
       "      attributeName=\"width\"\n",
       "      values=\"0;400;0\"\n",
       "      dur=\"3.5s\"\n",
       "      repeatCount=\"indefinite\" />\n",
       "    <animate\n",
       "      attributeName=\"x\"\n",
       "      values=\"0;0;400\"\n",
       "      dur=\"3.5s\"\n",
       "      repeatCount=\"indefinite\" />\n",
       "  </rect>\n",
       "        <rect x=\"100\" y=\"207\" width=\"300\" height=\"43\">\n",
       "    <animate\n",
       "      attributeName=\"width\"\n",
       "      values=\"0;300;0\"\n",
       "      dur=\"3s\"\n",
       "      repeatCount=\"indefinite\" />\n",
       "    <animate\n",
       "      attributeName=\"x\"\n",
       "      values=\"100;100;400\"\n",
       "      dur=\"3s\"\n",
       "      repeatCount=\"indefinite\" />\n",
       "  </rect>\n",
       "        <rect x=\"100\" y=\"307\" width=\"400\" height=\"43\">\n",
       "    <animate\n",
       "      attributeName=\"width\"\n",
       "      values=\"0;400;0\"\n",
       "      dur=\"4s\"\n",
       "      repeatCount=\"indefinite\" />\n",
       "      <animate\n",
       "      attributeName=\"x\"\n",
       "      values=\"100;100;500\"\n",
       "      dur=\"4s\"\n",
       "      repeatCount=\"indefinite\" />\n",
       "  </rect>\n",
       "        <g style=\"fill:transparent;stroke-width:8; stroke-linejoin:round\" rx=\"5\">\n",
       "            <g transform=\"translate(45 50) rotate(-45)\">\n",
       "                <circle r=\"33\" cx=\"0\" cy=\"0\" />\n",
       "                <rect x=\"-8\" y=\"32\" width=\"16\" height=\"30\" />\n",
       "            </g>\n",
       "\n",
       "            <g transform=\"translate(450 152)\">\n",
       "                <polyline points=\"-15,-20 -35,-20 -35,40 25,40 25,20\" />\n",
       "                <rect x=\"-15\" y=\"-40\" width=\"60\" height=\"60\" />\n",
       "            </g>\n",
       "\n",
       "            <g transform=\"translate(50 352)\">\n",
       "                <polygon points=\"-35,-5 0,-40 35,-5\" />\n",
       "                <polygon points=\"-35,10 0,45 35,10\" />\n",
       "            </g>\n",
       "\n",
       "            <g transform=\"translate(75 250)\">\n",
       "                <polyline points=\"-30,30 -60,0 -30,-30\" />\n",
       "                <polyline points=\"0,30 -30,0 0,-30\" />\n",
       "            </g>\n",
       "\n",
       "            <g transform=\"translate(425 250) rotate(180)\">\n",
       "                <polyline points=\"-30,30 -60,0 -30,-30\" />\n",
       "                <polyline points=\"0,30 -30,0 0,-30\" />\n",
       "            </g>\n",
       "        </g>\n",
       "    </g>\n",
       "</svg>\n",
       "</a>\n",
       "Loading ITables v2.2.5 from the internet...\n",
       "(need <a href=https://mwouts.github.io/itables/troubleshooting.html>help</a>?)</td>\n",
       "</tr></tbody>\n",
       "</table>\n",
       "<link href=\"https://www.unpkg.com/dt_for_itables@2.0.13/dt_bundle.css\" rel=\"stylesheet\">\n",
       "<script type=\"module\">\n",
       "    import {DataTable, jQuery as $} from 'https://www.unpkg.com/dt_for_itables@2.0.13/dt_bundle.js';\n",
       "\n",
       "    document.querySelectorAll(\"#itables_acfa1313_8999_4bd9_919b_714f1c8fa221:not(.dataTable)\").forEach(table => {\n",
       "        if (!(table instanceof HTMLTableElement))\n",
       "            return;\n",
       "\n",
       "        // Define the table data\n",
       "        const data = [[\"Input:\", \"[[tensor(1.), tensor(2.), tensor(3.)]]\"], [\"Output:\", \"[[tensor(-0.6031, grad_fn=<UnbindBackward0>), tensor(0.5964, grad_fn=<UnbindBackward0>)]]\"], [\"Access learned weights (B):\", \"tensor([[-0.4519,  0.1769, -0.2242],\\\\n        [-0.3039,  0.2561,  0.2913]])\"], [\"Access learned bias:\", \"tensor([ 0.1675, -0.4859])\"], [\"Manual calculation:\", \"tensor([[-0.6031,  0.5964]])\"]];\n",
       "\n",
       "        // Define the dt_args\n",
       "        let dt_args = {\"layout\": {\"topStart\": null, \"topEnd\": null, \"bottomStart\": null, \"bottomEnd\": null}, \"order\": [], \"warn_on_selected_rows_not_rendered\": true};\n",
       "        dt_args[\"data\"] = data;\n",
       "\n",
       "        \n",
       "        new DataTable(table, dt_args);\n",
       "    });\n",
       "</script>\n"
      ],
      "text/plain": [
       "<IPython.core.display.HTML object>"
      ]
     },
     "metadata": {},
     "output_type": "display_data"
    }
   ],
   "source": [
    "# Neural Network Computation\n",
    "import torch \n",
    "from torch import nn\n",
    "import ace_tools_open as tools\n",
    "\n",
    "# Simple Neural Network class\n",
    "class SimpleNeuralNetwork(nn.Module):\n",
    "    def __init__(self, input_size, output_size):\n",
    "        super(SimpleNeuralNetwork, self).__init__()\n",
    "        self.linear = nn.Linear(input_size, output_size)\n",
    "\n",
    "    def forward(self, x):\n",
    "        # Matrix Multiplication\n",
    "        out = self.linear(x)\n",
    "        return out\n",
    "    \n",
    "# Example data\n",
    "input_size = 3\n",
    "output_size = 2\n",
    "input_data = torch.tensor\n",
    "\n",
    "input_data = torch.tensor([[1.0, 2.0, 3.0]])  # Input Matrix (A)\n",
    "\n",
    "model = SimpleNeuralNetwork(input_size, output_size)\n",
    "\n",
    "# Perform forward propagation\n",
    "output = model.forward(input_data)\n",
    "\n",
    "# print(\"Input:\", input_data)\n",
    "# print(\"Output:\", output)\n",
    "\n",
    "# # Access learned weights (B)\n",
    "# weights = model.linear.weight.data\n",
    "# print(\"\\nAccess learned weights (B):\")\n",
    "# print(weights)\n",
    "\n",
    "# # Access learned bias\n",
    "# bias = model.linear.bias.data\n",
    "# print(\"\\nAccess learned bias:\")\n",
    "# print(bias)\n",
    "\n",
    "# # Manual calculation of matrix multiplication\n",
    "# manual_output = torch.mm(input_data, weights.T) + bias\n",
    "# print(\"\\nManual calculation:\")\n",
    "# print(manual_output)\n",
    "\n",
    "\n",
    "\n",
    "# Formatting results for display\n",
    "formatted_results = {\n",
    "    \"Input:\": input_data,\n",
    "    \"Output:\": output,\n",
    "    \"Access learned weights (B):\": str(model.linear.weight.data),\n",
    "    \"Access learned bias:\": str(model.linear.bias.data),\n",
    "    \"Manual calculation:\": str(torch.mm(input_data, model.linear.weight.data.T) + model.linear.bias.data),\n",
    "}\n",
    "\n",
    "# Convert results into a structured DataFrame with strings for display compatibility\n",
    "df_results = pd.DataFrame(list(formatted_results.items()), columns=['Operation', 'Result'])\n",
    "\n",
    "# Display the results\n",
    "tools.display_dataframe_to_user(name=\"Matrix and Vector Operations Results\", dataframe=df_results)"
   ]
  },
  {
   "cell_type": "code",
   "execution_count": 21,
   "metadata": {},
   "outputs": [],
   "source": [
    "# Exercise Imagine you have a simple dataset with two inputs (x1, x2) and one output (y). We want to build a linear neural network to predict y data x1 and x2.\n",
    "\n",
    "# Step 1: Data Generation\n",
    "# Let's create a synthetic dataset with linear dependence between input and output.\n",
    "# Linear dependence and span affect the stability and learning ability of models.\n",
    "import numpy as np\n",
    "\n",
    "X = np.array([[1, 2], [2, 3], [3, 4], [4, 5]]) # Input: 4 Samples 2 Features\n",
    "y = np.array([3, 5, 7, 9]) # Output: 4 Samples "
   ]
  },
  {
   "cell_type": "code",
   "execution_count": 26,
   "metadata": {},
   "outputs": [
    {
     "name": "stdout",
     "output_type": "stream",
     "text": [
      "Initial predictions: [15 25 35 45]\n"
     ]
    }
   ],
   "source": [
    "# Step 2: Building the Linear Neural Network\n",
    "\n",
    "# We use NumPy to build a \"manual\" linear neural network.\n",
    "\n",
    "# Initialize the weights\n",
    "weights = np.array([5, 5]) # Initial weights\n",
    "\n",
    "# Prediction function\n",
    "def predict(X, weights):\n",
    "    return np.dot(X, weights) # Matrix multiplication (input * weights)\n",
    "\n",
    "# Perform prediction\n",
    "predictions = predict(X, weights)\n",
    "print(\"Initial predictions:\", predictions)"
   ]
  },
  {
   "cell_type": "code",
   "execution_count": 27,
   "metadata": {},
   "outputs": [
    {
     "name": "stdout",
     "output_type": "stream",
     "text": [
      "Initial error: 656.0\n",
      "New predictions: [ 9.84 16.56 23.28 30.  ]\n",
      "New error: 221.6144\n"
     ]
    }
   ],
   "source": [
    "# Step 3: Calculate Error and Update Weights\n",
    "\n",
    "# We calculate the error and update the weights using the gradient.\n",
    "\n",
    "# Cost function (Mean Squared Error)\n",
    "def mse(y_true, y_pred):\n",
    "    return np.mean((y_true - y_pred) ** 2)\n",
    "\n",
    "# Calculate the initial error\n",
    "error = mse(y, predictions)\n",
    "print(\"Initial error:\", error)\n",
    "\n",
    "# Calculate the gradient (derivative of the error with respect to the weights)\n",
    "gradient = 2 * np.dot(X.T, (predictions - y)) / len(y)\n",
    "\n",
    "# Update the weights (gradient descent)\n",
    "learning_rate = 0.01\n",
    "weights = weights - learning_rate * gradient\n",
    "\n",
    "# Make a new prediction and calculate the error\n",
    "new_predictions = predict(X, weights)\n",
    "new_error = mse(y, new_predictions)\n",
    "print(\"New predictions:\", new_predictions)\n",
    "print(\"New error:\", new_error)"
   ]
  },
  {
   "cell_type": "code",
   "execution_count": null,
   "metadata": {},
   "outputs": [
    {
     "name": "stdout",
     "output_type": "stream",
     "text": [
      "Rank of input matrix: 2\n",
      "Linear dependence: False\n"
     ]
    }
   ],
   "source": [
    "# Step 4: Linear Dependence and Rank Analysis\n",
    "\n",
    "# Let's analyze the linear dependence of the input data.\n",
    "\n",
    "# Calculate the rank of the input matrix\n",
    "rank_X = np.linalg.matrix_rank(X)\n",
    "print(\"Rank of input matrix:\", rank_X)\n",
    "\n",
    "# Check for linear dependence\n",
    "is_linearly_dependent = rank_X < X.shape[1]\n",
    "# If rank < number of columns, the matrix is linearly dependent\n",
    "print(\"Linear dependence:\", is_linearly_dependent)"
   ]
  },
  {
   "cell_type": "code",
   "execution_count": 29,
   "metadata": {},
   "outputs": [
    {
     "name": "stdout",
     "output_type": "stream",
     "text": [
      "The input matrix is ​​not invertible.\n",
      "Solution with pseudo-inverse: [1. 1.]\n"
     ]
    }
   ],
   "source": [
    "# Step 5: Inverse and Pseudo-Inverse (Optional)\n",
    "\n",
    "# Let's try to solve the system Ax = y using the inverse and pseudo-inverse.\n",
    "\n",
    "try: # Try to compute the inverse (may not exist)\n",
    "    X_inv = np.linalg.inv(X)\n",
    "    x_solution = np.dot(X_inv, y)\n",
    "    print(\"Solution with inverse:\", x_solution)\n",
    "except np.linalg.LinAlgError:\n",
    "    print(\"The input matrix is ​​not invertible.\")\n",
    "\n",
    "# Compute the pseudo-inverse\n",
    "X_pinv = np.linalg.pinv(X)\n",
    "x_pseudo_solution = np.dot(X_pinv, y)\n",
    "print(\"Solution with pseudo-inverse:\", x_pseudo_solution)"
   ]
  },
  {
   "cell_type": "code",
   "execution_count": null,
   "metadata": {},
   "outputs": [],
   "source": [
    "# Exercise\n",
    "\n",
    "# Imagine you have a dataset with data representing product features (e.g. reviews, ratings, etc.) and you want to predict an overall rating. \n",
    "# Due to the nature of the data, the input matrix may not be square or invertible. \n",
    "# We will use Keras to build a neural network and the pseudo-inverse to handle this situation."
   ]
  },
  {
   "cell_type": "code",
   "execution_count": 39,
   "metadata": {},
   "outputs": [],
   "source": [
    "# Step 1: Data Generation\n",
    "\n",
    "# We generate a non-square synthetic dataset.\n",
    "import numpy as np\n",
    "import tensorflow as tf\n",
    "from tensorflow import keras\n",
    "from tensorflow.keras.models import Sequential, Model\n",
    "from tensorflow.keras.layers import Dense, Input"
   ]
  },
  {
   "cell_type": "code",
   "execution_count": 40,
   "metadata": {},
   "outputs": [],
   "source": [
    "X = np.random.rand(100, 5) # 100 samples 5 features\n",
    "y = np.random.rand(100, 1) # 100 samples 1 features"
   ]
  },
  {
   "cell_type": "code",
   "execution_count": null,
   "metadata": {},
   "outputs": [
    {
     "data": {
      "text/html": [
       "<pre style=\"white-space:pre;overflow-x:auto;line-height:normal;font-family:Menlo,'DejaVu Sans Mono',consolas,'Courier New',monospace\"><span style=\"font-weight: bold\">Model: \"sequential_3\"</span>\n",
       "</pre>\n"
      ],
      "text/plain": [
       "\u001b[1mModel: \"sequential_3\"\u001b[0m\n"
      ]
     },
     "metadata": {},
     "output_type": "display_data"
    },
    {
     "data": {
      "text/html": [
       "<pre style=\"white-space:pre;overflow-x:auto;line-height:normal;font-family:Menlo,'DejaVu Sans Mono',consolas,'Courier New',monospace\">┏━━━━━━━━━━━━━━━━━━━━━━━━━━━━━━━━━┳━━━━━━━━━━━━━━━━━━━━━━━━┳━━━━━━━━━━━━━━━┓\n",
       "┃<span style=\"font-weight: bold\"> Layer (type)                    </span>┃<span style=\"font-weight: bold\"> Output Shape           </span>┃<span style=\"font-weight: bold\">       Param # </span>┃\n",
       "┡━━━━━━━━━━━━━━━━━━━━━━━━━━━━━━━━━╇━━━━━━━━━━━━━━━━━━━━━━━━╇━━━━━━━━━━━━━━━┩\n",
       "│ dense_8 (<span style=\"color: #0087ff; text-decoration-color: #0087ff\">Dense</span>)                 │ (<span style=\"color: #00d7ff; text-decoration-color: #00d7ff\">None</span>, <span style=\"color: #00af00; text-decoration-color: #00af00\">64</span>)             │           <span style=\"color: #00af00; text-decoration-color: #00af00\">384</span> │\n",
       "├─────────────────────────────────┼────────────────────────┼───────────────┤\n",
       "│ dense_9 (<span style=\"color: #0087ff; text-decoration-color: #0087ff\">Dense</span>)                 │ (<span style=\"color: #00d7ff; text-decoration-color: #00d7ff\">None</span>, <span style=\"color: #00af00; text-decoration-color: #00af00\">32</span>)             │         <span style=\"color: #00af00; text-decoration-color: #00af00\">2,080</span> │\n",
       "├─────────────────────────────────┼────────────────────────┼───────────────┤\n",
       "│ dense_10 (<span style=\"color: #0087ff; text-decoration-color: #0087ff\">Dense</span>)                │ (<span style=\"color: #00d7ff; text-decoration-color: #00d7ff\">None</span>, <span style=\"color: #00af00; text-decoration-color: #00af00\">1</span>)              │            <span style=\"color: #00af00; text-decoration-color: #00af00\">33</span> │\n",
       "└─────────────────────────────────┴────────────────────────┴───────────────┘\n",
       "</pre>\n"
      ],
      "text/plain": [
       "┏━━━━━━━━━━━━━━━━━━━━━━━━━━━━━━━━━┳━━━━━━━━━━━━━━━━━━━━━━━━┳━━━━━━━━━━━━━━━┓\n",
       "┃\u001b[1m \u001b[0m\u001b[1mLayer (type)                   \u001b[0m\u001b[1m \u001b[0m┃\u001b[1m \u001b[0m\u001b[1mOutput Shape          \u001b[0m\u001b[1m \u001b[0m┃\u001b[1m \u001b[0m\u001b[1m      Param #\u001b[0m\u001b[1m \u001b[0m┃\n",
       "┡━━━━━━━━━━━━━━━━━━━━━━━━━━━━━━━━━╇━━━━━━━━━━━━━━━━━━━━━━━━╇━━━━━━━━━━━━━━━┩\n",
       "│ dense_8 (\u001b[38;5;33mDense\u001b[0m)                 │ (\u001b[38;5;45mNone\u001b[0m, \u001b[38;5;34m64\u001b[0m)             │           \u001b[38;5;34m384\u001b[0m │\n",
       "├─────────────────────────────────┼────────────────────────┼───────────────┤\n",
       "│ dense_9 (\u001b[38;5;33mDense\u001b[0m)                 │ (\u001b[38;5;45mNone\u001b[0m, \u001b[38;5;34m32\u001b[0m)             │         \u001b[38;5;34m2,080\u001b[0m │\n",
       "├─────────────────────────────────┼────────────────────────┼───────────────┤\n",
       "│ dense_10 (\u001b[38;5;33mDense\u001b[0m)                │ (\u001b[38;5;45mNone\u001b[0m, \u001b[38;5;34m1\u001b[0m)              │            \u001b[38;5;34m33\u001b[0m │\n",
       "└─────────────────────────────────┴────────────────────────┴───────────────┘\n"
      ]
     },
     "metadata": {},
     "output_type": "display_data"
    },
    {
     "data": {
      "text/html": [
       "<pre style=\"white-space:pre;overflow-x:auto;line-height:normal;font-family:Menlo,'DejaVu Sans Mono',consolas,'Courier New',monospace\"><span style=\"font-weight: bold\"> Total params: </span><span style=\"color: #00af00; text-decoration-color: #00af00\">2,497</span> (9.75 KB)\n",
       "</pre>\n"
      ],
      "text/plain": [
       "\u001b[1m Total params: \u001b[0m\u001b[38;5;34m2,497\u001b[0m (9.75 KB)\n"
      ]
     },
     "metadata": {},
     "output_type": "display_data"
    },
    {
     "data": {
      "text/html": [
       "<pre style=\"white-space:pre;overflow-x:auto;line-height:normal;font-family:Menlo,'DejaVu Sans Mono',consolas,'Courier New',monospace\"><span style=\"font-weight: bold\"> Trainable params: </span><span style=\"color: #00af00; text-decoration-color: #00af00\">2,497</span> (9.75 KB)\n",
       "</pre>\n"
      ],
      "text/plain": [
       "\u001b[1m Trainable params: \u001b[0m\u001b[38;5;34m2,497\u001b[0m (9.75 KB)\n"
      ]
     },
     "metadata": {},
     "output_type": "display_data"
    },
    {
     "data": {
      "text/html": [
       "<pre style=\"white-space:pre;overflow-x:auto;line-height:normal;font-family:Menlo,'DejaVu Sans Mono',consolas,'Courier New',monospace\"><span style=\"font-weight: bold\"> Non-trainable params: </span><span style=\"color: #00af00; text-decoration-color: #00af00\">0</span> (0.00 B)\n",
       "</pre>\n"
      ],
      "text/plain": [
       "\u001b[1m Non-trainable params: \u001b[0m\u001b[38;5;34m0\u001b[0m (0.00 B)\n"
      ]
     },
     "metadata": {},
     "output_type": "display_data"
    }
   ],
   "source": [
    "# Step 2: Building the Neural Network with Keras\n",
    "\n",
    "# Let's build a simple neural network with a linear layer\n",
    "\n",
    "model = Sequential()\n",
    "model.add(Input(shape=(5,)))\n",
    "model.add(Dense(64, activation=\"relu\"))\n",
    "model.add(Dense(32, activation=\"relu\"))\n",
    "model.add(Dense(1, activation=\"sigmoid\"))\n",
    "\n",
    "# Compile the model\n",
    "model.compile(optimizer=\"adam\", loss=\"binary_crossentropy\", metrics=[\"accuracy\"])\n",
    "model.summary()\n",
    "\n",
    "# - **Building the model:** We use a sequential model (`Sequential`) to build a neural network with three dense layers.\n",
    "# - **Input Layer:** Accepts data with 5 features.\n",
    "# - **First Dense Layer:** 64 neurons with ReLU activation.\n",
    "# - **Second Dense Layer:** 32 neurons with ReLU activation.SVD\n",
    "# - **Output Layer:** 1 neuron with sigmoid activation for binary classification.\n",
    "# - **Building the model:** We use the Adam optimizer and the `binary_crossentropy` loss function, monitoring the accuracy during training."
   ]
  },
  {
   "cell_type": "code",
   "execution_count": 43,
   "metadata": {},
   "outputs": [
    {
     "data": {
      "text/plain": [
       "<keras.src.callbacks.history.History at 0x1c2bd178a40>"
      ]
     },
     "execution_count": 43,
     "metadata": {},
     "output_type": "execute_result"
    }
   ],
   "source": [
    "# Train the model \n",
    "model.fit(X, y, epochs=50, verbose=0)"
   ]
  },
  {
   "cell_type": "code",
   "execution_count": 44,
   "metadata": {},
   "outputs": [
    {
     "name": "stdout",
     "output_type": "stream",
     "text": [
      "Dimensions of weights: (5, 64)\n",
      "Dimensions of pseudo-inverse of weights: (64, 5)\n"
     ]
    }
   ],
   "source": [
    "# Extract linear layer weights\n",
    "weights = model.layers[0].get_weights()[0] # Weights\n",
    "bias = model.layers[0].get_weights()[1] # Bias\n",
    "\n",
    "# Compute pseudo-inverse of weights\n",
    "weights_pinv = np.linalg.pinv(weights)\n",
    "\n",
    "# Check dimensions\n",
    "print(\"Dimensions of weights:\", weights.shape)\n",
    "print(\"Dimensions of pseudo-inverse of weights:\", weights_pinv.shape)\n",
    "\n",
    "# Example of using pseudo-inverse (optional)"
   ]
  },
  {
   "cell_type": "code",
   "execution_count": 45,
   "metadata": {},
   "outputs": [
    {
     "name": "stdout",
     "output_type": "stream",
     "text": [
      "Singular values: [1.5693597 1.4813324 1.3776999 1.3325217 1.2056307]\n"
     ]
    }
   ],
   "source": [
    "# Step 4: SVD Analysis (Optional)\n",
    "\n",
    "# We perform SVD on the weight matrix to analyze singular values.\n",
    "\n",
    "# Run SVD\n",
    "U, D, Vt = np.linalg.svd(weights)\n",
    "\n",
    "# Print singular values\n",
    "print(\"Singular values:\", D)\n",
    "\n",
    "# Analyze singular values ​​to understand feature importance"
   ]
  }
 ],
 "metadata": {
  "kernelspec": {
   "display_name": "my_env",
   "language": "python",
   "name": "python3"
  },
  "language_info": {
   "codemirror_mode": {
    "name": "ipython",
    "version": 3
   },
   "file_extension": ".py",
   "mimetype": "text/x-python",
   "name": "python",
   "nbconvert_exporter": "python",
   "pygments_lexer": "ipython3",
   "version": "3.12.8"
  }
 },
 "nbformat": 4,
 "nbformat_minor": 2
}
