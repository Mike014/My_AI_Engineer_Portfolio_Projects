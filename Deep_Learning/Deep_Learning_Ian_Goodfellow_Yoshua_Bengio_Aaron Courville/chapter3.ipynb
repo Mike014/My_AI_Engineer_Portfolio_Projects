{
 "cells": [
  {
   "cell_type": "markdown",
   "metadata": {},
   "source": [
    "# **Probability and Information Theory in AI**\n",
    "\n",
    "**Probability theory** is a fundamental mathematical language for representing and managing uncertainty. In AI, it has two crucial roles:\n",
    "\n",
    "1. **Algorithm design**: The **laws of probability guide how AI systems should reason**. Algorithms are therefore built to compute (or approximate) probabilistic expressions.\n",
    "2. **Theoretical analysis**: We use **probability and statistics to study the expected behavior** of models and evaluate their performance.\n",
    "\n",
    "**Why is it important?**\n",
    "If you come from a software engineering background, this theory allows you to formally deal with uncertainty and develop robust models.\n",
    "\n",
    "**Information theory**, on the other hand, is used to **quantify uncertainty** within a probability distribution. It measures concepts such as:\n",
    "- Entropy\n",
    "- Mutual information\n",
    "- Efficient coding (e.g. compression)\n",
    "\n",
    "These two theories are closely related and fundamental in many modern machine learning and deep learning techniques (e.g. generative models, Bayesian learning, probabilistic loss metrics).\n",
    "\n",
    "> **Note**: if you already know these basics, you may want to skip this chapter except for section 3.14, which introduces **structured probabilistic graphs**, key tools for visually representing complex models (e.g. Bayesian networks, Markov models)."
   ]
  },
  {
   "cell_type": "markdown",
   "metadata": {},
   "source": [
    "## **Why Probability is Essential in Artificial Intelligence**\n",
    "\n",
    "While many branches of computer science rely on deterministic systems (e.g. a CPU instruction that executes correctly), **artificial intelligence and machine learning constantly face uncertainty**.\n",
    "\n",
    "#### **Sources of Uncertainty in AI Systems**\n",
    "1. **Intrinsic Stochasticity**: such as in quantum mechanics or randomly shuffled card games.\n",
    "2. **Incomplete [Observability](https://www.ibm.com/think/topics/observability)**: even deterministic systems can appear random if we do not observe all the variables (e.g. Monty Hall problem).\n",
    "3. **Incomplete Modeling**: simplifications or discretizations (such as a robot that divides space into cells) introduce uncertainty, even if the observation is accurate.\n",
    "\n",
    "> **Note for your practical case**: audio or NLP models also simplify reality, so they use probabilities to handle what is not represented exactly.\n",
    "\n",
    "#### **Why not just use deterministic rules?**\n",
    "Because **simple but probabilistic rules are often more effective**, understandable and versatile than complex and rigid rules. Example:\n",
    "- “Most birds fly” is more useful in practice than an exhaustive and fragile enumeration of all exceptions.\n",
    "\n",
    "#### **Frequentist vs Bayesian**\n",
    "- **Frequentist**: probability represents the **frequency of an event** in repeated trials (e.g. a hand of poker).\n",
    "- **Bayesian**: probability represents the **degree of subjective belief** in a hypothesis given the evidence (e.g. probability that a patient has the flu).\n",
    "\n",
    "Despite philosophical differences, **the two theories use the same mathematical rules**. In AI, the Bayesian point of view is often adopted to represent subjective uncertainty, but the formulas shared with the frequentist approach are used.\n",
    "\n",
    "#### **Probability as an extension of logic**\n",
    "- **Logic** manages certainties: from true premises, certain consequences are deduced.\n",
    "- **Probability** generalizes this mechanism: from degrees of certainty on some propositions, it deduces degrees of certainty on others."
   ]
  },
  {
   "cell_type": "markdown",
   "metadata": {},
   "source": [
    "### **Random Variables**\n",
    "\n",
    "A **random variable** is a variable that can take on values ​​**randomly**.\n",
    "\n",
    "#### Key concept:\n",
    "> It is not just a value, but **a description of all the possible states** that a phenomenon can take, **along with** a probability distribution that says how likely each is.\n",
    "\n",
    "#### Notation:\n",
    "- The variable itself is indicated in *normal lowercase* → `x`\n",
    "- The values ​​it can take are indicated in *italics* → `𝑥₁`, `𝑥₂`\n",
    "- For **vector variables**:\n",
    "- The variable is `𝒙`, the value is `𝒙` (often the same symbol, context changes)"
   ]
  },
  {
   "cell_type": "markdown",
   "metadata": {},
   "source": [
    "3.3.2 Continuous Variables and Probability Density Functions"
   ]
  }
 ],
 "metadata": {
  "kernelspec": {
   "display_name": "ai_env",
   "language": "python",
   "name": "python3"
  },
  "language_info": {
   "name": "python",
   "version": "3.10.16"
  }
 },
 "nbformat": 4,
 "nbformat_minor": 2
}
