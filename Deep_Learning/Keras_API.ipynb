{
 "cells": [
  {
   "cell_type": "markdown",
   "metadata": {},
   "source": [
    "# **Deep Learning with Keras and TensorFlow – Advanced Keras**\n",
    "\n",
    "This module introduces **Advanced Keras** and its use in **Deep Learning**, highlighting the role of the **Keras Functional API** in building complex models.\n",
    "\n",
    "#### **Key Points of the Module**\n",
    "1. **Introduction to Advanced Keras**\n",
    "   - Keras is widely used in **industry and academia** for applications like **image recognition, natural language processing, and recommendation systems**.\n",
    "   - Companies like **Google, Netflix, and Uber** leverage Keras for developing **advanced AI solutions**.\n",
    "\n",
    "2. **Differences Between Sequential API and Functional API**\n",
    "   - **Sequential API**: Suitable for **linear models** (stacked structure).\n",
    "   - **Functional API**: Allows the creation of more **flexible and complex** models with:\n",
    "     - **Multiple inputs and outputs**\n",
    "     - **Shared layers**\n",
    "     - **Non-linear architectures** (multi-branch models, residual connections, etc.)\n",
    "\n",
    "3. **Advantages of the Keras Functional API**\n",
    "   - **Greater clarity** in model structure.\n",
    "   - **Easier debugging** due to an explicit representation of the data flow.\n",
    "   - **Reusability** of layers and models across different parts of the architecture.\n",
    "\n",
    "4. **Practical Applications**\n",
    "   - **Multi-input model example**: Two inputs (A and B) processed separately and then combined into a single output.\n",
    "   - **Real-world use cases**:\n",
    "     - **Healthcare**: Diagnosing diseases through **medical image analysis**.\n",
    "     - **Finance**: Predicting **market trends**.\n",
    "     - **Autonomous driving**: **Object detection and lane detection** for self-driving vehicles.\n",
    "\n",
    "5. **Conclusion**\n",
    "   - The **Keras Functional API** is a powerful tool for building advanced models.\n",
    "   - It overcomes the limitations of the Sequential API by enabling the construction of sophisticated neural networks.\n",
    "   - Understanding and using this API enhances model capabilities and helps tackle complex problems across multiple domains.\n",
    "\n",
    "Let me know if you need any refinements!"
   ]
  },
  {
   "cell_type": "code",
   "execution_count": 4,
   "metadata": {},
   "outputs": [],
   "source": [
    "from tensorflow.keras.models import Sequential, Model\n",
    "from tensorflow.keras.layers import Dense, Input"
   ]
  },
  {
   "cell_type": "code",
   "execution_count": null,
   "metadata": {},
   "outputs": [
    {
     "name": "stderr",
     "output_type": "stream",
     "text": [
      "c:\\Users\\DELL\\anaconda3\\envs\\my_env\\Lib\\site-packages\\keras\\src\\layers\\core\\dense.py:87: UserWarning: Do not pass an `input_shape`/`input_dim` argument to a layer. When using Sequential models, prefer using an `Input(shape)` object as the first layer in the model instead.\n",
      "  super().__init__(activity_regularizer=activity_regularizer, **kwargs)\n"
     ]
    }
   ],
   "source": [
    "# Create a Sequential model API\n",
    "model = Sequential(\n",
    "    [\n",
    "        Dense(64, activation=\"relu\", input_shape=(784,)),\n",
    "        Dense(10, activation=\"softmax\")\n",
    "    ]\n",
    ")\n",
    "\n",
    "# Compile the model\n",
    "model.compile(optimizer=\"adam\", loss=\"sparse_categorical_crossentropy\", metrics=[\"accuracy\"])"
   ]
  },
  {
   "cell_type": "code",
   "execution_count": 5,
   "metadata": {},
   "outputs": [],
   "source": [
    "# Create a Functional API\n",
    "# Define the input\n",
    "inputs = Input(shape=(784, ))\n",
    "\n",
    "# Define the layers\n",
    "x = Dense(64, activation=\"relu\")(inputs)\n",
    "outputs = Dense(10, activation=\"softmax\")(x)\n",
    "\n",
    "# Create the Model\n",
    "model = Model(inputs=inputs, outputs=outputs)\n",
    "\n",
    "# Compile the model\n",
    "model.compile(optimizer=\"adam\", loss=\"sparse_categorical_crossentropy\", metrics=[\"accuracy\"])"
   ]
  },
  {
   "cell_type": "markdown",
   "metadata": {},
   "source": [
    "**Differences between Sequential API and Functional API**\n",
    "\n",
    "- **Sequential API**:  \n",
    "  Allows you to build models with a linear structure (one layer after the other).\n",
    "\n",
    "- **Functional API**:  \n",
    "  Offers more flexibility by enabling the creation of models with multiple inputs and outputs, shared layers, and non-linear architectures."
   ]
  }
 ],
 "metadata": {
  "kernelspec": {
   "display_name": "my_env",
   "language": "python",
   "name": "python3"
  },
  "language_info": {
   "codemirror_mode": {
    "name": "ipython",
    "version": 3
   },
   "file_extension": ".py",
   "mimetype": "text/x-python",
   "name": "python",
   "nbconvert_exporter": "python",
   "pygments_lexer": "ipython3",
   "version": "3.12.8"
  }
 },
 "nbformat": 4,
 "nbformat_minor": 2
}
