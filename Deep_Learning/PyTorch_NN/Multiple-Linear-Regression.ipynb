{
 "cells": [
  {
   "cell_type": "markdown",
   "id": "71ffe6f6",
   "metadata": {},
   "source": [
    "### **Multiple Linear Regression**\n",
    "\n",
    "1. **What is it?**\n",
    "\n",
    "* Instead of a single predictor (X), multiple independent variables are used (*X₁, X₂, …, Xₙ*).\n",
    "* Each variable has a **weight (w)** that measures its influence on Y, plus a **bias (b)**.\n",
    "* The equation becomes:\n",
    "\n",
    "$$\n",
    "\\hat{y} = w_1X_1 + w_2X_2 + … + w_nX_n + b\n",
    "$$\n",
    "\n",
    "2. **Tensor Representation**\n",
    "\n",
    "* An input sample is a **(1×D) vector**.\n",
    "* The weights are a **(D×1) vector**.\n",
    "* The prediction is calculated as the **dot product** of X and w, plus the bias.\n",
    "* For multiple samples, use a **matrix X (N×D)** where N = number of samples and D = number of features.\n",
    "\n",
    "3. **Visualization**\n",
    "\n",
    "* Each sample can be colored to show how it is transformed.\n",
    "* Directed graphs (nodes = features, edges = weights) help understand the mechanism, also useful for neural networks.\n",
    "\n",
    "4. **Using PyTorch**\n",
    "\n",
    "* Use `nn.Linear(in_features, out_features)`, which directly implements the linear function.\n",
    "* The parameters (weights and biases) are initialized randomly.\n",
    "* We can inspect them with `parameters()` or `state_dict()`.\n",
    "* Input → tensor (samples as rows). Output → tensor with predictions.\n",
    "\n",
    "5. **Custom Module**\n",
    "\n",
    "* In PyTorch, you can create custom modules by inheriting from `nn.Module`.\n",
    "* It implements a constructor (`__init__`) and the `forward` method.\n",
    "* Although similar to `nn.Linear`, it serves as a foundation for building more complex models (e.g., neural networks).\n",
    "\n",
    "---\n",
    "\n",
    "### In Summary\n",
    "\n",
    "* Multiple linear regression is a linear transformation that combines independent variables to predict an output.\n",
    "* In PyTorch, it's easily managed with `nn.Linear`, which automates weights and biases.\n",
    "* Creating a custom module is a crucial intermediate step in understanding how neural network building blocks work.§"
   ]
  },
  {
   "cell_type": "code",
   "execution_count": null,
   "id": "86be0ce9",
   "metadata": {},
   "outputs": [
    {
     "data": {
      "text/plain": [
       "<torch._C.Generator at 0x2631642acf0>"
      ]
     },
     "execution_count": 3,
     "metadata": {},
     "output_type": "execute_result"
    }
   ],
   "source": [
    "# Import the libraries and set the random seed\n",
    "from torch import nn\n",
    "import torch\n",
    "torch.manual_seed(1)\n",
    "\n",
    "# In PyTorch, weights and biases for models (nn.Linear, neural networks, etc.) are initialized randomly.\n",
    "# If you don't specify a seed, the values ​​change every time you run the program → different results.\n",
    "# If you specify torch.manual_seed(1), you always get the same sequence of random numbers, and therefore the same initial weights."
   ]
  },
  {
   "cell_type": "markdown",
   "id": "b1d097dd",
   "metadata": {},
   "source": [
    "### **Prediction**\n",
    "\n",
    "Set weight and bias."
   ]
  },
  {
   "cell_type": "code",
   "execution_count": null,
   "id": "03993385",
   "metadata": {},
   "outputs": [],
   "source": [
    "w = torch.tensor([[2.0], [3.0]], requires_grad=True) # weights\n",
    "b = torch.tensor([[1.]], requires_grad=True) # bias"
   ]
  },
  {
   "cell_type": "markdown",
   "id": "23237e60",
   "metadata": {},
   "source": [
    "Define the parameters. torch.mm uses matrix multiplication instead of scaler multiplication."
   ]
  },
  {
   "cell_type": "code",
   "execution_count": null,
   "id": "e699f70e",
   "metadata": {},
   "outputs": [],
   "source": [
    "# Define the model\n",
    "def forward(x):\n",
    "    yhat = torch.mm(x, w) + b\n",
    "    return yhat"
   ]
  },
  {
   "cell_type": "markdown",
   "id": "717c0b50",
   "metadata": {},
   "source": [
    "$$ y = xw + b $$\n",
    "\n",
    "<img src=\"https://s3-api.us-geo.objectstorage.softlayer.net/cf-courses-data/CognitiveClass/DL0110EN/notebook_images%20/chapter2/2.6.1_matrix_eq.png\" width=\"600\" alt=\"Matrix Linear Regression\">\n",
    "\n",
    "\n",
    "1. **x** → the input data (features).\n",
    "\n",
    "* It can be a single sample (vector) or multiple samples (matrix).\n",
    "* Ex: in the case of multiple linear regression, each column is an independent variable $X_1, X_2, ... X_D$.\n",
    "\n",
    "2. **w (weights)** → the model weights.\n",
    "\n",
    "* These are **trainable parameters** that change during training.\n",
    "* They indicate the importance of each variable in influencing the output.\n",
    "\n",
    "3. **b (bias)** → offset term.\n",
    "\n",
    "* This is not an \"error\", but a constant that **translates** the line (or hyperplane) with respect to the origin.\n",
    "* It is used to allow the model to better fit the data even when the inputs are zero.\n",
    "\n",
    "4. **yhat** → the predicted output.\n",
    "\n",
    "* This is the linear combination of the inputs with the weights plus the bias."
   ]
  },
  {
   "cell_type": "code",
   "execution_count": 15,
   "id": "391c0a2a",
   "metadata": {},
   "outputs": [
    {
     "name": "stdout",
     "output_type": "stream",
     "text": [
      "The result:  tensor([[9.]], grad_fn=<AddBackward0>)\n"
     ]
    }
   ],
   "source": [
    "# Calculate yhat\n",
    "x = torch.tensor([[1.0, 2.0]])\n",
    "yhat = forward(x)\n",
    "print(\"The result: \", yhat)"
   ]
  },
  {
   "cell_type": "markdown",
   "id": "3aabc038",
   "metadata": {},
   "source": [
    "<img src=\"https://cf-courses-data.s3.us.cloud-object-storage.appdomain.cloud/JBkvPoMCCa-PDXCF_4aQfQ/image%20-1-.png\" width=\"300\" alt=\"Linear Regression Matrix Sample One\">\n"
   ]
  },
  {
   "cell_type": "markdown",
   "id": "1f33b9da",
   "metadata": {},
   "source": [
    "# Each row of the following tensor represents a sample:"
   ]
  },
  {
   "cell_type": "code",
   "execution_count": 16,
   "id": "ec14accc",
   "metadata": {},
   "outputs": [
    {
     "name": "stdout",
     "output_type": "stream",
     "text": [
      "The result:  tensor([[ 6.],\n",
      "        [ 9.],\n",
      "        [12.]], grad_fn=<AddBackward0>)\n"
     ]
    }
   ],
   "source": [
    "# Sample tensor X\n",
    "\n",
    "X = torch.tensor([[1.0, 1.0], [1.0, 2.0], [1.0, 3.0]])\n",
    "\n",
    "# Make the prediction of X \n",
    "\n",
    "yhat = forward(X)\n",
    "print(\"The result: \", yhat)"
   ]
  },
  {
   "cell_type": "code",
   "execution_count": null,
   "id": "9ff9fbe8",
   "metadata": {},
   "outputs": [],
   "source": [
    "# Linear Regression Class\n",
    "\n",
    "class linear_regression(nn.Module):\n",
    "    \n",
    "    # Constructor\n",
    "    def __init__(self, input_size, output_size):\n",
    "        # input size are features, the output it's just the predicted value\n",
    "        super(linear_regression, self).__init__()\n",
    "        self.linear = nn.Linear(input_size, output_size)\n",
    "        \n",
    "        \n",
    "    # Prediction Function\n",
    "    def forward(self, x):\n",
    "        yhat = self.linear(x)\n",
    "        return yhat"
   ]
  },
  {
   "cell_type": "code",
   "execution_count": 21,
   "id": "43894d9b",
   "metadata": {},
   "outputs": [],
   "source": [
    "# Practice: Build a model to predict the follow tensor.\n",
    "X = torch.tensor([[11.0, 12.0, 13, 14], # first row \n",
    "                  [11, 12, 13, 14]])  # second row\n",
    "\n",
    "# It has the form (2, 4) → 2 rows and 4 columns.\n",
    "# Each row is a sample.\n",
    "# Each column is a feature (independent variable).\n",
    "\n",
    "\n",
    "model = linear_regression(4, 1)\n"
   ]
  },
  {
   "cell_type": "code",
   "execution_count": 23,
   "id": "eb2df59a",
   "metadata": {},
   "outputs": [
    {
     "data": {
      "text/plain": [
       "tensor([[6.2828],\n",
       "        [6.2828]], grad_fn=<AddmmBackward0>)"
      ]
     },
     "execution_count": 23,
     "metadata": {},
     "output_type": "execute_result"
    }
   ],
   "source": [
    "# Prediction \n",
    "yhat = model(X)\n",
    "yhat"
   ]
  },
  {
   "cell_type": "markdown",
   "id": "caeb9f7d",
   "metadata": {},
   "source": [
    "### Cost function\n",
    "\n",
    "1. **Cost function**\n",
    "\n",
    "* It is used to measure how far the predictions $\\hat{y}$ are from the actual values ​​$y$.\n",
    "* In regression, the **MSE (Mean Squared Error)** is commonly used:\n",
    "\n",
    "$$\n",
    "\\text{MSE} = \\frac{1}{N} \\sum (y - \\hat{y})^2\n",
    "$$\n",
    "\n",
    "2. **Model parameters**\n",
    "\n",
    "* If you have $d$ inputs (features), the model has **d weights + 1 bias**.\n",
    "* Ex: 2-dimensional input → 3 parameters (w₁, w₂, b).\n",
    "* 3-dimensional input → 4 parameters (w₁, w₂, w₃, b).\n",
    "\n",
    "3. **Gradient descent**\n",
    "\n",
    "* Calculate the derivative of the loss with respect to weights and biases.\n",
    "* Update the parameters in the direction that reduces the error:\n",
    "\n",
    "$$\n",
    "w := w - \\eta \\frac{\\partial L}{\\partial w}, \\quad b := b - \\eta \\frac{\\partial L}{\\partial b}\n",
    "$$\n",
    "\n",
    "where $\\eta$ is the learning rate.\n",
    "\n",
    "---\n",
    "\n",
    "### Implementation in PyTorch\n",
    "\n",
    "1. **Dataset**\n",
    "\n",
    "* A `Data2D` class is used (two input variables, one output).\n",
    "* The data is loaded with a **DataLoader** that returns batch (here batch\\_size=2).\n",
    "\n",
    "2. **Model**\n",
    "\n",
    "* Created with `nn.Linear(2,1)` → 2 input features, 1 output.\n",
    "\n",
    "3. **Criterion (loss function)**\n",
    "\n",
    "* Use `nn.MSELoss()` to calculate the mean squared error.\n",
    "\n",
    "4. **Optimizer**\n",
    "\n",
    "* Ex: `torch.optim.SGD(model.parameters(), lr=0.1)` to update the weights.\n",
    "\n",
    "5. **Training loop**\n",
    "For each epoch:\n",
    "\n",
    "* Make the prediction (`yhat = model(x)`).\n",
    "* Calculate the loss.\n",
    "* Set the gradients to zero (`optimizer.zero_grad()`).\n",
    "* Perform backpropagation (`loss.backward()`).\n",
    "* Update the parameters (`optimizer.step()`).\n",
    "\n",
    "---\n",
    "\n",
    "### Result\n",
    "\n",
    "* Initially, the plane (the learned linear function) **does not fit the data well**.\n",
    "* After ~100 epochs, the plan adapts and follows the dataset points much better.\n",
    "\n",
    "---\n",
    "\n",
    "In summary:\n",
    "The algorithm is used to **teach the model the optimal values ​​of weights and biases** to reduce the error between predictions and actual data, using **gradient descent** and a **cost function**.\n",
    "\n",
    "---"
   ]
  },
  {
   "cell_type": "markdown",
   "id": "f4164382",
   "metadata": {},
   "source": [
    "### **What it is:** Multi-output linear regression.\n",
    "\n",
    "With $D$ input features and $M$ outputs, the model is\n",
    "\n",
    "$$\n",
    "\\mathbf{y} = W^\\top \\mathbf{x} + \\mathbf{b}\n",
    "$$\n",
    "\n",
    "where $W \\in \\mathbb{R}^{D\\times M}$ (columns = features/outputs) and $\\mathbf{b} \\in \\mathbb{R}^{M}$."
   ]
  },
  {
   "cell_type": "markdown",
   "id": "49cd4154",
   "metadata": {},
   "source": [
    "* **Column insight:** Each **column of $W$** defines a different linear function of the input $\\mathbf{x}$. Take the **dot product** $\\mathbf{x}\\cdot W_{:,j}$ and then add $b_j$ → you get the $j$-th output.\n",
    "\n",
    "* **Sample batch:** with $X \\in \\mathbb{R}^{N\\times D}$ (rows = samples) the prediction is\n",
    "\n",
    "$$\n",
    "Y = XW + \\mathbf{b}\n",
    "$$\n",
    "\n",
    "with $Y \\in \\mathbb{R}^{N\\times M}$. The bias is broadcast across all rows.\n",
    "\n",
    "* **Element-by-element reading:** $Y_{i,j} = X_{i,:}\\cdot W_{:,j} + b_j$.\n",
    "\n",
    "* **PyTorch:** uses `nn.Linear(in_features=D, out_features=M)`.\n",
    "\n",
    "* Single input: `x` with shape `(D,)` → output `(M,)`.\n",
    "* Batch: `X` with shape `(N, D)` → output `(N, M)`.\n",
    "(Internally, PyTorch stores the weights as `(M, D)` and adds the bias `(M,)`.)\n",
    "\n",
    "* **Mental graph:** feature nodes → (weights = edges) → output nodes. Each output sums weights × features + bias.\n",
    "\n",
    "* **Basic idea**: We want a **model** that, given one **input** (several numbers together), produces **multiple results** instead of just one.\n",
    "\n",
    "---"
   ]
  },
  {
   "cell_type": "code",
   "execution_count": 1,
   "id": "dfcbb2b2",
   "metadata": {},
   "outputs": [],
   "source": [
    "from torch import nn\n",
    "import torch    "
   ]
  },
  {
   "cell_type": "code",
   "execution_count": 2,
   "id": "60c7b69b",
   "metadata": {},
   "outputs": [
    {
     "data": {
      "text/plain": [
       "<torch._C.Generator at 0x11ae08ced50>"
      ]
     },
     "execution_count": 2,
     "metadata": {},
     "output_type": "execute_result"
    }
   ],
   "source": [
    "torch.manual_seed(1)"
   ]
  },
  {
   "cell_type": "code",
   "execution_count": 4,
   "id": "5d807e15",
   "metadata": {},
   "outputs": [],
   "source": [
    "class linear_regression(nn.Module):\n",
    "    \n",
    "    # Constructor\n",
    "    def __init__(self, input_size, output_size):\n",
    "        # input size are features, the output it's just the predicted value\n",
    "        super(linear_regression, self).__init__()\n",
    "        self.linear = nn.Linear(input_size, output_size)\n",
    "        \n",
    "        \n",
    "    # Prediction Function\n",
    "    def forward(self, x):\n",
    "        yhat = self.linear(x)\n",
    "        return yhat"
   ]
  },
  {
   "cell_type": "code",
   "execution_count": 5,
   "id": "5fd131d8",
   "metadata": {},
   "outputs": [
    {
     "data": {
      "text/plain": [
       "tensor([[ 0.7926, -0.3920,  0.1714,  0.0797, -1.0143,  0.5097, -0.0608,  0.5047,\n",
       "          1.0132,  0.1887]], grad_fn=<AddmmBackward0>)"
      ]
     },
     "execution_count": 5,
     "metadata": {},
     "output_type": "execute_result"
    }
   ],
   "source": [
    "model = linear_regression(1, 10)\n",
    "model(torch.tensor([[1.0]]))"
   ]
  },
  {
   "cell_type": "markdown",
   "id": "f8229a94",
   "metadata": {},
   "source": [
    "<img src=\"https://ibm.box.com/shared/static/icmwnxru7nytlhnq5x486rffea9ncpk7.png\" width=\"600,\" align=\"center\">"
   ]
  },
  {
   "cell_type": "code",
   "execution_count": 6,
   "id": "e9d51f1e",
   "metadata": {},
   "outputs": [
    {
     "data": {
      "text/plain": [
       "[Parameter containing:\n",
       " tensor([[ 0.5153],\n",
       "         [-0.4414],\n",
       "         [-0.1939],\n",
       "         [ 0.4694],\n",
       "         [-0.9414],\n",
       "         [ 0.5997],\n",
       "         [-0.2057],\n",
       "         [ 0.5087],\n",
       "         [ 0.1390],\n",
       "         [-0.1224]], requires_grad=True),\n",
       " Parameter containing:\n",
       " tensor([ 0.2774,  0.0493,  0.3652, -0.3897, -0.0729, -0.0900,  0.1449, -0.0040,\n",
       "          0.8742,  0.3112], requires_grad=True)]"
      ]
     },
     "execution_count": 6,
     "metadata": {},
     "output_type": "execute_result"
    }
   ],
   "source": [
    "list(model.parameters())"
   ]
  },
  {
   "cell_type": "code",
   "execution_count": 7,
   "id": "9a8b5c02",
   "metadata": {},
   "outputs": [],
   "source": [
    "x=torch.tensor([[1.0]])"
   ]
  },
  {
   "cell_type": "code",
   "execution_count": 8,
   "id": "61ad67e1",
   "metadata": {},
   "outputs": [
    {
     "data": {
      "text/plain": [
       "tensor([[ 0.7926, -0.3920,  0.1714,  0.0797, -1.0143,  0.5097, -0.0608,  0.5047,\n",
       "          1.0132,  0.1887]], grad_fn=<AddmmBackward0>)"
      ]
     },
     "execution_count": 8,
     "metadata": {},
     "output_type": "execute_result"
    }
   ],
   "source": [
    "# we can make a prediction with the model\n",
    "yhat = model(x)\n",
    "yhat"
   ]
  },
  {
   "cell_type": "code",
   "execution_count": null,
   "id": "38637bae",
   "metadata": {},
   "outputs": [
    {
     "data": {
      "text/plain": [
       "tensor([[ 0.7926, -0.3920,  0.1714,  0.0797, -1.0143,  0.5097, -0.0608,  0.5047,\n",
       "          1.0132,  0.1887],\n",
       "        [ 0.7926, -0.3920,  0.1714,  0.0797, -1.0143,  0.5097, -0.0608,  0.5047,\n",
       "          1.0132,  0.1887],\n",
       "        [ 1.8232, -1.2748, -0.2164,  1.0184, -2.8972,  1.7091, -0.4722,  1.5222,\n",
       "          1.2912, -0.0561]], grad_fn=<AddmmBackward0>)"
      ]
     },
     "execution_count": 9,
     "metadata": {},
     "output_type": "execute_result"
    }
   ],
   "source": [
    "# each row in the following tensor represents a different sample with a single feature\n",
    "\n",
    "X=torch.tensor([[1.0],[1.0],[3.0]])\n",
    "Yhat=model(X)\n",
    "Yhat"
   ]
  },
  {
   "cell_type": "markdown",
   "id": "6c420b18",
   "metadata": {},
   "source": [
    " <img src=\"https://ibm.box.com/shared/static/768cul6pj8hc93uh9ujpajihnp8xdukx.png\" width=\"600,\" align=\"center\">"
   ]
  },
  {
   "cell_type": "markdown",
   "id": "fba76daa",
   "metadata": {},
   "source": [
    "### **Training Linear Regression Multiple Outputs**"
   ]
  },
  {
   "cell_type": "code",
   "execution_count": 1,
   "id": "59870798",
   "metadata": {},
   "outputs": [],
   "source": [
    "import torch\n",
    "import numpy as np\n",
    "import matplotlib.pyplot as plt\n",
    "from torch import nn,optim\n",
    "from mpl_toolkits.mplot3d import Axes3D\n",
    "from torch.utils.data import Dataset, DataLoader\n",
    "import torchvision.transforms as transforms"
   ]
  },
  {
   "cell_type": "code",
   "execution_count": 2,
   "id": "78c8e820",
   "metadata": {},
   "outputs": [
    {
     "data": {
      "text/plain": [
       "<torch._C.Generator at 0x25dab9eabf0>"
      ]
     },
     "execution_count": 2,
     "metadata": {},
     "output_type": "execute_result"
    }
   ],
   "source": [
    "# Set the random seed\n",
    "torch.manual_seed(1)"
   ]
  },
  {
   "cell_type": "code",
   "execution_count": 3,
   "id": "c1174dce",
   "metadata": {},
   "outputs": [],
   "source": [
    "# Create a dataset class with two-dimensional features and two targets: \n",
    "from torch.utils.data import Dataset, DataLoader\n",
    "class Data(Dataset):\n",
    "    def __init__(self):\n",
    "            self.x=torch.zeros(20,2)\n",
    "            self.x[:,0]=torch.arange(-1,1,0.1)\n",
    "            self.x[:,1]=torch.arange(-1,1,0.1)\n",
    "            self.w=torch.tensor([ [1.0,-1.0],[1.0,3.0]])\n",
    "            self.b=torch.tensor([[1.0,-1.0]])\n",
    "            self.f=torch.mm(self.x,self.w)+self.b\n",
    "            \n",
    "            self.y=self.f+0.001*torch.randn((self.x.shape[0],1))\n",
    "            self.len=self.x.shape[0]\n",
    "\n",
    "    def __getitem__(self,index):\n",
    "\n",
    "        return self.x[index],self.y[index]\n",
    "    \n",
    "    def __len__(self):\n",
    "        return self.len\n"
   ]
  },
  {
   "cell_type": "code",
   "execution_count": 4,
   "id": "2fcbde66",
   "metadata": {},
   "outputs": [],
   "source": [
    "# create a dataset object \n",
    "data_set=Data()"
   ]
  },
  {
   "cell_type": "markdown",
   "id": "05a72f23",
   "metadata": {},
   "source": [
    "<a id=\"ref1\"></a>\n",
    "<h2 align=center>Create the Model, Optimizer, and Total Loss Function (cost)</h2>"
   ]
  },
  {
   "cell_type": "code",
   "execution_count": 5,
   "id": "64d67ce4",
   "metadata": {},
   "outputs": [],
   "source": [
    "class linear_regression(nn.Module):\n",
    "    def __init__(self,input_size,output_size):\n",
    "        super(linear_regression,self).__init__()\n",
    "        self.linear=nn.Linear(input_size,output_size)\n",
    "    def forward(self,x):\n",
    "        yhat=self.linear(x)\n",
    "        return yhat"
   ]
  },
  {
   "cell_type": "markdown",
   "id": "1066fa29",
   "metadata": {},
   "source": [
    "Create an optimizer object and set the learning rate to 0.1. **Don't forget to enter the model parameters in the constructor.**  "
   ]
  },
  {
   "cell_type": "code",
   "execution_count": 6,
   "id": "a1e7aeee",
   "metadata": {},
   "outputs": [],
   "source": [
    "model=linear_regression(2,2)"
   ]
  },
  {
   "cell_type": "markdown",
   "id": "eac5c0f7",
   "metadata": {},
   "source": [
    "Create an optimizer object and set the learning rate to 0.1. **Don't forget to enter the model parameters in the constructor.**  "
   ]
  },
  {
   "cell_type": "markdown",
   "id": "24e1666f",
   "metadata": {},
   "source": [
    "<img src=\"https://ibm.box.com/shared/static/f8hskuwrnctjg21agud69ddla0jkbef5.png\" width=\"100,\" align=\"center\">"
   ]
  },
  {
   "cell_type": "code",
   "execution_count": 7,
   "id": "46ed92c5",
   "metadata": {},
   "outputs": [],
   "source": [
    "optimizer = optim.SGD(model.parameters(), lr = 0.1)"
   ]
  },
  {
   "cell_type": "markdown",
   "id": "4319f8c0",
   "metadata": {},
   "source": [
    "Create the criterion function that calculates the total loss or cost:"
   ]
  },
  {
   "cell_type": "code",
   "execution_count": 8,
   "id": "f877eb92",
   "metadata": {},
   "outputs": [],
   "source": [
    "criterion = nn.MSELoss()"
   ]
  },
  {
   "cell_type": "markdown",
   "id": "9f2f5ab1",
   "metadata": {},
   "source": [
    "Create a data loader object and set the batch_size to 5:"
   ]
  },
  {
   "cell_type": "code",
   "execution_count": 9,
   "id": "ad8dea4d",
   "metadata": {},
   "outputs": [],
   "source": [
    "train_loader=DataLoader(dataset=data_set,batch_size=5)"
   ]
  },
  {
   "cell_type": "markdown",
   "id": "2db2c9e0",
   "metadata": {},
   "source": [
    "<a id=\"ref2\"></a>\n",
    "<h2 align=center>Train the Model via Mini-Batch Gradient Descent </h2>"
   ]
  },
  {
   "cell_type": "markdown",
   "id": "277c54a5",
   "metadata": {},
   "source": [
    "Run 100 epochs of Mini-Batch Gradient Descent and store the total loss or cost for every iteration. Remember that this is an approximation of the true total loss or cost."
   ]
  },
  {
   "cell_type": "code",
   "execution_count": 10,
   "id": "5bab0a73",
   "metadata": {},
   "outputs": [],
   "source": [
    "LOSS=[]\n",
    "\n",
    "epochs=100\n",
    "\n",
    "for epoch in range(epochs):\n",
    "    for x,y in train_loader:\n",
    "        #make a prediction \n",
    "        yhat=model(x)\n",
    "        #calculate the loss\n",
    "        loss=criterion(yhat,y)\n",
    "        #store loss/cost \n",
    "        LOSS.append(loss.item())\n",
    "        #clear gradient \n",
    "        optimizer.zero_grad()\n",
    "        #Backward pass: compute gradient of the loss with respect to all the learnable parameters\n",
    "        loss.backward()\n",
    "        #the step function on an Optimizer makes an update to its parameters\n",
    "        optimizer.step()\n"
   ]
  },
  {
   "cell_type": "markdown",
   "id": "9390b8c7",
   "metadata": {},
   "source": [
    "Plot the cost:"
   ]
  },
  {
   "cell_type": "code",
   "execution_count": 11,
   "id": "3106b0df",
   "metadata": {},
   "outputs": [
    {
     "data": {
      "image/png": "[encoded data removed]",
      "text/plain": [
       "<Figure size 640x480 with 1 Axes>"
      ]
     },
     "metadata": {},
     "output_type": "display_data"
    }
   ],
   "source": [
    "plt.plot(LOSS)\n",
    "plt.xlabel(\"iterations \")\n",
    "plt.ylabel(\"Cost/total loss \")\n",
    "plt.show()"
   ]
  },
  {
   "cell_type": "markdown",
   "id": "d7775c5b",
   "metadata": {},
   "source": [
    "### 1. **Objective**\n",
    "\n",
    "Train a **linear regression model with two inputs and two outputs** using PyTorch, that is, teach the model the relationship between the data and the labels (targets).\n",
    "\n",
    "---\n",
    "\n",
    "### 2. **Create the data**\n",
    "\n",
    "* Define a `Data` class that generates:\n",
    "\n",
    "* **input (x)**: pairs of numbers (2 columns).\n",
    "* **target (y)**: values ​​calculated with a formula that uses weights and biases, plus a small amount of noise.\n",
    "\n",
    "---\n",
    "\n",
    "### 3. **The model**\n",
    "\n",
    "* Create a `linear_regression` class that uses the pre-built `nn.Linear` layer.\n",
    "* This layer learns the **weights** and **biases** that connect inputs → outputs.\n",
    "\n",
    "---\n",
    "\n",
    "### 4. **Optimizer and Cost**\n",
    "\n",
    "* **Optimizer**: `optim.SGD` with learning rate 0.1 → used to update the weights.\n",
    "* **Cost Function**: `nn.MSELoss()` → measures how far the predictions are from the targets (smaller = better).\n",
    "\n",
    "---\n",
    "\n",
    "### 5. **Data Loader**\n",
    "\n",
    "* A `DataLoader` is used with batches of 5 → instead of passing all the data at once, it sends it to the model in chunks.\n",
    "\n",
    "---\n",
    "\n",
    "### 6. **Training**\n",
    "\n",
    "* **100 epochs** cycle:\n",
    "\n",
    "1. The model makes a **prediction**.\n",
    "2. The **loss** (error) is calculated.\n",
    "3. The old gradients are reset to zero.\n",
    "4. The **new gradients** are calculated (how much to change the weights).\n",
    "5. The optimizer takes a step → updates the parameters.\n",
    "\n",
    "---\n",
    "\n",
    "### 7. Result\n",
    "\n",
    "* The loss is saved at each step.\n",
    "* Finally, a graph is drawn: the error should decrease over time.\n",
    "\n",
    "---"
   ]
  }
 ],
 "metadata": {
  "kernelspec": {
   "display_name": "ai_env",
   "language": "python",
   "name": "python3"
  },
  "language_info": {
   "codemirror_mode": {
    "name": "ipython",
    "version": 3
   },
   "file_extension": ".py",
   "mimetype": "text/x-python",
   "name": "python",
   "nbconvert_exporter": "python",
   "pygments_lexer": "ipython3",
   "version": "3.10.16"
  }
 },
 "nbformat": 4,
 "nbformat_minor": 5
}
