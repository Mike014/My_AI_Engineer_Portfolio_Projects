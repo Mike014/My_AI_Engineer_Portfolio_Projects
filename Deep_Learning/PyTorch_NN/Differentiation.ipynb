{
 "cells": [
  {
   "cell_type": "markdown",
   "id": "788c855b",
   "metadata": {},
   "source": [
    "# **Derivatives in PyTorch**\n",
    "\n"
   ]
  },
  {
   "cell_type": "markdown",
   "id": "a7bdaf3e",
   "metadata": {},
   "source": [
    "### **What is a derivative?**\n",
    "**The derivative of a function** measures how rapidly its **value changes** with respect to **one of its variables**.\n",
    "In simple terms, it **represents the slope of a curve at a certain point**."
   ]
  },
  {
   "cell_type": "markdown",
   "id": "ccb0e237",
   "metadata": {},
   "source": [
    "**Why are they crucial in artificial intelligence?**\n",
    "\n",
    "In **neural networks**, the goal is to **minimize the error between predicted and actual output**.\n",
    "Derivatives are **used to calculate how much to change each model parameter** to improve performance: this process is **called gradient descent optimization**."
   ]
  },
  {
   "cell_type": "markdown",
   "id": "c024d222",
   "metadata": {},
   "source": [
    "## **Derivatives in PyTorch**\n",
    "\n",
    "**Simple derivative**:\n",
    "\n",
    "$$ y = x_2$$"
   ]
  },
  {
   "cell_type": "markdown",
   "id": "97977e05",
   "metadata": {},
   "source": [
    "The **derivative** with respect to _x_ is:\n",
    "\n",
    "$$ dy/dx = 2x→2⋅2=4"
   ]
  },
  {
   "cell_type": "markdown",
   "id": "e4190437",
   "metadata": {},
   "source": [
    "**In PyTorch**:\n",
    "\n",
    "1. ***Create x*** = torch.tensor(2.0, requires_grad=True)\n",
    "\n",
    "2. ***Define y*** = x**2\n",
    "\n",
    "3. ***Call y.backward()*** → calculates the derivative\n",
    "\n",
    "4. ***Read x.grad*** → returns 4\n"
   ]
  },
  {
   "cell_type": "markdown",
   "id": "1a9bf2cd",
   "metadata": {},
   "source": [
    "$$z=3x \n",
    "2\n",
    " → \n",
    "dx\n",
    "dz\n",
    "​\n",
    " =6x→z(2)=12$$"
   ]
  },
  {
   "cell_type": "markdown",
   "id": "a84ad33e",
   "metadata": {},
   "source": [
    "Follow the same procedure with **PyTorch** to get *x.grad = 12*"
   ]
  },
  {
   "cell_type": "markdown",
   "id": "e2e24976",
   "metadata": {},
   "source": [
    "## **Partial Derivatives – Functions with Multiple Variables**"
   ]
  }
 ],
 "metadata": {
  "kernelspec": {
   "display_name": "ai_env",
   "language": "python",
   "name": "python3"
  },
  "language_info": {
   "codemirror_mode": {
    "name": "ipython",
    "version": 3
   },
   "file_extension": ".py",
   "mimetype": "text/x-python",
   "name": "python",
   "nbconvert_exporter": "python",
   "pygments_lexer": "ipython3",
   "version": "3.10.16"
  }
 },
 "nbformat": 4,
 "nbformat_minor": 5
}
