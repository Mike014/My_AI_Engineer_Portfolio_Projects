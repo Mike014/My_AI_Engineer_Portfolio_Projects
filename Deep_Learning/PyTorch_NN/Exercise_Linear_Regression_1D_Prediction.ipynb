{
 "cells": [
  {
   "cell_type": "markdown",
   "id": "a6f9e2fa",
   "metadata": {},
   "source": [
    "# Objective of linear regression:\n",
    "\n",
    "Find a linear *relationship* between an **independent variable *x*** and a **dependent variable *𝑦***.\n",
    "\n",
    "\n",
    "$$\n",
    "y = w * x + b\n",
    "$$\n",
    "\n"
   ]
  },
  {
   "cell_type": "markdown",
   "id": "6eaa0dfb",
   "metadata": {},
   "source": [
    "- ## **w – Weight**:\n",
    "\n",
    "```python\n",
    "w = torch.tensor(2.0, requires_grad=True)\n",
    "```\n",
    "\n",
    "This is the **slope** of the line.\n",
    "\n",
    "It determines how **much y changes each time x increases by 1**.\n",
    "\n",
    "In the example:\n",
    "\n",
    "If w = 2, this means that for every 1 increase in x, y increases by 2.\n",
    "\n",
    "- ## **b – Bias (Intercept):**\n",
    "\n",
    "```python\n",
    "b = torch.tensor(-1.0, requires_grad=True)\n",
    "```\n",
    "\n",
    "**It is the initial value of y when x = 0**. It shifts the line up or down. \n",
    "In the example:b = -1 ⇒ The line intersects the y-axis at -1.\n",
    "Example:If x = 0 ⇒ y = 2*0 + (-1) = -1 \n",
    "Here too requires_grad=True because we want to optimize the bias if we were training a model."
   ]
  },
  {
   "cell_type": "markdown",
   "id": "887fc921",
   "metadata": {},
   "source": [
    "| Variable | Meaning | Value | Effect |\n",
    "| --------- | -------------------- | ------ | --------------------------------- |\n",
    "| 'w' | Slope of the line | '2.0' | How much y \"grows\" with x |\n",
    "| 'b' | Intercept | '-1.0' | Where the line on the y-axis \"starts\" |"
   ]
  },
  {
   "cell_type": "code",
   "execution_count": 4,
   "id": "95c923c6",
   "metadata": {},
   "outputs": [],
   "source": [
    "import torch"
   ]
  },
  {
   "cell_type": "markdown",
   "id": "1e2eccf7",
   "metadata": {},
   "source": [
    "## Base prediction: $y = w * x + b$ \n",
    "Let's manually **define w and b**"
   ]
  },
  {
   "cell_type": "code",
   "execution_count": null,
   "id": "112636d9",
   "metadata": {},
   "outputs": [],
   "source": [
    "w = torch.tensor(2.0, requires_grad=True)    \n",
    "b = torch.tensor(-1.0, requires_grad=True)   "
   ]
  },
  {
   "cell_type": "markdown",
   "id": "04bb5ca8",
   "metadata": {},
   "source": [
    "## Let's define the function $forward(x)$"
   ]
  },
  {
   "cell_type": "code",
   "execution_count": 7,
   "id": "8f3d394d",
   "metadata": {},
   "outputs": [
    {
     "data": {
      "text/plain": [
       "tensor([[1.]], grad_fn=<AddBackward0>)"
      ]
     },
     "execution_count": 7,
     "metadata": {},
     "output_type": "execute_result"
    }
   ],
   "source": [
    "def forward(x):\n",
    "    return w * x + b\n",
    "\n",
    "x = torch.tensor([[1.0]])\n",
    "yhat = forward(x)\n",
    "yhat"
   ]
  },
  {
   "cell_type": "markdown",
   "id": "9bedd30e",
   "metadata": {},
   "source": [
    "### Prediction with more input"
   ]
  },
  {
   "cell_type": "code",
   "execution_count": 8,
   "id": "c06c929a",
   "metadata": {},
   "outputs": [
    {
     "data": {
      "text/plain": [
       "tensor([[1.],\n",
       "        [3.]], grad_fn=<AddBackward0>)"
      ]
     },
     "execution_count": 8,
     "metadata": {},
     "output_type": "execute_result"
    }
   ],
   "source": [
    "x = torch.tensor([[1.0], [2.0]])\n",
    "yhat = forward(x)\n",
    "yhat"
   ]
  },
  {
   "cell_type": "code",
   "execution_count": 9,
   "id": "7d17295c",
   "metadata": {},
   "outputs": [
    {
     "name": "stdout",
     "output_type": "stream",
     "text": [
      "[Parameter containing:\n",
      "tensor([[0.5153]], requires_grad=True), Parameter containing:\n",
      "tensor([-0.4414], requires_grad=True)]\n"
     ]
    }
   ],
   "source": [
    "from torch.nn import Linear \n",
    "\n",
    "torch.manual_seed(1)\n",
    "\n",
    "lr = Linear(in_features=1, out_features=1, bias=True)\n",
    "\n",
    "print(list(lr.parameters()))"
   ]
  },
  {
   "cell_type": "markdown",
   "id": "47d7d75c",
   "metadata": {},
   "source": [
    "| Concept | Description |\n",
    "| :--- | :--- |\n",
    "| `y = w * x + b` | The formula for **linear regression**, where `y` is the output, `x` is the input, `w` are the weights, and `b` is the bias. It represents the linear relationship between variables. |\n",
    "| `forward()` | The function used for **prediction** in a machine learning model. It defines the flow of data through the neural network, calculating the model's output from the input. |\n",
    "| `torch.nn.Linear` | A **PyTorch class** that implements a linear model. It's a pre-built module that performs the `y = w * x + b` operation. |\n",
    "| `nn.Module` | The **base class** for all neural network modules and layers in PyTorch. It's the foundation for building custom and more complex models. |\n",
    "| `state_dict()` | A **Python dictionary** that maps each model parameter (`w` and `b`) to its tensor. It's essential for saving, loading, and inspecting a model's weights. |"
   ]
  }
 ],
 "metadata": {
  "kernelspec": {
   "display_name": "ai_env",
   "language": "python",
   "name": "python3"
  },
  "language_info": {
   "codemirror_mode": {
    "name": "ipython",
    "version": 3
   },
   "file_extension": ".py",
   "mimetype": "text/x-python",
   "name": "python",
   "nbconvert_exporter": "python",
   "pygments_lexer": "ipython3",
   "version": "3.10.16"
  }
 },
 "nbformat": 4,
 "nbformat_minor": 5
}
