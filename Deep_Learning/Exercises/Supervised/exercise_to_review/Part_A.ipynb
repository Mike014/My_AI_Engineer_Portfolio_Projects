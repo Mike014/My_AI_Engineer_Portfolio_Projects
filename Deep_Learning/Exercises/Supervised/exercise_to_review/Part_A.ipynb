{
 "cells": [
  {
   "cell_type": "markdown",
   "metadata": {},
   "source": [
    "# Part A"
   ]
  },
  {
   "cell_type": "code",
   "execution_count": null,
   "metadata": {
    "vscode": {
     "languageId": "plaintext"
    }
   },
   "outputs": [],
   "source": [
    "# Install necessary libraries (if not already installed)\n",
    "%pip install tensorflow scikit-learn pandas numpy matplotlib\n",
    "\n",
    "# Import necessary libraries\n",
    "import pandas as pd\n",
    "import numpy as np\n",
    "import tensorflow as tf\n",
    "from tensorflow import keras\n",
    "from keras.models import Sequential\n",
    "from keras.layers import Dense\n",
    "from sklearn.model_selection import train_test_split\n",
    "from sklearn.preprocessing import StandardScaler\n",
    "from sklearn.metrics import mean_squared_error\n",
    "import matplotlib.pyplot as plt\n",
    "\n",
    "# Load dataset\n",
    "data = \"concrete_data.csv\"\n",
    "df = pd.read_csv(data)\n",
    "\n",
    "# Print first few rows\n",
    "df.head()\n",
    "\n",
    "# Check dataset information\n",
    "df.info()\n",
    "\n",
    "# Extract predictors and target variable\n",
    "X = df.drop(columns=['Strength'])  # Predictors\n",
    "y = df['Strength']  # Target\n",
    "\n",
    "# Store MSEs from 50 runs\n",
    "mse_list = []\n",
    "\n",
    "for i in range(50):  # Repeat process 50 times\n",
    "    # Split into training (70%) and testing (30%)\n",
    "    X_train, X_test, y_train, y_test = train_test_split(X, y, test_size=0.3, random_state=i)\n",
    "    \n",
    "    # Build the model\n",
    "    model = Sequential([\n",
    "        Dense(10, activation='relu', input_shape=(X_train.shape[1],)),  # 1 hidden layer, 10 nodes, ReLU\n",
    "        Dense(1)  # Output layer\n",
    "    ])\n",
    "\n",
    "    # Compile the model\n",
    "    model.compile(optimizer='adam', loss='mean_squared_error')\n",
    "\n",
    "    # Train the model for 50 epochs\n",
    "    model.fit(X_train, y_train, epochs=50, verbose=0)  # Silent training\n",
    "\n",
    "    # Make predictions\n",
    "    y_pred = model.predict(X_test).flatten()\n",
    "\n",
    "    # Compute MSE and store it\n",
    "    mse = mean_squared_error(y_test, y_pred)\n",
    "    mse_list.append(mse)\n",
    "\n",
    "# Report mean and standard deviation of MSEs\n",
    "print(f\"Mean MSE: {np.mean(mse_list):.4f}\")\n",
    "print(f\"Standard Deviation of MSE: {np.std(mse_list):.4f}\")"
   ]
  }
 ],
 "metadata": {
  "language_info": {
   "name": "python"
  }
 },
 "nbformat": 4,
 "nbformat_minor": 2
}
