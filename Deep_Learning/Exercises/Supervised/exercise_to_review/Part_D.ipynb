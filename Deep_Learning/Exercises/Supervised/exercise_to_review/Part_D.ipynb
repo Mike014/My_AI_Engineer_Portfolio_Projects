{
 "cells": [
  {
   "cell_type": "markdown",
   "metadata": {},
   "source": [
    "# Part D: Increase the Number of Hidden Layers (5 Marks)\n",
    "\n",
    "1. Repeat Part B but use 3 hidden layers, each with 10 nodes and ReLU activation.\n",
    "2. Compare the mean MSE with Part B."
   ]
  },
  {
   "cell_type": "code",
   "execution_count": null,
   "metadata": {},
   "outputs": [],
   "source": [
    "# Install necessary libraries (if not already installed)\n",
    "%pip install tensorflow scikit-learn pandas numpy matplotlib\n",
    "\n",
    "# Import necessary libraries\n",
    "import pandas as pd\n",
    "import numpy as np\n",
    "import tensorflow as tf\n",
    "from tensorflow import keras\n",
    "from keras.models import Sequential\n",
    "from keras.layers import Dense\n",
    "from sklearn.model_selection import train_test_split\n",
    "from sklearn.preprocessing import StandardScaler\n",
    "from sklearn.metrics import mean_squared_error\n",
    "import matplotlib.pyplot as plt\n",
    "\n",
    "# Load dataset\n",
    "data = \"concrete_data.csv\"\n",
    "df = pd.read_csv(data)\n",
    "\n",
    "# Print first few rows\n",
    "df.head()\n",
    "\n",
    "# Check dataset information\n",
    "df.info()\n",
    "\n",
    "# Store MSEs from 50 runs\n",
    "mse_list_deep = []\n",
    "\n",
    "for i in range(50):  \n",
    "    X_train, X_test, y_train, y_test = train_test_split(X_norm, y, test_size=0.3, random_state=i)\n",
    "    \n",
    "    # Build the model with 3 hidden layers\n",
    "    model = Sequential([\n",
    "        Dense(10, activation='relu', input_shape=(X_train.shape[1],)),\n",
    "        Dense(10, activation='relu'),\n",
    "        Dense(10, activation='relu'),\n",
    "        Dense(1)\n",
    "    ])\n",
    "\n",
    "    # Compile the model\n",
    "    model.compile(optimizer='adam', loss='mean_squared_error')\n",
    "\n",
    "    # Train the model for 50 epochs\n",
    "    model.fit(X_train, y_train, epochs=50, verbose=0)\n",
    "\n",
    "    # Make predictions\n",
    "    y_pred = model.predict(X_test).flatten()\n",
    "\n",
    "    # Compute MSE and store it\n",
    "    mse = mean_squared_error(y_test, y_pred)\n",
    "    mse_list_deep.append(mse)\n",
    "\n",
    "# Report mean and standard deviation of MSEs\n",
    "print(f\"Mean MSE (3 Hidden Layers): {np.mean(mse_list_deep):.4f}\")\n",
    "print(f\"Standard Deviation of MSE (3 Hidden Layers): {np.std(mse_list_deep):.4f}\")\n"
   ]
  }
 ],
 "metadata": {
  "kernelspec": {
   "display_name": "my_env",
   "language": "python",
   "name": "python3"
  },
  "language_info": {
   "name": "python",
   "version": "3.12.8"
  }
 },
 "nbformat": 4,
 "nbformat_minor": 2
}
