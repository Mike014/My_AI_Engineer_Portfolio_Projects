{
 "cells": [
  {
   "cell_type": "markdown",
   "id": "8478019a",
   "metadata": {},
   "source": [
    "# **Tools and Techniques in TensorFlow**\n",
    "\n",
    "- Mixed Precision Training: \n",
    "  1. Use both **float16** and **float32** to:\n",
    "  2. Speed ​​up training on modern GPUs\n",
    "  3. **Reduce memory** and bandwidth usage\n",
    "  4. Keep good accuracy"
   ]
  }
 ],
 "metadata": {
  "language_info": {
   "name": "python"
  }
 },
 "nbformat": 4,
 "nbformat_minor": 5
}
