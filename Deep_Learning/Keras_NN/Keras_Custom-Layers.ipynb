{
 "cells": [
  {
   "cell_type": "markdown",
   "metadata": {},
   "source": [
    "# **Creating Custom Layers in Keras**  \n",
    "\n",
    "The video explains the importance of **custom layers** in Keras and how to implement them to extend the functionality of neural networks.  \n",
    "\n",
    "#### **Why Use Custom Layers?**  \n",
    "- **Flexibility**: Allows defining custom operations not available in standard Keras layers.  \n",
    "- **Innovation**: Useful for developing new algorithms and research techniques.  \n",
    "- **Optimization**: Can be tailored to specific data needs or computational constraints.  \n",
    "- **Maintainability**: Encapsulates complex logic into reusable components, making the code cleaner.  \n",
    "\n",
    "#### **Structure of a Custom Layer**  \n",
    "A **custom layer** in Keras is created by subclassing `Layer` from `tensorflow.keras.layers` and implementing three key methods:  \n",
    "1. `__init__` → Initializes the layer’s attributes.  \n",
    "2. `build` → Creates the layer’s weights (called only during the first execution).  \n",
    "3. `call` → Defines the **forward pass** logic.  \n",
    "\n",
    "#### **Example of a Custom Layer**  \n",
    "**Custom Dense Layer** that performs a dense operation followed by a ReLU activation. This layer can be easily integrated into a **Sequential** model, just like any other Keras layer.  \n"
   ]
  },
  {
   "cell_type": "code",
   "execution_count": 2,
   "metadata": {},
   "outputs": [],
   "source": [
    "from tensorflow.keras.layers import Layer\n",
    "import tensorflow as tf"
   ]
  },
  {
   "cell_type": "code",
   "execution_count": 3,
   "metadata": {},
   "outputs": [],
   "source": [
    "class MyCustomLayer(Layer):\n",
    "    def __init__(self, units=32, **kwargs):\n",
    "        super(MyCustomLayer, self).__init__(**kwargs)\n",
    "        self.units = units\n",
    "\n",
    "    def build(self, input_shape):\n",
    "        self.w = self.add_weight(\n",
    "            shape=(input_shape[-1], self.units),\n",
    "            initializer=\"random_normal\",\n",
    "            trainable=True\n",
    "        )\n",
    "        self.b = self.add_weight(\n",
    "            shape=(self.units,),\n",
    "            initializer=\"zeros\",\n",
    "            trainable=True\n",
    "        )\n",
    "    \n",
    "    def call(self, inputs):\n",
    "        return tf.matmul(inputs, self.w) + self.b\n"
   ]
  },
  {
   "cell_type": "code",
   "execution_count": 4,
   "metadata": {},
   "outputs": [
    {
     "name": "stdout",
     "output_type": "stream",
     "text": [
      "True\n"
     ]
    },
    {
     "data": {
      "text/plain": [
       "<tf.Tensor: shape=(3,), dtype=int32, numpy=array([5, 7, 9])>"
      ]
     },
     "execution_count": 4,
     "metadata": {},
     "output_type": "execute_result"
    }
   ],
   "source": [
    "print(tf.executing_eagerly())\n",
    "\n",
    "a = tf.constant([1, 2, 3])\n",
    "b = tf.constant([4, 5, 6])\n",
    "result = tf.add(a, b)\n",
    "result"
   ]
  },
  {
   "cell_type": "code",
   "execution_count": 8,
   "metadata": {},
   "outputs": [],
   "source": [
    "class CustomDenseLayer(Layer):\n",
    "    def __init__(self, units=32):\n",
    "        super(CustomDenseLayer, self).__init__()\n",
    "        self.units = units\n",
    "\n",
    "    def build(self, input_shape):\n",
    "        self.w = self.add_weight(shape=(input_shape[-1], self.units), initializer=\"random_normal\", trainable=True)\n",
    "        self.b = self.add_weight(shape=(self.units,), initializer=\"zeros\", trainable=True)\n",
    "\n",
    "    def call(self, inputs):\n",
    "        return tf.nn.relu(tf.matmul(inputs, self.w) + self.b)"
   ]
  },
  {
   "cell_type": "code",
   "execution_count": 9,
   "metadata": {},
   "outputs": [
    {
     "data": {
      "text/plain": [
       "<bound method Model.summary of <Sequential name=sequential_2, built=False>>"
      ]
     },
     "execution_count": 9,
     "metadata": {},
     "output_type": "execute_result"
    }
   ],
   "source": [
    "from tensorflow.keras.models import Sequential\n",
    "\n",
    "model = Sequential([\n",
    "    CustomDenseLayer(64),\n",
    "    CustomDenseLayer(10)\n",
    "])\n",
    "\n",
    "model.compile(optimizer=\"adam\", loss=\"categorical_crossentropy\")\n",
    "model.summary"
   ]
  },
  {
   "cell_type": "markdown",
   "metadata": {},
   "source": [
    "### **Create a custom Neural network**, \n",
    "based on **LSTM + Attention for NoVa**, optimized to run on consumer hardware without requiring advanced GPUs.\n",
    "\n",
    "- **NoVaMemoryModel model**, based on LSTM + Attention, which:\n",
    "\n",
    " 1. **Memorize the context **of the conversation.\n",
    " 2. **Saves and reloads memory state** to maintain persistence.\n",
    " 3. It uses a **tanh activation** to **simulate adaptive memory**."
   ]
  },
  {
   "cell_type": "code",
   "execution_count": 56,
   "metadata": {},
   "outputs": [],
   "source": [
    "import tensorflow as tf\n",
    "from tensorflow.keras.layers import Input, LSTM, Dense, Attention, Embedding\n",
    "from tensorflow.keras.models import Model\n",
    "import numpy as np\n",
    "from tensorflow.keras.preprocessing.text import Tokenizer\n",
    "from tensorflow.keras.preprocessing.sequence import pad_sequences\n",
    "\n",
    "# Sample conversation dataset\n",
    "data = [\n",
    "    \"Hello, how are you?\",\n",
    "    \"I'm fine, thank you! And you?\",\n",
    "    \"I'm fine too, what are you doing?\",\n",
    "    \"Studying artificial intelligence!\",\n",
    "    \"Wow, interesting! Tell me more.\"\n",
    "]\n",
    "\n",
    "# Text tokenization\n",
    "tokenizer = Tokenizer()\n",
    "tokenizer.fit_on_texts(data)\n",
    "sequences = tokenizer.texts_to_sequences(data)\n",
    "max_len = max(len(seq) for seq in sequences)\n",
    "padded_sequences = pad_sequences(sequences, maxlen=max_len, padding='post')"
   ]
  },
  {
   "cell_type": "code",
   "execution_count": 58,
   "metadata": {},
   "outputs": [],
   "source": [
    "# NoVa Memory Model\n",
    "class NoVaMemoryModel(Model):\n",
    "    def __init__(self, units=128, vocab_size=1000, embedding_dim=50):\n",
    "        super(NoVaMemoryModel, self).__init__()\n",
    "        self.units = units\n",
    "        self.embedding = Embedding(input_dim=vocab_size, output_dim=embedding_dim, input_length=max_len)\n",
    "        self.lstm = LSTM(units, return_sequences=True, return_state=True)\n",
    "        self.attention = Attention()\n",
    "        self.dense = Dense(units, activation=\"relu\")\n",
    "        self.output_layer = Dense(units, activation=\"tanh\")  \n",
    "\n",
    "    def build(self, input_shape):\n",
    "        super(NoVaMemoryModel, self).build(input_shape)  \n",
    "\n",
    "    def call(self, inputs, states=None):\n",
    "        embedded = self.embedding(inputs)\n",
    "        batch_size = tf.shape(inputs)[0]  \n",
    "        if states is None:\n",
    "            states = [tf.zeros((batch_size, self.units)), tf.zeros((batch_size, self.units))]\n",
    "        lstm_output, state_h, state_c = self.lstm(embedded, initial_state=states)\n",
    "        memory_context = self.attention([lstm_output, lstm_output, lstm_output])\n",
    "        final_output = self.dense(memory_context)\n",
    "        return self.output_layer(final_output), [state_h, state_c]"
   ]
  },
  {
   "cell_type": "code",
   "execution_count": 59,
   "metadata": {},
   "outputs": [],
   "source": [
    "# Model initialization\n",
    "units = 128\n",
    "vocab_size = len(tokenizer.word_index) + 1\n",
    "embedding_dim = 50\n",
    "memory_model = NoVaMemoryModel(units, vocab_size, embedding_dim)\n",
    "memory_model.build((None, max_len))  "
   ]
  },
  {
   "cell_type": "code",
   "execution_count": 60,
   "metadata": {},
   "outputs": [
    {
     "name": "stdout",
     "output_type": "stream",
     "text": [
      "⚠️ No previous state found. Initializing empty memory.\n"
     ]
    }
   ],
   "source": [
    "# Load memory state\n",
    "try:\n",
    "    loaded_states = np.load(\"nova_memory_state.npy\", allow_pickle=True)\n",
    "    state_h, state_c = tf.convert_to_tensor(loaded_states[0]), tf.convert_to_tensor(loaded_states[1])\n",
    "    print(\"✅ Memory state loaded successfully!\")\n",
    "except FileNotFoundError:\n",
    "    state_h, state_c = tf.zeros((1, units)), tf.zeros((1, units))\n",
    "    print(\"⚠️ No previous state found. Initializing empty memory.\")\n"
   ]
  },
  {
   "cell_type": "code",
   "execution_count": 63,
   "metadata": {},
   "outputs": [
    {
     "name": "stdout",
     "output_type": "stream",
     "text": [
      "Memory model ready for use.\n"
     ]
    }
   ],
   "source": [
    "# Function to update and save memory\n",
    "def update_memory(input_text):\n",
    "    input_sequence = tokenizer.texts_to_sequences([input_text])\n",
    "    input_padded = pad_sequences(input_sequence, maxlen=max_len, padding='post')\n",
    "    input_tensor = tf.convert_to_tensor(input_padded, dtype=tf.float32)\n",
    "\n",
    "    global state_h, state_c\n",
    "    output, new_states = memory_model(input_tensor, [state_h, state_c])\n",
    "    state_h, state_c = new_states\n",
    "    \n",
    "    np.save(\"nova_memory_state.npy\", [state_h.numpy(), state_c.numpy()])\n",
    "    return output.numpy().flatten()[:10]  # Returns context summary\n",
    "\n",
    "# Function to retrieve memory context\n",
    "def retrieve_memory():\n",
    "    return f\"Memory summary: {state_h.numpy().flatten()[:5]} ...\"\n",
    "\n",
    "print(\"Memory model ready for use.\")"
   ]
  },
  {
   "cell_type": "code",
   "execution_count": 64,
   "metadata": {},
   "outputs": [
    {
     "name": "stdout",
     "output_type": "stream",
     "text": [
      "Initial Memory State:\n",
      "Memory summary: [0. 0. 0. 0. 0.] ...\n",
      "\n",
      "==================================================\n",
      "\n",
      "Testing Memory Updates:\n",
      "\n",
      "Input: Hello AI, I'm a new user\n",
      "Updated Memory Context: [ 0.00287965 -0.00238571 -0.0029122   0.00569352  0.00678138  0.00466003\n",
      " -0.00680607  0.00089767  0.00205536  0.00559776]\n",
      "Current Memory State: Memory summary: [-0.00640432  0.01239642  0.00356225  0.00675242  0.01898393] ...\n",
      "------------------------------\n",
      "\n",
      "Input: Can you remember our conversation?\n",
      "Updated Memory Context: [ 0.00522634 -0.00766089 -0.0071715   0.00871886  0.01135762  0.0091626\n",
      " -0.01366987 -0.00106806  0.00298307  0.01301617]\n",
      "Current Memory State: Memory summary: [-0.00781322  0.01795602  0.0011015   0.01006286  0.02495648] ...\n",
      "------------------------------\n",
      "\n",
      "Input: Let's talk about machine learning\n",
      "Updated Memory Context: [ 0.00632868 -0.01181056 -0.00911155  0.01069849  0.01470181  0.01121417\n",
      " -0.01678194 -0.00242839  0.00501644  0.018376  ]\n",
      "Current Memory State: Memory summary: [-0.00782993  0.01918023  0.00106169  0.01270488  0.02839844] ...\n",
      "------------------------------\n",
      "\n",
      "Testing Memory Persistence:\n",
      "✅ Memory successfully persisted!\n",
      "Stored Memory Shape: (1, 128)\n",
      "\n",
      "Model Summary:\n"
     ]
    },
    {
     "data": {
      "text/html": [
       "<pre style=\"white-space:pre;overflow-x:auto;line-height:normal;font-family:Menlo,'DejaVu Sans Mono',consolas,'Courier New',monospace\"><span style=\"font-weight: bold\">Model: \"no_va_memory_model_8\"</span>\n",
       "</pre>\n"
      ],
      "text/plain": [
       "\u001b[1mModel: \"no_va_memory_model_8\"\u001b[0m\n"
      ]
     },
     "metadata": {},
     "output_type": "display_data"
    },
    {
     "data": {
      "text/html": [
       "<pre style=\"white-space:pre;overflow-x:auto;line-height:normal;font-family:Menlo,'DejaVu Sans Mono',consolas,'Courier New',monospace\">┏━━━━━━━━━━━━━━━━━━━━━━━━━━━━━━━━━┳━━━━━━━━━━━━━━━━━━━━━━━━┳━━━━━━━━━━━━━━━┓\n",
       "┃<span style=\"font-weight: bold\"> Layer (type)                    </span>┃<span style=\"font-weight: bold\"> Output Shape           </span>┃<span style=\"font-weight: bold\">       Param # </span>┃\n",
       "┡━━━━━━━━━━━━━━━━━━━━━━━━━━━━━━━━━╇━━━━━━━━━━━━━━━━━━━━━━━━╇━━━━━━━━━━━━━━━┩\n",
       "│ embedding_7 (<span style=\"color: #0087ff; text-decoration-color: #0087ff\">Embedding</span>)         │ (<span style=\"color: #00af00; text-decoration-color: #00af00\">1</span>, <span style=\"color: #00af00; text-decoration-color: #00af00\">7</span>, <span style=\"color: #00af00; text-decoration-color: #00af00\">50</span>)             │         <span style=\"color: #00af00; text-decoration-color: #00af00\">1,000</span> │\n",
       "├─────────────────────────────────┼────────────────────────┼───────────────┤\n",
       "│ lstm_8 (<span style=\"color: #0087ff; text-decoration-color: #0087ff\">LSTM</span>)                   │ ((<span style=\"color: #00af00; text-decoration-color: #00af00\">1</span>, <span style=\"color: #00af00; text-decoration-color: #00af00\">7</span>, <span style=\"color: #00af00; text-decoration-color: #00af00\">128</span>), (<span style=\"color: #00af00; text-decoration-color: #00af00\">1</span>,      │        <span style=\"color: #00af00; text-decoration-color: #00af00\">91,648</span> │\n",
       "│                                 │ <span style=\"color: #00af00; text-decoration-color: #00af00\">128</span>), (<span style=\"color: #00af00; text-decoration-color: #00af00\">1</span>, <span style=\"color: #00af00; text-decoration-color: #00af00\">128</span>))        │               │\n",
       "├─────────────────────────────────┼────────────────────────┼───────────────┤\n",
       "│ attention_8 (<span style=\"color: #0087ff; text-decoration-color: #0087ff\">Attention</span>)         │ (<span style=\"color: #00af00; text-decoration-color: #00af00\">1</span>, <span style=\"color: #00af00; text-decoration-color: #00af00\">7</span>, <span style=\"color: #00af00; text-decoration-color: #00af00\">128</span>)            │             <span style=\"color: #00af00; text-decoration-color: #00af00\">0</span> │\n",
       "├─────────────────────────────────┼────────────────────────┼───────────────┤\n",
       "│ dense_16 (<span style=\"color: #0087ff; text-decoration-color: #0087ff\">Dense</span>)                │ (<span style=\"color: #00af00; text-decoration-color: #00af00\">1</span>, <span style=\"color: #00af00; text-decoration-color: #00af00\">7</span>, <span style=\"color: #00af00; text-decoration-color: #00af00\">128</span>)            │        <span style=\"color: #00af00; text-decoration-color: #00af00\">16,512</span> │\n",
       "├─────────────────────────────────┼────────────────────────┼───────────────┤\n",
       "│ dense_17 (<span style=\"color: #0087ff; text-decoration-color: #0087ff\">Dense</span>)                │ (<span style=\"color: #00af00; text-decoration-color: #00af00\">1</span>, <span style=\"color: #00af00; text-decoration-color: #00af00\">7</span>, <span style=\"color: #00af00; text-decoration-color: #00af00\">128</span>)            │        <span style=\"color: #00af00; text-decoration-color: #00af00\">16,512</span> │\n",
       "└─────────────────────────────────┴────────────────────────┴───────────────┘\n",
       "</pre>\n"
      ],
      "text/plain": [
       "┏━━━━━━━━━━━━━━━━━━━━━━━━━━━━━━━━━┳━━━━━━━━━━━━━━━━━━━━━━━━┳━━━━━━━━━━━━━━━┓\n",
       "┃\u001b[1m \u001b[0m\u001b[1mLayer (type)                   \u001b[0m\u001b[1m \u001b[0m┃\u001b[1m \u001b[0m\u001b[1mOutput Shape          \u001b[0m\u001b[1m \u001b[0m┃\u001b[1m \u001b[0m\u001b[1m      Param #\u001b[0m\u001b[1m \u001b[0m┃\n",
       "┡━━━━━━━━━━━━━━━━━━━━━━━━━━━━━━━━━╇━━━━━━━━━━━━━━━━━━━━━━━━╇━━━━━━━━━━━━━━━┩\n",
       "│ embedding_7 (\u001b[38;5;33mEmbedding\u001b[0m)         │ (\u001b[38;5;34m1\u001b[0m, \u001b[38;5;34m7\u001b[0m, \u001b[38;5;34m50\u001b[0m)             │         \u001b[38;5;34m1,000\u001b[0m │\n",
       "├─────────────────────────────────┼────────────────────────┼───────────────┤\n",
       "│ lstm_8 (\u001b[38;5;33mLSTM\u001b[0m)                   │ ((\u001b[38;5;34m1\u001b[0m, \u001b[38;5;34m7\u001b[0m, \u001b[38;5;34m128\u001b[0m), (\u001b[38;5;34m1\u001b[0m,      │        \u001b[38;5;34m91,648\u001b[0m │\n",
       "│                                 │ \u001b[38;5;34m128\u001b[0m), (\u001b[38;5;34m1\u001b[0m, \u001b[38;5;34m128\u001b[0m))        │               │\n",
       "├─────────────────────────────────┼────────────────────────┼───────────────┤\n",
       "│ attention_8 (\u001b[38;5;33mAttention\u001b[0m)         │ (\u001b[38;5;34m1\u001b[0m, \u001b[38;5;34m7\u001b[0m, \u001b[38;5;34m128\u001b[0m)            │             \u001b[38;5;34m0\u001b[0m │\n",
       "├─────────────────────────────────┼────────────────────────┼───────────────┤\n",
       "│ dense_16 (\u001b[38;5;33mDense\u001b[0m)                │ (\u001b[38;5;34m1\u001b[0m, \u001b[38;5;34m7\u001b[0m, \u001b[38;5;34m128\u001b[0m)            │        \u001b[38;5;34m16,512\u001b[0m │\n",
       "├─────────────────────────────────┼────────────────────────┼───────────────┤\n",
       "│ dense_17 (\u001b[38;5;33mDense\u001b[0m)                │ (\u001b[38;5;34m1\u001b[0m, \u001b[38;5;34m7\u001b[0m, \u001b[38;5;34m128\u001b[0m)            │        \u001b[38;5;34m16,512\u001b[0m │\n",
       "└─────────────────────────────────┴────────────────────────┴───────────────┘\n"
      ]
     },
     "metadata": {},
     "output_type": "display_data"
    },
    {
     "data": {
      "text/html": [
       "<pre style=\"white-space:pre;overflow-x:auto;line-height:normal;font-family:Menlo,'DejaVu Sans Mono',consolas,'Courier New',monospace\"><span style=\"font-weight: bold\"> Total params: </span><span style=\"color: #00af00; text-decoration-color: #00af00\">125,672</span> (490.91 KB)\n",
       "</pre>\n"
      ],
      "text/plain": [
       "\u001b[1m Total params: \u001b[0m\u001b[38;5;34m125,672\u001b[0m (490.91 KB)\n"
      ]
     },
     "metadata": {},
     "output_type": "display_data"
    },
    {
     "data": {
      "text/html": [
       "<pre style=\"white-space:pre;overflow-x:auto;line-height:normal;font-family:Menlo,'DejaVu Sans Mono',consolas,'Courier New',monospace\"><span style=\"font-weight: bold\"> Trainable params: </span><span style=\"color: #00af00; text-decoration-color: #00af00\">125,672</span> (490.91 KB)\n",
       "</pre>\n"
      ],
      "text/plain": [
       "\u001b[1m Trainable params: \u001b[0m\u001b[38;5;34m125,672\u001b[0m (490.91 KB)\n"
      ]
     },
     "metadata": {},
     "output_type": "display_data"
    },
    {
     "data": {
      "text/html": [
       "<pre style=\"white-space:pre;overflow-x:auto;line-height:normal;font-family:Menlo,'DejaVu Sans Mono',consolas,'Courier New',monospace\"><span style=\"font-weight: bold\"> Non-trainable params: </span><span style=\"color: #00af00; text-decoration-color: #00af00\">0</span> (0.00 B)\n",
       "</pre>\n"
      ],
      "text/plain": [
       "\u001b[1m Non-trainable params: \u001b[0m\u001b[38;5;34m0\u001b[0m (0.00 B)\n"
      ]
     },
     "metadata": {},
     "output_type": "display_data"
    }
   ],
   "source": [
    "# Test the memory model with sample conversations\n",
    "def test_memory_model():\n",
    "    # 1. Test initial memory state\n",
    "    print(\"Initial Memory State:\")\n",
    "    print(retrieve_memory())\n",
    "    print(\"\\n\" + \"=\"*50 + \"\\n\")\n",
    "    \n",
    "    # 2. Test updating memory with new conversations\n",
    "    test_inputs = [\n",
    "        \"Hello AI, I'm a new user\",\n",
    "        \"Can you remember our conversation?\",\n",
    "        \"Let's talk about machine learning\"\n",
    "    ]\n",
    "    \n",
    "    print(\"Testing Memory Updates:\")\n",
    "    for text in test_inputs:\n",
    "        print(f\"\\nInput: {text}\")\n",
    "        context = update_memory(text)\n",
    "        print(f\"Updated Memory Context: {context}\")\n",
    "        print(f\"Current Memory State: {retrieve_memory()}\")\n",
    "        print(\"-\"*30)\n",
    "    \n",
    "    # 3. Test memory persistence\n",
    "    print(\"\\nTesting Memory Persistence:\")\n",
    "    try:\n",
    "        loaded_states = np.load(\"nova_memory_state.npy\", allow_pickle=True)\n",
    "        print(\"✅ Memory successfully persisted!\")\n",
    "        print(f\"Stored Memory Shape: {loaded_states[0].shape}\")\n",
    "    except FileNotFoundError:\n",
    "        print(\"❌ Memory persistence test failed!\")\n",
    "\n",
    "# Run the test\n",
    "test_memory_model()\n",
    "\n",
    "# Visual verification of model structure\n",
    "print(\"\\nModel Summary:\")\n",
    "memory_model.summary()"
   ]
  }
 ],
 "metadata": {
  "kernelspec": {
   "display_name": "my_env",
   "language": "python",
   "name": "python3"
  },
  "language_info": {
   "codemirror_mode": {
    "name": "ipython",
    "version": 3
   },
   "file_extension": ".py",
   "mimetype": "text/x-python",
   "name": "python",
   "nbconvert_exporter": "python",
   "pygments_lexer": "ipython3",
   "version": "3.12.8"
  }
 },
 "nbformat": 4,
 "nbformat_minor": 2
}
