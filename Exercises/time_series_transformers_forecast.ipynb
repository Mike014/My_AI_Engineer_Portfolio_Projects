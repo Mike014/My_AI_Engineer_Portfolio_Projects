{
  "nbformat": 4,
  "nbformat_minor": 0,
  "metadata": {
    "colab": {
      "provenance": [],
      "gpuType": "T4"
    },
    "kernelspec": {
      "name": "python3",
      "display_name": "Python 3"
    },
    "language_info": {
      "name": "python"
    },
    "accelerator": "GPU"
  },
  "cells": [
    {
      "cell_type": "markdown",
      "source": [
        "# **Time Series Forecasting with Transformers**\n",
        "\n",
        "**Objective**: Create a **Transformers-based model** in **Keras** to **predict future values** ​​of a time series.\n",
        "- **Dataset**: We will use daily temperature data from a city.\n",
        "- **Applied Skills**:\n",
        "\n",
        "   - Time Series Preprocessing\n",
        "   - Using Tensors and Operations with TensorFlow\n",
        "   - Implementing a Transformer Encoder\n",
        "   - Training and Evaluation of the Model\n",
        "   - Visualizing the Forecasts"
      ],
      "metadata": {
        "id": "_Ijy_KXtMoY5"
      }
    },
    {
      "cell_type": "code",
      "source": [
        "# Import libraries\n",
        "import tensorflow as tf\n",
        "import numpy as np\n",
        "import matplotlib.pyplot as plt\n",
        "from tensorflow.keras.layers import Layer, Dense, Dropout, LayerNormalization, Input, BatchNormalization\n",
        "from tensorflow.keras.models import Model"
      ],
      "metadata": {
        "id": "51oVz564NPXb"
      },
      "execution_count": null,
      "outputs": []
    },
    {
      "cell_type": "markdown",
      "source": [
        "**Steps**\n",
        "1. **Loading and Preprocessing Data**\n",
        "- We import a **time series dataset** (e.g. daily temperature)\n",
        "- We **normalize the data** and create an input sequence for the model."
      ],
      "metadata": {
        "id": "LW4QANL-Nb1F"
      }
    },
    {
      "cell_type": "code",
      "source": [
        "# Set the random seed for reproducibility\n",
        "np.random.seed(42)\n",
        "\n",
        "# Define the number of timesteps (days in a year)\n",
        "timesteps = 365\n",
        "\n",
        "# Create a linear trend component (increasing from 10 to 30)\n",
        "trend = np.linspace(10, 30, timesteps)\n",
        "\n",
        "# Create a seasonal component using a sine wave\n",
        "seasonal = 5 * np.sin(np.linspace(0, 2 * np.pi, timesteps))\n",
        "\n",
        "# Generate random noise with mean 0 and standard deviation 2\n",
        "noise = np.random.normal(0, 2, timesteps)\n",
        "\n",
        "# Combine trend, seasonality, and noise to create the time series data\n",
        "data = trend + seasonal + noise"
      ],
      "metadata": {
        "id": "zpLgvmT9NrxC"
      },
      "execution_count": null,
      "outputs": []
    },
    {
      "source": [
        "# Creiamo i dati di input per il modello\n",
        "def create_sequences(data, window_size):\n",
        "    \"\"\"\n",
        "    Generates input sequences and corresponding target values for a time series.\n",
        "\n",
        "    Args:\n",
        "        data (array-like): The time series data.\n",
        "        window_size (int): The size of the sliding window used to create sequences.\n",
        "\n",
        "    Returns:\n",
        "        tuple: A tuple containing the input sequences (X) and target values (y).\n",
        "    \"\"\"\n",
        "    X, y = [], [] # Initialize empty lists to store input sequences (X) and target values (y)\n",
        "    for i in range(len(data) - window_size): # Iterate through the data, leaving space for the window\n",
        "        X.append(data[i:i+window_size]) # Extract a window of data and add it to X\n",
        "        y.append(data[i+window_size]) # Add the next value\n",
        "    return np.array(X), np.array(y)"
      ],
      "cell_type": "code",
      "metadata": {
        "id": "VqomMM8zP9ja"
      },
      "execution_count": null,
      "outputs": []
    },
    {
      "cell_type": "code",
      "source": [
        "window_size = 60  # Define the size of the sliding window (60 data points)\n",
        "X, y = create_sequences(data, window_size)  # Create input sequences (X) and targets (y) using the function\n",
        "X = X[..., np.newaxis]  # Add a new axis to X to make it compatible with the model (shape: [samples, timesteps, features])"
      ],
      "metadata": {
        "id": "-ulvhvpWQMfH"
      },
      "execution_count": null,
      "outputs": []
    },
    {
      "cell_type": "code",
      "source": [
        "# Split the data into training and testing sets\n",
        "split = int(0.8 * len(X))  # Calculate the split index (80% of the data for training)\n",
        "X_train, y_train = X[:split], y[:split]  # Assign data before the split index to training sets\n",
        "X_test, y_test = X[split:], y[split:]  # Assign data after the split index to testing sets\n",
        "\n",
        "# Normalize the data\n",
        "mean = np.mean(X_train)  # Calculate the mean of the training data\n",
        "std = np.std(X_train)  # Calculate the standard deviation of the training data\n",
        "X_train = (X_train - mean) / std  # Normalize the training data using Z-score normalization\n",
        "X_test = (X_test - mean) / std  # Normalize the testing data using the same mean and std from training\n",
        "\n",
        "y_mean = np.mean(y_train)  # Calculate the mean of the training target values\n",
        "y_std = np.std(y_train)  # Calculate the standard deviation of the training target values\n",
        "y_train = (y_train - y_mean) / y_std  # Normalize the training target values\n",
        "y_test = (y_test - y_mean) / y_std  # Normalize the testing target values"
      ],
      "metadata": {
        "id": "25JcfA7tQSQt"
      },
      "execution_count": null,
      "outputs": []
    },
    {
      "cell_type": "markdown",
      "source": [
        "## Transformer Model Construction\n",
        "\n",
        "This section implements a Transformer Encoder using TensorFlow and Keras. It defines the core components of a Transformer Encoder layer: Multi-Head Attention, Layer Normalization, and a Feed-Forward Network.\n",
        "\n",
        "### Layers and Architecture\n",
        "\n",
        "The `TransformerEncoderLayer` is built using the following layers:\n",
        "\n",
        "#### Multi-Head Attention Layer (`self.attn`)\n",
        "\n",
        "- **Purpose**: This layer is the heart of the Transformer. It allows the model to attend to different parts of the input sequence and learn relationships between them.\n",
        "- **Functionality**: It uses multiple \"heads\" (specified by `num_heads`) to focus on different aspects of the data, improving the model's ability to capture complex patterns.\n",
        "- **Implementation**: In this implementation, it's using `tf.keras.layers.MultiHeadAttention`.\n",
        "\n",
        "#### Layer Normalization Layers (`self.norm1`, `self.norm2`)\n",
        "\n",
        "- **Purpose**: Layer Normalization is applied after the Multi-Head Attention and the Feed-Forward Network.\n",
        "- **Functionality**: It normalizes the activations within each layer, stabilizing and accelerating the training process. It normalizes the inputs across the features, as opposed to Batch Normalization which normalizes across the batch.\n",
        "- **Implementation**: Keras' `LayerNormalization` is used here with a small epsilon value for numerical stability.\n",
        "\n",
        "#### Feed-Forward Network (`self.ffn`)\n",
        "\n",
        "- **Purpose**: This is a traditional feed-forward neural network consisting of two dense layers with a ReLU activation in between.\n",
        "- **Functionality**: It processes the output of the Multi-Head Attention layer.\n",
        "- **Implementation**: L2 regularization is applied to the dense layers to prevent overfitting (`kernel_regularizer=tf.keras.regularizers.l2(1.00)`).\n",
        "\n",
        "#### Dropout Layers (`self.dropout1`, `self.dropout2`)\n",
        "\n",
        "- **Purpose**: Dropout is a regularization technique used to prevent overfitting.\n",
        "- **Functionality**: It randomly ignores a fraction of neurons during training, forcing the network to learn more robust features.\n",
        "- **Implementation**: Dropout is applied after the Multi-Head Attention and the Feed-Forward Network.\n",
        "\n",
        "### Data Flow\n",
        "\n",
        "1. The input data (`inputs`) is first passed through the Multi-Head Attention layer (`self.attn`).\n",
        "2. Dropout is applied to the attention output (`self.dropout1`).\n",
        "3. The attention output is added to the original input, and the result is normalized using Layer Normalization (`self.norm1`).\n",
        "4. This normalized output is then fed into the Feed-Forward Network (`self.ffn`).\n",
        "5. Dropout is applied to the output of the Feed-Forward Network (`self.dropout2`).\n",
        "6. The output of the Feed-Forward Network is added to the output of step 3, and the result is normalized using Layer Normalization (`self.norm2`).\n",
        "7. This final normalized output is returned by the `call` method.\n",
        "\n"
      ],
      "metadata": {
        "id": "XS2q5XTVRrpx"
      }
    },
    {
      "cell_type": "code",
      "source": [
        "# Definition of the Transformer Encoder\n",
        "class TransformerEncoderLayer(Layer):  # Define a custom layer class called 'TransformerEncoderLayer', inheriting from 'Layer'\n",
        "    def __init__(self, embed_dim, num_heads, ff_dim, dropout=0.3):  # Initialize the layer with parameters\n",
        "        super(TransformerEncoderLayer, self).__init__()  # Call the constructor of the parent class (Layer)\n",
        "        self.attn = tf.keras.layers.MultiHeadAttention(num_heads=num_heads, key_dim=embed_dim)  # Create a Multi-Head Attention layer\n",
        "        self.norm1 = LayerNormalization(epsilon=1e-6)  # Create a Layer Normalization layer (norm1)\n",
        "        self.norm2 = LayerNormalization(epsilon=1e-6)  # Create another Layer Normalization layer (norm2)\n",
        "        self.ffn = tf.keras.Sequential([  # Create a feed-forward network (ffn) as a sequential model\n",
        "            Dense(ff_dim, activation='relu', kernel_regularizer=tf.keras.regularizers.l2(1.00)),  # Dense layer with ReLU and L2 regularization\n",
        "            Dropout(dropout),  # Dropout layer\n",
        "            Dense(embed_dim, kernel_regularizer=tf.keras.regularizers.l2(1.00))  # Another dense layer with L2 regularization\n",
        "        ])\n",
        "        self.dropout1 = Dropout(dropout)  # Create a Dropout layer (dropout1)\n",
        "        self.dropout2 = Dropout(dropout)  # Create another Dropout layer (dropout2)\n",
        "\n",
        "    def call(self, inputs, training=False):  # Define the forward pass of the layer\n",
        "        attn_output = self.attn(inputs, inputs)  # Apply Multi-Head Attention to the inputs\n",
        "        attn_output = self.dropout1(attn_output, training=training)  # Apply dropout1 to the attention output\n",
        "        out1 = self.norm1(inputs + attn_output)  # Add inputs and attention output, then normalize with norm1\n",
        "        ffn_output = self.ffn(out1, training=training)  # Pass the output through the feed-forward network\n",
        "        ffn_output = self.dropout2(ffn_output, training=training)  # Apply dropout2 to the ffn output\n",
        "        return self.norm2(out1 + ffn_output)  # Add out1 and ffn output, then normalize with norm2 and return"
      ],
      "metadata": {
        "id": "B4kY3YLfTa5P"
      },
      "execution_count": null,
      "outputs": []
    },
    {
      "cell_type": "markdown",
      "source": [
        "## Transformer Model Construction\n",
        "\n",
        "This section implements a Transformer-based model for time series forecasting using TensorFlow and Keras. It combines a Dense layer, Batch Normalization, Dropout, two Transformer Encoder layers, Global Average Pooling, and a final Dense layer for prediction.\n",
        "\n",
        "### Layers and Architecture\n",
        "\n",
        "The `create_transformer_model` function constructs a model with the following layers:\n",
        "\n",
        "#### Input Layer\n",
        "\n",
        "- **Purpose**: Receives the time series data with the specified input shape.\n",
        "- **Functionality**: Acts as the entry point for the data into the model.\n",
        "- **Implementation**: `Input(shape=input_shape)`\n",
        "\n",
        "#### Dense Layer\n",
        "\n",
        "- **Purpose**: Applies a linear transformation to the input data.\n",
        "- **Functionality**: Extracts features from the input sequence.\n",
        "- **Implementation**: `Dense(128, activation='relu', kernel_regularizer=tf.keras.regularizers.l2(0.05))`\n",
        "  - Uses 128 neurons.\n",
        "  - ReLU activation function introduces non-linearity.\n",
        "  - L2 regularization helps prevent overfitting.\n",
        "\n",
        "#### Batch Normalization Layer\n",
        "\n",
        "- **Purpose**: Normalizes the activations of the previous layer.\n",
        "- **Functionality**: Improves training stability and speed by reducing internal covariate shift.\n",
        "- **Implementation**: `BatchNormalization()`\n",
        "\n",
        "#### Dropout Layer\n",
        "\n",
        "- **Purpose**: Randomly sets a fraction of input units to 0 during training.\n",
        "- **Functionality**: Helps prevent overfitting by reducing dependence on individual neurons.\n",
        "- **Implementation**: `Dropout(0.3)` (30% dropout rate)\n",
        "\n",
        "#### Transformer Encoder Layers (x2)\n",
        "\n",
        "- **Purpose**: The core of the model, responsible for capturing temporal dependencies.\n",
        "- **Functionality**: Uses Multi-Head Attention to learn relationships between different parts of the input sequence. Includes Layer Normalization and a Feed-Forward Network within each encoder layer.\n",
        "- **Implementation**: `TransformerEncoderLayer(embed_dim=128, num_heads=2, ff_dim=256, dropout=0.3)`\n",
        "  - `embed_dim`: Dimensionality of the embedding space (128).\n",
        "  - `num_heads`: Number of attention heads (2).\n",
        "  - `ff_dim`: Dimensionality of the feed-forward network (256).\n",
        "  - `dropout`: Dropout rate within the encoder layer (0.3).\n",
        "\n",
        "#### Global Average Pooling 1D Layer\n",
        "\n",
        "- **Purpose**: Averages the output of the Transformer Encoder layers across the time dimension.\n",
        "- **Functionality**: Reduces the dimensionality of the data while preserving important information.\n",
        "- **Implementation**: `tf.keras.layers.GlobalAveragePooling1D()`\n",
        "\n",
        "#### Output Layer\n",
        "\n",
        "- **Purpose**: Produces the final prediction.\n",
        "- **Functionality**: Maps the processed features to a single output value.\n",
        "- **Implementation**: `Dense(1)` (single neuron for regression)\n"
      ],
      "metadata": {
        "id": "AEKySDf7FwOi"
      }
    },
    {
      "cell_type": "code",
      "source": [
        "def create_transformer_model(input_shape):\n",
        "    inputs = Input(shape=input_shape)\n",
        "    x = Dense(128, activation='relu', kernel_regularizer=tf.keras.regularizers.l2(0.05))(inputs)\n",
        "    x = BatchNormalization()(x)  # BatchNormalization mantiene la stabilità\n",
        "    x = Dropout(0.3)(x)  # Dropout ridotto\n",
        "    x = TransformerEncoderLayer(embed_dim=128, num_heads=2, ff_dim=256, dropout=0.3)(x)\n",
        "    x = TransformerEncoderLayer(embed_dim=128, num_heads=2, ff_dim=256, dropout=0.3)(x)\n",
        "    x = tf.keras.layers.GlobalAveragePooling1D()(x)\n",
        "    outputs = Dense(1)(x)\n",
        "    return Model(inputs, outputs)\n",
        "\n",
        "model = create_transformer_model((window_size, 1))"
      ],
      "metadata": {
        "id": "fjENf_N9VtFl"
      },
      "execution_count": null,
      "outputs": []
    },
    {
      "cell_type": "markdown",
      "source": [
        "## Learning Rate\n",
        "\n",
        "The learning rate is a crucial hyperparameter that controls the step size during the optimization process. It determines how much the model's weights are adjusted based on the calculated error.\n",
        "\n",
        "- A smaller learning rate means the model's weights are updated more slowly, leading to more stable training but potentially requiring more time to converge.\n",
        "- A larger learning rate can lead to faster convergence, but it may also cause the model to overshoot the optimal solution and oscillate or diverge.\n",
        "\n",
        "## Learning Rate Scheduler (`lr_scheduler`)\n",
        "\n",
        "### ReduceLROnPlateau\n",
        "\n",
        "This learning rate scheduler automatically reduces the learning rate when a metric (in this case, `val_loss`) has stopped improving.\n",
        "\n",
        "- **monitor='val_loss'**: It monitors the validation loss to determine if the model is improving.\n",
        "- **factor=0.5**: When the validation loss plateaus, the learning rate is reduced by a factor of 0.5 (halved).\n",
        "- **patience=3**: The scheduler waits for 3 epochs (patience) without improvement before reducing the learning rate.\n",
        "- **min_lr=1e-6**: This sets a lower bound for the learning rate, preventing it from getting too small and potentially hindering training.\n",
        "\n",
        "## Optimizer (`AdamW`)\n",
        "\n",
        "### AdamW (Adam with Weight Decay)\n",
        "\n",
        "AdamW is a variant of the popular Adam optimizer, often preferred for training deep learning models, especially Transformers. It combines the benefits of Adam (adaptive learning rates) with weight decay, a regularization technique that helps prevent overfitting.\n",
        "\n",
        "- **learning_rate=initial_learning_rate**: Sets the initial learning rate for the AdamW optimizer.\n",
        "- **clipnorm=1.0**: Clips the gradients to a maximum norm of 1.0. This helps prevent exploding gradients, which can destabilize training.\n",
        "\n",
        "## `model.compile()`\n",
        "\n",
        "This function configures the model for training.\n",
        "\n",
        "- **optimizer**: Specifies the optimization algorithm to use (AdamW in this case).\n",
        "- **loss**: Defines the loss function to minimize during training (Mean Squared Error - 'mse' here).\n",
        "\n",
        "## `model.summary()`\n",
        "\n",
        "Prints a summary of the model's architecture, including the layers, output shapes, and the number of trainable parameters. This is useful for understanding the structure of your model."
      ],
      "metadata": {
        "id": "QeNf6Y0RGUTE"
      }
    },
    {
      "cell_type": "markdown",
      "source": [
        "- **MSE (Mean Squared Error) Loss Function**:\n",
        "MSE is a loss function that **calculates the mean squared difference** between the **predicted and actual values**, penalizing larger errors more.\n"
      ],
      "metadata": {
        "id": "oGk_hHkAWLXx"
      }
    },
    {
      "cell_type": "code",
      "source": [
        "# Learning Rate and Optimizer Configuration\n",
        "\n",
        "initial_learning_rate = 3e-4  # Set the initial learning rate to 0.0003\n",
        "\n",
        "# lr_schedule = tf.keras.optimizers.schedules.PolynomialDecay(\n",
        "#    initial_learning_rate, decay_steps=80, end_learning_rate=final_learning_rate\n",
        "# )\n",
        "# This is an example of a learning rate scheduler that gradually decreases\n",
        "# the learning rate over time. It's commented out here, but you can use it\n",
        "# instead of ReduceLROnPlateau if desired.\n",
        "\n",
        "# Learning Rate Scheduler using ReduceLROnPlateau\n",
        "lr_scheduler = tf.keras.callbacks.ReduceLROnPlateau(\n",
        "    monitor='val_loss',  # Monitor the validation loss for learning rate adjustments\n",
        "    factor=0.5,        # Reduce the learning rate by a factor of 0.5 (halve it)\n",
        "    patience=3,        # Number of epochs with no improvement after which to reduce LR\n",
        "    min_lr=1e-6       # Minimum learning rate (to prevent it from going to zero)\n",
        ")\n",
        "\n",
        "# Compile the model\n",
        "model.compile(\n",
        "    optimizer=tf.keras.optimizers.AdamW(learning_rate=initial_learning_rate, clipnorm=1.0),\n",
        "    loss='mse'  # Use Mean Squared Error as the loss function\n",
        ")\n",
        "\n",
        "# Print a summary of the model's architecture\n",
        "model.summary()"
      ],
      "metadata": {
        "colab": {
          "base_uri": "https://localhost:8080/",
          "height": 449
        },
        "id": "yEWhzsnqaUIz",
        "outputId": "4b0967cb-d6f6-450d-ed04-adb142be82b0"
      },
      "execution_count": null,
      "outputs": [
        {
          "output_type": "display_data",
          "data": {
            "text/plain": [
              "\u001b[1mModel: \"functional_153\"\u001b[0m\n"
            ],
            "text/html": [
              "<pre style=\"white-space:pre;overflow-x:auto;line-height:normal;font-family:Menlo,'DejaVu Sans Mono',consolas,'Courier New',monospace\"><span style=\"font-weight: bold\">Model: \"functional_153\"</span>\n",
              "</pre>\n"
            ]
          },
          "metadata": {}
        },
        {
          "output_type": "display_data",
          "data": {
            "text/plain": [
              "┏━━━━━━━━━━━━━━━━━━━━━━━━━━━━━━━━━━━━━━┳━━━━━━━━━━━━━━━━━━━━━━━━━━━━━┳━━━━━━━━━━━━━━━━━┓\n",
              "┃\u001b[1m \u001b[0m\u001b[1mLayer (type)                        \u001b[0m\u001b[1m \u001b[0m┃\u001b[1m \u001b[0m\u001b[1mOutput Shape               \u001b[0m\u001b[1m \u001b[0m┃\u001b[1m \u001b[0m\u001b[1m        Param #\u001b[0m\u001b[1m \u001b[0m┃\n",
              "┡━━━━━━━━━━━━━━━━━━━━━━━━━━━━━━━━━━━━━━╇━━━━━━━━━━━━━━━━━━━━━━━━━━━━━╇━━━━━━━━━━━━━━━━━┩\n",
              "│ input_layer_151 (\u001b[38;5;33mInputLayer\u001b[0m)         │ (\u001b[38;5;45mNone\u001b[0m, \u001b[38;5;34m60\u001b[0m, \u001b[38;5;34m1\u001b[0m)               │               \u001b[38;5;34m0\u001b[0m │\n",
              "├──────────────────────────────────────┼─────────────────────────────┼─────────────────┤\n",
              "│ dense_302 (\u001b[38;5;33mDense\u001b[0m)                    │ (\u001b[38;5;45mNone\u001b[0m, \u001b[38;5;34m60\u001b[0m, \u001b[38;5;34m128\u001b[0m)             │             \u001b[38;5;34m256\u001b[0m │\n",
              "├──────────────────────────────────────┼─────────────────────────────┼─────────────────┤\n",
              "│ batch_normalization_40               │ (\u001b[38;5;45mNone\u001b[0m, \u001b[38;5;34m60\u001b[0m, \u001b[38;5;34m128\u001b[0m)             │             \u001b[38;5;34m512\u001b[0m │\n",
              "│ (\u001b[38;5;33mBatchNormalization\u001b[0m)                 │                             │                 │\n",
              "├──────────────────────────────────────┼─────────────────────────────┼─────────────────┤\n",
              "│ dropout_427 (\u001b[38;5;33mDropout\u001b[0m)                │ (\u001b[38;5;45mNone\u001b[0m, \u001b[38;5;34m60\u001b[0m, \u001b[38;5;34m128\u001b[0m)             │               \u001b[38;5;34m0\u001b[0m │\n",
              "├──────────────────────────────────────┼─────────────────────────────┼─────────────────┤\n",
              "│ transformer_encoder_layer_97         │ (\u001b[38;5;45mNone\u001b[0m, \u001b[38;5;34m60\u001b[0m, \u001b[38;5;34m128\u001b[0m)             │         \u001b[38;5;34m198,400\u001b[0m │\n",
              "│ (\u001b[38;5;33mTransformerEncoderLayer\u001b[0m)            │                             │                 │\n",
              "├──────────────────────────────────────┼─────────────────────────────┼─────────────────┤\n",
              "│ transformer_encoder_layer_98         │ (\u001b[38;5;45mNone\u001b[0m, \u001b[38;5;34m60\u001b[0m, \u001b[38;5;34m128\u001b[0m)             │         \u001b[38;5;34m198,400\u001b[0m │\n",
              "│ (\u001b[38;5;33mTransformerEncoderLayer\u001b[0m)            │                             │                 │\n",
              "├──────────────────────────────────────┼─────────────────────────────┼─────────────────┤\n",
              "│ global_average_pooling1d_54          │ (\u001b[38;5;45mNone\u001b[0m, \u001b[38;5;34m128\u001b[0m)                 │               \u001b[38;5;34m0\u001b[0m │\n",
              "│ (\u001b[38;5;33mGlobalAveragePooling1D\u001b[0m)             │                             │                 │\n",
              "├──────────────────────────────────────┼─────────────────────────────┼─────────────────┤\n",
              "│ dense_307 (\u001b[38;5;33mDense\u001b[0m)                    │ (\u001b[38;5;45mNone\u001b[0m, \u001b[38;5;34m1\u001b[0m)                   │             \u001b[38;5;34m129\u001b[0m │\n",
              "└──────────────────────────────────────┴─────────────────────────────┴─────────────────┘\n"
            ],
            "text/html": [
              "<pre style=\"white-space:pre;overflow-x:auto;line-height:normal;font-family:Menlo,'DejaVu Sans Mono',consolas,'Courier New',monospace\">┏━━━━━━━━━━━━━━━━━━━━━━━━━━━━━━━━━━━━━━┳━━━━━━━━━━━━━━━━━━━━━━━━━━━━━┳━━━━━━━━━━━━━━━━━┓\n",
              "┃<span style=\"font-weight: bold\"> Layer (type)                         </span>┃<span style=\"font-weight: bold\"> Output Shape                </span>┃<span style=\"font-weight: bold\">         Param # </span>┃\n",
              "┡━━━━━━━━━━━━━━━━━━━━━━━━━━━━━━━━━━━━━━╇━━━━━━━━━━━━━━━━━━━━━━━━━━━━━╇━━━━━━━━━━━━━━━━━┩\n",
              "│ input_layer_151 (<span style=\"color: #0087ff; text-decoration-color: #0087ff\">InputLayer</span>)         │ (<span style=\"color: #00d7ff; text-decoration-color: #00d7ff\">None</span>, <span style=\"color: #00af00; text-decoration-color: #00af00\">60</span>, <span style=\"color: #00af00; text-decoration-color: #00af00\">1</span>)               │               <span style=\"color: #00af00; text-decoration-color: #00af00\">0</span> │\n",
              "├──────────────────────────────────────┼─────────────────────────────┼─────────────────┤\n",
              "│ dense_302 (<span style=\"color: #0087ff; text-decoration-color: #0087ff\">Dense</span>)                    │ (<span style=\"color: #00d7ff; text-decoration-color: #00d7ff\">None</span>, <span style=\"color: #00af00; text-decoration-color: #00af00\">60</span>, <span style=\"color: #00af00; text-decoration-color: #00af00\">128</span>)             │             <span style=\"color: #00af00; text-decoration-color: #00af00\">256</span> │\n",
              "├──────────────────────────────────────┼─────────────────────────────┼─────────────────┤\n",
              "│ batch_normalization_40               │ (<span style=\"color: #00d7ff; text-decoration-color: #00d7ff\">None</span>, <span style=\"color: #00af00; text-decoration-color: #00af00\">60</span>, <span style=\"color: #00af00; text-decoration-color: #00af00\">128</span>)             │             <span style=\"color: #00af00; text-decoration-color: #00af00\">512</span> │\n",
              "│ (<span style=\"color: #0087ff; text-decoration-color: #0087ff\">BatchNormalization</span>)                 │                             │                 │\n",
              "├──────────────────────────────────────┼─────────────────────────────┼─────────────────┤\n",
              "│ dropout_427 (<span style=\"color: #0087ff; text-decoration-color: #0087ff\">Dropout</span>)                │ (<span style=\"color: #00d7ff; text-decoration-color: #00d7ff\">None</span>, <span style=\"color: #00af00; text-decoration-color: #00af00\">60</span>, <span style=\"color: #00af00; text-decoration-color: #00af00\">128</span>)             │               <span style=\"color: #00af00; text-decoration-color: #00af00\">0</span> │\n",
              "├──────────────────────────────────────┼─────────────────────────────┼─────────────────┤\n",
              "│ transformer_encoder_layer_97         │ (<span style=\"color: #00d7ff; text-decoration-color: #00d7ff\">None</span>, <span style=\"color: #00af00; text-decoration-color: #00af00\">60</span>, <span style=\"color: #00af00; text-decoration-color: #00af00\">128</span>)             │         <span style=\"color: #00af00; text-decoration-color: #00af00\">198,400</span> │\n",
              "│ (<span style=\"color: #0087ff; text-decoration-color: #0087ff\">TransformerEncoderLayer</span>)            │                             │                 │\n",
              "├──────────────────────────────────────┼─────────────────────────────┼─────────────────┤\n",
              "│ transformer_encoder_layer_98         │ (<span style=\"color: #00d7ff; text-decoration-color: #00d7ff\">None</span>, <span style=\"color: #00af00; text-decoration-color: #00af00\">60</span>, <span style=\"color: #00af00; text-decoration-color: #00af00\">128</span>)             │         <span style=\"color: #00af00; text-decoration-color: #00af00\">198,400</span> │\n",
              "│ (<span style=\"color: #0087ff; text-decoration-color: #0087ff\">TransformerEncoderLayer</span>)            │                             │                 │\n",
              "├──────────────────────────────────────┼─────────────────────────────┼─────────────────┤\n",
              "│ global_average_pooling1d_54          │ (<span style=\"color: #00d7ff; text-decoration-color: #00d7ff\">None</span>, <span style=\"color: #00af00; text-decoration-color: #00af00\">128</span>)                 │               <span style=\"color: #00af00; text-decoration-color: #00af00\">0</span> │\n",
              "│ (<span style=\"color: #0087ff; text-decoration-color: #0087ff\">GlobalAveragePooling1D</span>)             │                             │                 │\n",
              "├──────────────────────────────────────┼─────────────────────────────┼─────────────────┤\n",
              "│ dense_307 (<span style=\"color: #0087ff; text-decoration-color: #0087ff\">Dense</span>)                    │ (<span style=\"color: #00d7ff; text-decoration-color: #00d7ff\">None</span>, <span style=\"color: #00af00; text-decoration-color: #00af00\">1</span>)                   │             <span style=\"color: #00af00; text-decoration-color: #00af00\">129</span> │\n",
              "└──────────────────────────────────────┴─────────────────────────────┴─────────────────┘\n",
              "</pre>\n"
            ]
          },
          "metadata": {}
        },
        {
          "output_type": "display_data",
          "data": {
            "text/plain": [
              "\u001b[1m Total params: \u001b[0m\u001b[38;5;34m397,697\u001b[0m (1.52 MB)\n"
            ],
            "text/html": [
              "<pre style=\"white-space:pre;overflow-x:auto;line-height:normal;font-family:Menlo,'DejaVu Sans Mono',consolas,'Courier New',monospace\"><span style=\"font-weight: bold\"> Total params: </span><span style=\"color: #00af00; text-decoration-color: #00af00\">397,697</span> (1.52 MB)\n",
              "</pre>\n"
            ]
          },
          "metadata": {}
        },
        {
          "output_type": "display_data",
          "data": {
            "text/plain": [
              "\u001b[1m Trainable params: \u001b[0m\u001b[38;5;34m397,441\u001b[0m (1.52 MB)\n"
            ],
            "text/html": [
              "<pre style=\"white-space:pre;overflow-x:auto;line-height:normal;font-family:Menlo,'DejaVu Sans Mono',consolas,'Courier New',monospace\"><span style=\"font-weight: bold\"> Trainable params: </span><span style=\"color: #00af00; text-decoration-color: #00af00\">397,441</span> (1.52 MB)\n",
              "</pre>\n"
            ]
          },
          "metadata": {}
        },
        {
          "output_type": "display_data",
          "data": {
            "text/plain": [
              "\u001b[1m Non-trainable params: \u001b[0m\u001b[38;5;34m256\u001b[0m (1.00 KB)\n"
            ],
            "text/html": [
              "<pre style=\"white-space:pre;overflow-x:auto;line-height:normal;font-family:Menlo,'DejaVu Sans Mono',consolas,'Courier New',monospace\"><span style=\"font-weight: bold\"> Non-trainable params: </span><span style=\"color: #00af00; text-decoration-color: #00af00\">256</span> (1.00 KB)\n",
              "</pre>\n"
            ]
          },
          "metadata": {}
        }
      ]
    },
    {
      "cell_type": "markdown",
      "source": [
        "## Model: \"functional_150\"\n",
        "\n",
        "| Layer (type)                     | Output Shape       | Param #    |\n",
        "|----------------------------------|--------------------|------------|\n",
        "| input_layer_148 (InputLayer)     | (None, 60, 1)      | 0          |\n",
        "| dense_296 (Dense)                | (None, 60, 128)    | 256        |\n",
        "| batch_normalization_39           | (None, 60, 128)    | 512        |\n",
        "| (BatchNormalization)             |                    |            |\n",
        "| dropout_418 (Dropout)            | (None, 60, 128)    | 0          |\n",
        "| transformer_encoder_layer_95     | (None, 60, 128)    | 198,400    |\n",
        "| (TransformerEncoderLayer)        |                    |            |\n",
        "| transformer_encoder_layer_96     | (None, 60, 128)    | 198,400    |\n",
        "| (TransformerEncoderLayer)        |                    |            |\n",
        "| global_average_pooling1d_53      | (None, 128)        | 0          |\n",
        "| (GlobalAveragePooling1D)         |                    |            |\n",
        "| dense_301 (Dense)                | (None, 1)          | 129        |\n",
        "\n",
        "**Total params**: 397,697 (1.52 MB)  \n",
        "**Trainable params**: 397,441 (1.52 MB)  \n",
        "**Non-trainable params**: 256 (1.00 KB)  \n",
        "\n",
        "### Explanation of the Table Structure\n",
        "\n",
        "- **Layer (type)**: The name and type of the layer.\n",
        "- **Output Shape**: The shape of the output produced by the layer.\n",
        "- **Param #**: The number of trainable parameters in the layer.\n",
        "\n",
        "### Layer Details\n",
        "\n",
        "1. **Input Layer**:\n",
        "   - **Layer (type)**: `input_layer_148 (InputLayer)`\n",
        "   - **Output Shape**: `(None, 60, 1)`\n",
        "   - **Param #**: `0`\n",
        "   - **Description**: Receives input data with the specified shape `(60, 1)`.\n",
        "\n",
        "2. **Dense Layer**:\n",
        "   - **Layer (type)**: `dense_296 (Dense)`\n",
        "   - **Output Shape**: `(None, 60, 128)`\n",
        "   - **Param #**: `256`\n",
        "   - **Description**: Applies a linear transformation with 128 neurons and ReLU activation.\n",
        "\n",
        "3. **Batch Normalization Layer**:\n",
        "   - **Layer (type)**: `batch_normalization_39 (BatchNormalization)`\n",
        "   - **Output Shape**: `(None, 60, 128)`\n",
        "   - **Param #**: `512`\n",
        "   - **Description**: Normalizes activations to improve training stability and speed.\n",
        "\n",
        "4. **Dropout Layer**:\n",
        "   - **Layer (type)**: `dropout_418 (Dropout)`\n",
        "   - **Output Shape**: `(None, 60, 128)`\n",
        "   - **Param #**: `0`\n",
        "   - **Description**: Applies dropout to prevent overfitting by randomly deactivating 30% of the units during training.\n",
        "\n",
        "5. **Transformer Encoder Layers**:\n",
        "   - **Layer (type)**: `transformer_encoder_layer_95 (TransformerEncoderLayer)`\n",
        "   - **Output Shape**: `(None, 60, 128)`\n",
        "   - **Param #**: `198,400`\n",
        "   - **Description**: Captures temporal dependencies using multi-head attention and a feed-forward network.\n",
        "   - **Layer (type)**: `transformer_encoder_layer_96 (TransformerEncoderLayer)`\n",
        "   - **Output Shape**: `(None, 60, 128)`\n",
        "   - **Param #**: `198,400`\n",
        "   - **Description**: A second Transformer Encoder layer to further capture temporal dependencies.\n",
        "\n",
        "6. **Global Average Pooling 1D Layer**:\n",
        "   - **Layer (type)**: `global_average_pooling1d_53 (GlobalAveragePooling1D)`\n",
        "   - **Output Shape**: `(None, 128)`\n",
        "   - **Param #**: `0`\n",
        "   - **Description**: Reduces data dimensionality by averaging along the time dimension.\n",
        "\n",
        "7. **Output Layer**:\n",
        "   - **Layer (type)**: `dense_301 (Dense)`\n",
        "   - **Output Shape**: `(None, 1)`\n",
        "   - **Param #**: `129`\n",
        "   - **Description**: Produces the final prediction with a single neuron for regression.\n",
        "\n",
        "### Total Parameters\n",
        "\n",
        "- **Total params**: `397,697` (1.52 MB)\n",
        "  - The total number of parameters in the model, including trainable and non-trainable parameters.\n",
        "- **Trainable params**: `397,441` (1.52 MB)\n",
        "  - The number of parameters that will be updated during training.\n",
        "- **Non-trainable params**: `256` (1.00 KB)\n",
        "  - The number of parameters that will not be updated during training (e.g., normalization parameters).\n",
        "\n",
        "This table provides a detailed overview of the model structure, showing how data flows through the various layers and the number of parameters involved in each layer."
      ],
      "metadata": {
        "id": "kjELoL_AW2hw"
      }
    },
    {
      "cell_type": "code",
      "source": [
        "# We implement Early Stopping\n",
        "early_stopping = tf.keras.callbacks.EarlyStopping(\n",
        "    monitor='val_loss',\n",
        "    patience=10,\n",
        "    restore_best_weights=True\n",
        ")"
      ],
      "metadata": {
        "id": "cEteeRP_bRmv"
      },
      "execution_count": null,
      "outputs": []
    },
    {
      "cell_type": "markdown",
      "source": [
        " This technique is used to **prevent overfitting** and improve the model's ability to generalize to new, unseen data.\n",
        "\n",
        "- **Monitoring a metric**: Watching a metric like validation loss (*val_loss*) to assess **model performance on unseen data**.\n",
        "- **Waiting for improvement**: **Allowing a certain number of epochs** (*patience*) for the metric to improve **before stopping**.\n",
        "- **Restoring best weights**: **Reverting to the model weights** that achieved the **best performance** on the monitored metric."
      ],
      "metadata": {
        "id": "KQGMQ3JwbeJZ"
      }
    },
    {
      "cell_type": "code",
      "source": [
        "# Training\n",
        "history = model.fit(X_train, y_train, epochs=100, batch_size=8, validation_data=(X_test, y_test), verbose=1, callbacks=[early_stopping, lr_scheduler])"
      ],
      "metadata": {
        "colab": {
          "base_uri": "https://localhost:8080/"
        },
        "id": "KLA0U455WX7y",
        "outputId": "0f68181f-76fa-4f18-c089-e89fde4826cb"
      },
      "execution_count": null,
      "outputs": [
        {
          "metadata": {
            "tags": null
          },
          "name": "stdout",
          "output_type": "stream",
          "text": [
            "Epoch 1/100\n"
          ]
        }
      ]
    },
    {
      "cell_type": "markdown",
      "source": [
        "**`.fit()` Arguments:**\n",
        "\n",
        "* **`X_train`:** Training data (input features).\n",
        "* **`y_train`:** Target values for training data.\n",
        "* **`epochs`:** Number of training iterations over the entire dataset (default: 1).\n",
        "* **`batch_size`:** Number of samples processed before updating model weights (default: 32).\n",
        "* **`validation_data`:** Data used to evaluate the model during training.\n",
        "* **`verbose`:** Controls the amount of training output (0: silent, 1: progress bar, 2: one line per epoch)."
      ],
      "metadata": {
        "id": "_j3Wifq1Xi1e"
      }
    },
    {
      "cell_type": "code",
      "source": [
        "# Forecasting and evaluation\n",
        "preds = model.predict(X_test) * y_std + y_mean # Denormalize the forecasts\n",
        "y_test = y_test * y_std + y_mean # Denormalize the actual values\n",
        "\n",
        "plt.plot(y_test, label='Actual Values')\n",
        "plt.plot(preds, label='Forecast', linestyle='dashed')\n",
        "plt.legend()\n",
        "plt.title(\"Temperature Forecast with Transformer\")\n",
        "plt.show()"
      ],
      "metadata": {
        "colab": {
          "base_uri": "https://localhost:8080/",
          "height": 470
        },
        "id": "ZLNSbU8mCADE",
        "outputId": "8a80779c-5ccf-4b0f-e640-93ddae8b84ed"
      },
      "execution_count": null,
      "outputs": [
        {
          "output_type": "stream",
          "name": "stdout",
          "text": [
            "\u001b[1m2/2\u001b[0m \u001b[32m━━━━━━━━━━━━━━━━━━━━\u001b[0m\u001b[37m\u001b[0m \u001b[1m1s\u001b[0m 217ms/step\n"
          ]
        },
        {
          "output_type": "display_data",
          "data": {
            "text/plain": [
              "<Figure size 640x480 with 1 Axes>"
            ],
            "image/png": "[encoded data removed]"
          },
          "metadata": {}
        }
      ]
    },
    {
      "cell_type": "markdown",
      "source": [
        "### Analysis of Results\n",
        "\n",
        "#### 1. **Loss and Val Loss**\n",
        "   - **Loss:** Measures the average error on the **training** data.\n",
        "   - **Val Loss:** Measures the average error on the **validation** data, indicating the model's ability to generalize.\n",
        "\n",
        "#### 2. **Training Evolution**\n",
        "   - **Loss consistently decreases**, showing that the model is learning.\n",
        "   - **Val Loss follows a similar trend** but stabilizes or fluctuates at some point.\n",
        "\n",
        "#### 3. **Overfitting or Underfitting?**\n",
        "   - **Overfitting:** If **val_loss > loss** and starts increasing, the model is memorizing training data instead of generalizing.\n",
        "   - **Underfitting:** If both **loss and val_loss remain high**, the model is not learning enough.\n",
        "\n",
        "#### 4. **Current Interpretation**\n",
        "   - The **initial epochs show a strong decrease in loss and val_loss**, indicating proper learning.\n",
        "   - **After epoch 100, val_loss stabilizes around 7.3**, suggesting a decent generalization.\n",
        "\n",
        "#### 5. **Possible Improvements**\n",
        "   - **Regularization:** Dropout and L2 regularization already help prevent overfitting.\n",
        "   - **Learning Rate Reduction:** Could improve stability in later epochs.\n",
        "   - **More Data?** If data is limited, generalization might suffer.\n",
        "\n",
        "### **Conclusion**\n",
        "- **Good performance** with an **acceptable val_loss** for time series forecasting.\n",
        "- **Optimization is possible**, but without overfitting.\n",
        "- **Fine-tuning the learning rate** in later epochs could enhance stability.\n"
      ],
      "metadata": {
        "id": "cku_HiS5rRXW"
      }
    },
    {
      "cell_type": "markdown",
      "source": [
        "## **Early Stopping: Why It's Not a Problem!**\n",
        "\n",
        "### **Why Is It Not a Problem?**\n",
        "1. **Prevents Overfitting**  \n",
        "   - If `val_loss` **stops improving or starts increasing**, the model is learning **noise** instead of generalizing.  \n",
        "   - Early stopping **prevents memorizing unnecessary details** from the training data.\n",
        "\n",
        "2. **Saves Time and Resources**  \n",
        "   - If improvement stops after **30-40 epochs**, running **100 epochs** is **wasteful**.  \n",
        "   - **Early Stopping** finds the optimal number of epochs **without manual tuning**.\n",
        "\n",
        "3. **Restores the Best Weights**  \n",
        "   - With `restore_best_weights=True`, the model **does not use the last epoch’s weights** but the ones from **the best val_loss**.  \n",
        "   - If it stops at **epoch 40**, it might actually use **epoch 32’s weights**.\n",
        "\n",
        "---\n",
        "\n",
        "### **What Happens If Training Stops Early?**\n",
        "- **Stops at Epoch 30 (out of 100):**  \n",
        "  The model **stopped improving** after 30 epochs, so the extra 70 epochs were **unnecessary**.\n",
        "\n",
        "- **Stops at Epoch 70 (out of 100):**  \n",
        "  The model **kept improving** until epoch 70.\n",
        "\n",
        "---\n",
        "\n",
        "### **How to Check If Early Stopping Was Effective?**\n",
        "After training, check how many epochs were actually used:\n",
        "\n",
        "```python\n",
        "print(f\"Training stopped at epoch {len(history.history['loss'])}\")\n"
      ],
      "metadata": {
        "id": "GlkG0Cs-BzxV"
      }
    }
  ]
}